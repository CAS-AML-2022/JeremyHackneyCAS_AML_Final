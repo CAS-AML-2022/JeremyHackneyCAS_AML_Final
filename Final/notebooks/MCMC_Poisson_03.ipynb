{
 "cells": [
  {
   "attachments": {},
   "cell_type": "markdown",
   "metadata": {},
   "source": [
    "# Poisson MCMC\n",
    "- runs MCMC for Poisson (Gamma distributed log-likelihood for lambdas) with MH sampling\n",
    "    - $\\lambda_{proposal}$ chosen in random walk  up or down from $\\lambda_{current}$ in the space of positive integers\n",
    "    - step of random walk shortens if acceptance too low, lengthens if acceptance too high\n",
    "- runs MCMC for Y: IxN time steps and X: JxN time steps\n",
    "    - One $\\lambda$ per time slice and route\n",
    "- run same for Negative Binomial\n",
    "    - It is not clear whether I'm already generating negative binomial distributions ?\n",
    "    - https://statisticalmodeling.wordpress.com/2018/10/25/gamma-distribution-and-poisson-distribution/\n",
    "    - The std dev of the result is heavily influenced by the result being stuck over long periods, so dispersion is hard to calculate\n"
   ]
  },
  {
   "attachments": {},
   "cell_type": "markdown",
   "metadata": {},
   "source": [
    "# Compressive sampling / network tomography workbook\n",
    "### Implement Dey, et al. toy model from Figure 1\n",
    "- Subrasankha Dey, Stephen Winter and Martin Tomko, Origin-Destination Flow Estimation from Link Count Data Only, Sensors 2020, 20, 5226.\n",
    "### Compare output with workbook CompressionSensing_7.ipynb"
   ]
  },
  {
   "attachments": {},
   "cell_type": "markdown",
   "metadata": {},
   "source": [
    "@article{diamond2016cvxpy,\n",
    "  author  = {Steven Diamond and Stephen Boyd},\n",
    "  title   = {{CVXPY}: {A} {P}ython-embedded modeling language for convex optimization},\n",
    "  journal = {Journal of Machine Learning Research},\n",
    "  year    = {2016},\n",
    "  volume  = {17},\n",
    "  number  = {83},\n",
    "  pages   = {1--5},\n",
    "}"
   ]
  },
  {
   "attachments": {},
   "cell_type": "markdown",
   "metadata": {},
   "source": [
    "# Use final_project environment\n",
    "-cvxpy\n",
    "-osmnx\n",
    "-pytorch\n",
    "-geopandas"
   ]
  },
  {
   "cell_type": "code",
   "execution_count": 1,
   "metadata": {},
   "outputs": [],
   "source": [
    "import numpy as np\n",
    "import cvxpy as cvx\n",
    "import geopandas as gp\n",
    "import osmnx as ox\n",
    "import networkx as nx\n",
    "import matplotlib.pyplot as plt"
   ]
  },
  {
   "cell_type": "code",
   "execution_count": 2,
   "metadata": {},
   "outputs": [
    {
     "name": "stdout",
     "output_type": "stream",
     "text": [
      "Data directory  ../\n",
      "Created directory ../output\n"
     ]
    }
   ],
   "source": [
    "import os\n",
    "import errno\n",
    "data_dir = \"../\"\n",
    "print(\"Data directory \",data_dir)\n",
    "path = os.path.join(data_dir,\"output\")\n",
    "\n",
    "try:\n",
    "    os.mkdir(path)\n",
    "except OSError as exc:\n",
    "    if exc.errno != errno.EEXIST:\n",
    "        raise\n",
    "    pass\n",
    "print(\"Created directory \"+path)"
   ]
  },
  {
   "attachments": {},
   "cell_type": "markdown",
   "metadata": {},
   "source": [
    "# Toy model from Figure 1 in Dey(2020)\n",
    "- 6 nodes in 3x2 grid\n",
    "- All are O and D (12 relations)\n",
    "- 7 directed one-way edges\n",
    "- Multiple routes per OD relation (16 total)\n",
    "- Test my implementation of the P matrix"
   ]
  },
  {
   "cell_type": "code",
   "execution_count": 3,
   "metadata": {},
   "outputs": [],
   "source": [
    "nodes=[\"A\",\"B\",\"C\",\"D\",\"E\",\"F\"]# node names\n",
    "edges=[\"AB\",\"AD\",\"DE\",\"EF\",\"BC\",\"BE\",\"CF\"]#edge names\n",
    "edge_uv=[(\"A\",\"B\"),(\"A\",\"D\"),(\"D\",\"E\"),(\"E\",\"F\"),(\"B\",\"C\"),(\"B\",\"E\"),(\"C\",\"F\")]# node names u,v\n",
    "edge_weights=[1,1,1,1,1,1,1]\n",
    "edge_weights_dict=dict(zip(edge_uv,edge_weights))\n",
    "edge_labels_dict = dict(zip(edges, edge_uv))\n",
    "node_xy=[(0,0),(1,0),(2,0),(0,1),(1,1),(2,1)]\n",
    "node_xy_dict=dict(zip(nodes,node_xy))"
   ]
  },
  {
   "cell_type": "code",
   "execution_count": 4,
   "metadata": {},
   "outputs": [
    {
     "data": {
      "text/plain": [
       "{('A', 'B'): 1,\n",
       " ('A', 'D'): 1,\n",
       " ('D', 'E'): 1,\n",
       " ('E', 'F'): 1,\n",
       " ('B', 'C'): 1,\n",
       " ('B', 'E'): 1,\n",
       " ('C', 'F'): 1}"
      ]
     },
     "execution_count": 4,
     "metadata": {},
     "output_type": "execute_result"
    }
   ],
   "source": [
    "edge_weights_dict"
   ]
  },
  {
   "cell_type": "code",
   "execution_count": 5,
   "metadata": {},
   "outputs": [
    {
     "data": {
      "text/plain": [
       "{'AB': ('A', 'B'),\n",
       " 'AD': ('A', 'D'),\n",
       " 'DE': ('D', 'E'),\n",
       " 'EF': ('E', 'F'),\n",
       " 'BC': ('B', 'C'),\n",
       " 'BE': ('B', 'E'),\n",
       " 'CF': ('C', 'F')}"
      ]
     },
     "execution_count": 5,
     "metadata": {},
     "output_type": "execute_result"
    }
   ],
   "source": [
    "edge_labels_dict"
   ]
  },
  {
   "cell_type": "code",
   "execution_count": 6,
   "metadata": {},
   "outputs": [
    {
     "data": {
      "text/plain": [
       "{'A': (0, 0), 'B': (1, 0), 'C': (2, 0), 'D': (0, 1), 'E': (1, 1), 'F': (2, 1)}"
      ]
     },
     "execution_count": 6,
     "metadata": {},
     "output_type": "execute_result"
    }
   ],
   "source": [
    "node_xy_dict"
   ]
  },
  {
   "attachments": {},
   "cell_type": "markdown",
   "metadata": {},
   "source": [
    "# Make a networkx object of the graph"
   ]
  },
  {
   "cell_type": "code",
   "execution_count": 7,
   "metadata": {},
   "outputs": [
    {
     "name": "stdout",
     "output_type": "stream",
     "text": [
      "6 7\n",
      "['A', 'B', 'C', 'D', 'E', 'F']\n",
      "[('A', 'B'), ('A', 'D'), ('B', 'C'), ('B', 'E'), ('C', 'F'), ('D', 'E'), ('E', 'F')]\n",
      "['B', 'D']\n"
     ]
    }
   ],
   "source": [
    "G=nx.DiGraph()\n",
    "G.graph[\"name\"]=\"Model 1 Hazelton(2015)\"\n",
    "G.add_nodes_from(nodes)\n",
    "nx.set_node_attributes(G,node_xy_dict,name=\"pos\")\n",
    "G.add_edges_from(edge_uv)#add_weighted_edges_from (3,1,5.493) tuple u,v,weight\n",
    "nx.set_edge_attributes(G,edge_weights_dict,name=\"weight\")\n",
    "print(G.number_of_nodes(), G.number_of_edges())\n",
    "print(list(G.nodes))\n",
    "print(list(G.edges))\n",
    "#G.adj.items#\n",
    "#G.edges.data# for (u, v, wt) in FG.edges.data('weight'):\n",
    "print(list(G.neighbors(\"A\")))"
   ]
  },
  {
   "cell_type": "code",
   "execution_count": 8,
   "metadata": {},
   "outputs": [
    {
     "name": "stdout",
     "output_type": "stream",
     "text": [
      "{'A': (0, 0), 'B': (1, 0), 'C': (2, 0), 'D': (0, 1), 'E': (1, 1), 'F': (2, 1)}\n"
     ]
    }
   ],
   "source": [
    "print(nx.get_node_attributes(G,\"pos\"))"
   ]
  },
  {
   "cell_type": "code",
   "execution_count": 9,
   "metadata": {},
   "outputs": [
    {
     "name": "stdout",
     "output_type": "stream",
     "text": [
      "{('A', 'B'): 1, ('A', 'D'): 1, ('B', 'C'): 1, ('B', 'E'): 1, ('C', 'F'): 1, ('D', 'E'): 1, ('E', 'F'): 1}\n"
     ]
    }
   ],
   "source": [
    "print(nx.get_edge_attributes(G,\"weight\"))"
   ]
  },
  {
   "cell_type": "code",
   "execution_count": 10,
   "metadata": {},
   "outputs": [
    {
     "data": {
      "text/plain": [
       "[['A', 'D']]"
      ]
     },
     "execution_count": 10,
     "metadata": {},
     "output_type": "execute_result"
    }
   ],
   "source": [
    "list(nx.all_simple_paths(G,\"A\",\"D\"))"
   ]
  },
  {
   "attachments": {},
   "cell_type": "markdown",
   "metadata": {},
   "source": [
    "# Plot only shows weights of one link if links are parallel\n",
    "- for better plots use graphvis or ox"
   ]
  },
  {
   "cell_type": "code",
   "execution_count": 11,
   "metadata": {},
   "outputs": [
    {
     "data": {
      "text/plain": [
       "{('A', 'B'): Text(0.5, 0.0, '1'),\n",
       " ('A', 'D'): Text(0.0, 0.5, '1'),\n",
       " ('B', 'C'): Text(1.5, 0.0, '1'),\n",
       " ('B', 'E'): Text(1.0, 0.5, '1'),\n",
       " ('C', 'F'): Text(2.0, 0.5, '1'),\n",
       " ('D', 'E'): Text(0.5, 1.0, '1'),\n",
       " ('E', 'F'): Text(1.5, 1.0, '1')}"
      ]
     },
     "execution_count": 11,
     "metadata": {},
     "output_type": "execute_result"
    },
    {
     "data": {
      "image/png": "[encoded data removed]",
      "text/plain": [
       "<Figure size 640x480 with 1 Axes>"
      ]
     },
     "metadata": {},
     "output_type": "display_data"
    }
   ],
   "source": [
    "pos=nx.get_node_attributes(G,\"pos\")\n",
    "nx.draw(G,pos,with_labels=True)\n",
    "labels = nx.get_edge_attributes(G,\"weight\")\n",
    "nx.draw_networkx_edge_labels(G,pos,edge_labels=labels)\n",
    "#subax2=plt.subplot(122)\n",
    "#nx.draw_shell(G, nlist=[range(5, 10), range(5)], with_labels=True, font_weight='bold')\n"
   ]
  },
  {
   "attachments": {},
   "cell_type": "markdown",
   "metadata": {},
   "source": [
    "# $Y_i$"
   ]
  },
  {
   "cell_type": "code",
   "execution_count": 12,
   "metadata": {},
   "outputs": [],
   "source": [
    "counts=np.zeros((7,5))# rows are links with counts, columns are counts in a time interval\n",
    "counts[0,:]=[255,190,220,190,235]# edge 1\n",
    "counts[1,:]=[85,78,80,77,79]# no counts for edge 2\n",
    "counts[2,:]=[235,181,186,176,195]# edge 3\n",
    "counts[3,:]=[210,165,180,175,190]# edge 4\n",
    "counts[4,:]=[56,42,48,56,58]# edge 5\n",
    "counts[5,:]=[78,74,87,80,83]# edge 6\n",
    "counts[6,:]=[78,74,87,80,83]# edge 7\n",
    "countkeys=edge_labels_dict.values()\n",
    "counts_dict=dict(zip(countkeys,counts[:,:]))"
   ]
  },
  {
   "cell_type": "code",
   "execution_count": 13,
   "metadata": {},
   "outputs": [
    {
     "name": "stdout",
     "output_type": "stream",
     "text": [
      "dict_values([('A', 'B'), ('A', 'D'), ('D', 'E'), ('E', 'F'), ('B', 'C'), ('B', 'E'), ('C', 'F')])\n"
     ]
    }
   ],
   "source": [
    "print(countkeys)"
   ]
  },
  {
   "cell_type": "code",
   "execution_count": 14,
   "metadata": {},
   "outputs": [
    {
     "data": {
      "text/plain": [
       "{('A', 'B'): array([255., 190., 220., 190., 235.]),\n",
       " ('A', 'D'): array([85., 78., 80., 77., 79.]),\n",
       " ('D', 'E'): array([235., 181., 186., 176., 195.]),\n",
       " ('E', 'F'): array([210., 165., 180., 175., 190.]),\n",
       " ('B', 'C'): array([56., 42., 48., 56., 58.]),\n",
       " ('B', 'E'): array([78., 74., 87., 80., 83.]),\n",
       " ('C', 'F'): array([78., 74., 87., 80., 83.])}"
      ]
     },
     "execution_count": 14,
     "metadata": {},
     "output_type": "execute_result"
    }
   ],
   "source": [
    "counts_dict"
   ]
  },
  {
   "cell_type": "code",
   "execution_count": 15,
   "metadata": {},
   "outputs": [
    {
     "data": {
      "image/png": "[encoded data removed]",
      "text/plain": [
       "<Figure size 640x480 with 1 Axes>"
      ]
     },
     "metadata": {},
     "output_type": "display_data"
    }
   ],
   "source": [
    "import matplotlib.pyplot as plt\n",
    "x=list(range(0,counts.shape[1]))\n",
    "for ii in range(counts.shape[0]):\n",
    "    plt.plot(x,counts[ii,:],label=str(list(counts_dict.keys())[ii]))\n",
    "plt.ylim(0,np.max(counts))\n",
    "plt.xlabel(\"Time Slice\")\n",
    "plt.ylabel(\"Counts per time slice\")\n",
    "plt.legend()\n",
    "plt.title(\"Link Counts\")\n",
    "plt.show()"
   ]
  },
  {
   "attachments": {},
   "cell_type": "markdown",
   "metadata": {},
   "source": [
    "# Routes between O's and D's.\n",
    "- one list of routes as edge sequences\n",
    "- one list of routes as node sequences\n",
    "- note that a dict of OD_pairs to routes must accomodate several routes per OD_pair later on\n",
    "    - the \"zip\" can be replaced by an iterator over OD_Pairs, add a list of routes to the OD_Pair key"
   ]
  },
  {
   "attachments": {},
   "cell_type": "markdown",
   "metadata": {},
   "source": [
    "# $O, D$"
   ]
  },
  {
   "cell_type": "code",
   "execution_count": 16,
   "metadata": {},
   "outputs": [
    {
     "name": "stdout",
     "output_type": "stream",
     "text": [
      "[('A', 'F'), ('A', 'C'), ('A', 'E'), ('A', 'B'), ('A', 'D'), ('B', 'F'), ('B', 'C'), ('B', 'E'), ('C', 'F'), ('D', 'F'), ('D', 'E'), ('E', 'F')]\n",
      "12\n"
     ]
    }
   ],
   "source": [
    "origins=nodes\n",
    "destinations=nodes\n",
    "od_pairs=[]\n",
    "for o in origins:\n",
    "   for d in nx.dfs_postorder_nodes(G,source=o):\n",
    "    if(o!=d):\n",
    "        od_pairs.append((o,d))\n",
    "print(od_pairs)\n",
    "print(len(od_pairs))"
   ]
  },
  {
   "cell_type": "code",
   "execution_count": 17,
   "metadata": {},
   "outputs": [],
   "source": [
    "od_route_n_dict={}\n",
    "od_route_e_dict={}"
   ]
  },
  {
   "cell_type": "code",
   "execution_count": 18,
   "metadata": {},
   "outputs": [],
   "source": [
    "# routes as sequence of nodes\n",
    "routes_n=[]\n",
    "routes_e=[]\n",
    "for od in od_pairs:\n",
    "    rnlist=list(nx.all_simple_paths(G,od[0],od[1]))\n",
    "    od_route_n_dict[od]=rnlist\n",
    "    routes_n.append(rnlist)\n",
    "    relist=list(nx.all_simple_edge_paths(G,od[0],od[1]))\n",
    "    od_route_e_dict[od]=relist\n",
    "    routes_e.append(relist)"
   ]
  },
  {
   "cell_type": "code",
   "execution_count": 19,
   "metadata": {},
   "outputs": [
    {
     "data": {
      "text/plain": [
       "12"
      ]
     },
     "execution_count": 19,
     "metadata": {},
     "output_type": "execute_result"
    }
   ],
   "source": [
    "len(routes_e)"
   ]
  },
  {
   "cell_type": "code",
   "execution_count": 20,
   "metadata": {},
   "outputs": [
    {
     "data": {
      "text/plain": [
       "{('A', 'F'): [['A', 'B', 'C', 'F'],\n",
       "  ['A', 'B', 'E', 'F'],\n",
       "  ['A', 'D', 'E', 'F']],\n",
       " ('A', 'C'): [['A', 'B', 'C']],\n",
       " ('A', 'E'): [['A', 'B', 'E'], ['A', 'D', 'E']],\n",
       " ('A', 'B'): [['A', 'B']],\n",
       " ('A', 'D'): [['A', 'D']],\n",
       " ('B', 'F'): [['B', 'C', 'F'], ['B', 'E', 'F']],\n",
       " ('B', 'C'): [['B', 'C']],\n",
       " ('B', 'E'): [['B', 'E']],\n",
       " ('C', 'F'): [['C', 'F']],\n",
       " ('D', 'F'): [['D', 'E', 'F']],\n",
       " ('D', 'E'): [['D', 'E']],\n",
       " ('E', 'F'): [['E', 'F']]}"
      ]
     },
     "execution_count": 20,
     "metadata": {},
     "output_type": "execute_result"
    }
   ],
   "source": [
    "od_route_n_dict"
   ]
  },
  {
   "cell_type": "code",
   "execution_count": 21,
   "metadata": {},
   "outputs": [
    {
     "data": {
      "text/plain": [
       "{('A', 'F'): [[('A', 'B'), ('B', 'C'), ('C', 'F')],\n",
       "  [('A', 'B'), ('B', 'E'), ('E', 'F')],\n",
       "  [('A', 'D'), ('D', 'E'), ('E', 'F')]],\n",
       " ('A', 'C'): [[('A', 'B'), ('B', 'C')]],\n",
       " ('A', 'E'): [[('A', 'B'), ('B', 'E')], [('A', 'D'), ('D', 'E')]],\n",
       " ('A', 'B'): [[('A', 'B')]],\n",
       " ('A', 'D'): [[('A', 'D')]],\n",
       " ('B', 'F'): [[('B', 'C'), ('C', 'F')], [('B', 'E'), ('E', 'F')]],\n",
       " ('B', 'C'): [[('B', 'C')]],\n",
       " ('B', 'E'): [[('B', 'E')]],\n",
       " ('C', 'F'): [[('C', 'F')]],\n",
       " ('D', 'F'): [[('D', 'E'), ('E', 'F')]],\n",
       " ('D', 'E'): [[('D', 'E')]],\n",
       " ('E', 'F'): [[('E', 'F')]]}"
      ]
     },
     "execution_count": 21,
     "metadata": {},
     "output_type": "execute_result"
    }
   ],
   "source": [
    "od_route_e_dict"
   ]
  },
  {
   "cell_type": "code",
   "execution_count": 22,
   "metadata": {},
   "outputs": [],
   "source": [
    "od_route_names_dict={}\n",
    "route_names=[]\n",
    "for od in od_pairs:\n",
    "    od_route_names=[]\n",
    "    for i in range(0,len(od_route_n_dict[od])):\n",
    "        string=((od[0],od[1],str(i)))\n",
    "        od_route_names.append(string)\n",
    "        route_names.append(string)\n",
    "    od_route_names_dict[od]=tuple(od_route_names)\n"
   ]
  },
  {
   "cell_type": "code",
   "execution_count": 23,
   "metadata": {},
   "outputs": [
    {
     "data": {
      "text/plain": [
       "[('A', 'F', '0'),\n",
       " ('A', 'F', '1'),\n",
       " ('A', 'F', '2'),\n",
       " ('A', 'C', '0'),\n",
       " ('A', 'E', '0'),\n",
       " ('A', 'E', '1'),\n",
       " ('A', 'B', '0'),\n",
       " ('A', 'D', '0'),\n",
       " ('B', 'F', '0'),\n",
       " ('B', 'F', '1'),\n",
       " ('B', 'C', '0'),\n",
       " ('B', 'E', '0'),\n",
       " ('C', 'F', '0'),\n",
       " ('D', 'F', '0'),\n",
       " ('D', 'E', '0'),\n",
       " ('E', 'F', '0')]"
      ]
     },
     "execution_count": 23,
     "metadata": {},
     "output_type": "execute_result"
    }
   ],
   "source": [
    "route_names"
   ]
  },
  {
   "cell_type": "code",
   "execution_count": 24,
   "metadata": {},
   "outputs": [
    {
     "data": {
      "text/plain": [
       "16"
      ]
     },
     "execution_count": 24,
     "metadata": {},
     "output_type": "execute_result"
    }
   ],
   "source": [
    "len(route_names)"
   ]
  },
  {
   "cell_type": "code",
   "execution_count": 25,
   "metadata": {},
   "outputs": [
    {
     "data": {
      "text/plain": [
       "{('A', 'F'): (('A', 'F', '0'), ('A', 'F', '1'), ('A', 'F', '2')),\n",
       " ('A', 'C'): (('A', 'C', '0'),),\n",
       " ('A', 'E'): (('A', 'E', '0'), ('A', 'E', '1')),\n",
       " ('A', 'B'): (('A', 'B', '0'),),\n",
       " ('A', 'D'): (('A', 'D', '0'),),\n",
       " ('B', 'F'): (('B', 'F', '0'), ('B', 'F', '1')),\n",
       " ('B', 'C'): (('B', 'C', '0'),),\n",
       " ('B', 'E'): (('B', 'E', '0'),),\n",
       " ('C', 'F'): (('C', 'F', '0'),),\n",
       " ('D', 'F'): (('D', 'F', '0'),),\n",
       " ('D', 'E'): (('D', 'E', '0'),),\n",
       " ('E', 'F'): (('E', 'F', '0'),)}"
      ]
     },
     "execution_count": 25,
     "metadata": {},
     "output_type": "execute_result"
    }
   ],
   "source": [
    "od_route_names_dict"
   ]
  },
  {
   "attachments": {},
   "cell_type": "markdown",
   "metadata": {},
   "source": [
    "### Have to flatten the routes_e and routes_n lists in order to assign them to route_names"
   ]
  },
  {
   "cell_type": "code",
   "execution_count": 26,
   "metadata": {},
   "outputs": [],
   "source": [
    "def flatten(l):\n",
    "    return [item for sublist in l for item in sublist]"
   ]
  },
  {
   "cell_type": "code",
   "execution_count": 27,
   "metadata": {},
   "outputs": [
    {
     "name": "stdout",
     "output_type": "stream",
     "text": [
      "16\n"
     ]
    }
   ],
   "source": [
    "print(len(flatten(routes_e)))"
   ]
  },
  {
   "cell_type": "code",
   "execution_count": 28,
   "metadata": {},
   "outputs": [],
   "source": [
    "# dict of origins and routes\n",
    "routes_e_dict=dict(zip(route_names,flatten(routes_e)))# route names, edge sequence (tuple u,v)\n",
    "routes_n_dict=dict(zip(route_names,flatten(routes_n)))# route names, node sequence (u)"
   ]
  },
  {
   "cell_type": "code",
   "execution_count": 29,
   "metadata": {},
   "outputs": [
    {
     "data": {
      "text/plain": [
       "{('A', 'F', '0'): [('A', 'B'), ('B', 'C'), ('C', 'F')],\n",
       " ('A', 'F', '1'): [('A', 'B'), ('B', 'E'), ('E', 'F')],\n",
       " ('A', 'F', '2'): [('A', 'D'), ('D', 'E'), ('E', 'F')],\n",
       " ('A', 'C', '0'): [('A', 'B'), ('B', 'C')],\n",
       " ('A', 'E', '0'): [('A', 'B'), ('B', 'E')],\n",
       " ('A', 'E', '1'): [('A', 'D'), ('D', 'E')],\n",
       " ('A', 'B', '0'): [('A', 'B')],\n",
       " ('A', 'D', '0'): [('A', 'D')],\n",
       " ('B', 'F', '0'): [('B', 'C'), ('C', 'F')],\n",
       " ('B', 'F', '1'): [('B', 'E'), ('E', 'F')],\n",
       " ('B', 'C', '0'): [('B', 'C')],\n",
       " ('B', 'E', '0'): [('B', 'E')],\n",
       " ('C', 'F', '0'): [('C', 'F')],\n",
       " ('D', 'F', '0'): [('D', 'E'), ('E', 'F')],\n",
       " ('D', 'E', '0'): [('D', 'E')],\n",
       " ('E', 'F', '0'): [('E', 'F')]}"
      ]
     },
     "execution_count": 29,
     "metadata": {},
     "output_type": "execute_result"
    }
   ],
   "source": [
    "routes_e_dict"
   ]
  },
  {
   "cell_type": "code",
   "execution_count": 30,
   "metadata": {},
   "outputs": [
    {
     "data": {
      "text/plain": [
       "{('A', 'F', '0'): ['A', 'B', 'C', 'F'],\n",
       " ('A', 'F', '1'): ['A', 'B', 'E', 'F'],\n",
       " ('A', 'F', '2'): ['A', 'D', 'E', 'F'],\n",
       " ('A', 'C', '0'): ['A', 'B', 'C'],\n",
       " ('A', 'E', '0'): ['A', 'B', 'E'],\n",
       " ('A', 'E', '1'): ['A', 'D', 'E'],\n",
       " ('A', 'B', '0'): ['A', 'B'],\n",
       " ('A', 'D', '0'): ['A', 'D'],\n",
       " ('B', 'F', '0'): ['B', 'C', 'F'],\n",
       " ('B', 'F', '1'): ['B', 'E', 'F'],\n",
       " ('B', 'C', '0'): ['B', 'C'],\n",
       " ('B', 'E', '0'): ['B', 'E'],\n",
       " ('C', 'F', '0'): ['C', 'F'],\n",
       " ('D', 'F', '0'): ['D', 'E', 'F'],\n",
       " ('D', 'E', '0'): ['D', 'E'],\n",
       " ('E', 'F', '0'): ['E', 'F']}"
      ]
     },
     "execution_count": 30,
     "metadata": {},
     "output_type": "execute_result"
    }
   ],
   "source": [
    "routes_n_dict"
   ]
  },
  {
   "cell_type": "code",
   "execution_count": 31,
   "metadata": {},
   "outputs": [
    {
     "data": {
      "text/plain": [
       "{'AB': ('A', 'B'),\n",
       " 'AD': ('A', 'D'),\n",
       " 'DE': ('D', 'E'),\n",
       " 'EF': ('E', 'F'),\n",
       " 'BC': ('B', 'C'),\n",
       " 'BE': ('B', 'E'),\n",
       " 'CF': ('C', 'F')}"
      ]
     },
     "execution_count": 31,
     "metadata": {},
     "output_type": "execute_result"
    }
   ],
   "source": [
    "edge_labels_dict"
   ]
  },
  {
   "cell_type": "code",
   "execution_count": 32,
   "metadata": {},
   "outputs": [
    {
     "name": "stdout",
     "output_type": "stream",
     "text": [
      "{('A', 'F', '0'): [1, 1, 1], ('A', 'F', '1'): [1, 1, 1], ('A', 'F', '2'): [1, 1, 1], ('A', 'C', '0'): [1, 1], ('A', 'E', '0'): [1, 1], ('A', 'E', '1'): [1, 1], ('A', 'B', '0'): [1], ('A', 'D', '0'): [1], ('B', 'F', '0'): [1, 1], ('B', 'F', '1'): [1, 1], ('B', 'C', '0'): [1], ('B', 'E', '0'): [1], ('C', 'F', '0'): [1], ('D', 'F', '0'): [1, 1], ('D', 'E', '0'): [1], ('E', 'F', '0'): [1]}\n"
     ]
    }
   ],
   "source": [
    "# route costs\n",
    "routes_c_dict={}\n",
    "for rn in route_names:\n",
    "    es=routes_e_dict[rn]\n",
    "    lc=[]\n",
    "    for e in es:\n",
    "        c=edge_weights_dict[e]\n",
    "        lc.append(c)\n",
    "    routes_c_dict[rn]=lc\n",
    "print(routes_c_dict)"
   ]
  },
  {
   "attachments": {},
   "cell_type": "markdown",
   "metadata": {},
   "source": [
    "# Adjacency matrix (link-path incidence matrix) A=aij\n",
    "- counted edges/links versus routes they are on\n",
    "- 0,1 definition used by Vardi(1996) and Hazelton(2015)\n",
    "- Make into a function\n",
    "- This should be OD relations to the right and not routes\n",
    "    - if there are more than 1 routes per OD relation this code has to be fixed, see later on\n",
    "- It's still a valuable mapping to have"
   ]
  },
  {
   "cell_type": "code",
   "execution_count": 33,
   "metadata": {},
   "outputs": [
    {
     "name": "stdout",
     "output_type": "stream",
     "text": [
      "[('A', 'B'), ('B', 'C'), ('C', 'F')]\n",
      "('A', 'B')\n",
      "[('A', 'B'), ('B', 'E'), ('E', 'F')]\n",
      "('A', 'B')\n",
      "[('A', 'D'), ('D', 'E'), ('E', 'F')]\n",
      "('A', 'B')\n",
      "[('A', 'B'), ('B', 'C')]\n",
      "('A', 'B')\n",
      "[('A', 'B'), ('B', 'E')]\n",
      "('A', 'B')\n",
      "[('A', 'D'), ('D', 'E')]\n",
      "('A', 'B')\n",
      "[('A', 'B')]\n",
      "('A', 'B')\n",
      "[('A', 'D')]\n",
      "('A', 'B')\n",
      "[('B', 'C'), ('C', 'F')]\n",
      "('A', 'B')\n",
      "[('B', 'E'), ('E', 'F')]\n",
      "('A', 'B')\n",
      "[('B', 'C')]\n",
      "('A', 'B')\n",
      "[('B', 'E')]\n",
      "('A', 'B')\n",
      "[('C', 'F')]\n",
      "('A', 'B')\n",
      "[('D', 'E'), ('E', 'F')]\n",
      "('A', 'B')\n",
      "[('D', 'E')]\n",
      "('A', 'B')\n",
      "[('E', 'F')]\n",
      "('A', 'B')\n",
      "[('A', 'B'), ('B', 'C'), ('C', 'F')]\n",
      "('A', 'D')\n",
      "[('A', 'B'), ('B', 'E'), ('E', 'F')]\n",
      "('A', 'D')\n",
      "[('A', 'D'), ('D', 'E'), ('E', 'F')]\n",
      "('A', 'D')\n",
      "[('A', 'B'), ('B', 'C')]\n",
      "('A', 'D')\n",
      "[('A', 'B'), ('B', 'E')]\n",
      "('A', 'D')\n",
      "[('A', 'D'), ('D', 'E')]\n",
      "('A', 'D')\n",
      "[('A', 'B')]\n",
      "('A', 'D')\n",
      "[('A', 'D')]\n",
      "('A', 'D')\n",
      "[('B', 'C'), ('C', 'F')]\n",
      "('A', 'D')\n",
      "[('B', 'E'), ('E', 'F')]\n",
      "('A', 'D')\n",
      "[('B', 'C')]\n",
      "('A', 'D')\n",
      "[('B', 'E')]\n",
      "('A', 'D')\n",
      "[('C', 'F')]\n",
      "('A', 'D')\n",
      "[('D', 'E'), ('E', 'F')]\n",
      "('A', 'D')\n",
      "[('D', 'E')]\n",
      "('A', 'D')\n",
      "[('E', 'F')]\n",
      "('A', 'D')\n",
      "[('A', 'B'), ('B', 'C'), ('C', 'F')]\n",
      "('D', 'E')\n",
      "[('A', 'B'), ('B', 'E'), ('E', 'F')]\n",
      "('D', 'E')\n",
      "[('A', 'D'), ('D', 'E'), ('E', 'F')]\n",
      "('D', 'E')\n",
      "[('A', 'B'), ('B', 'C')]\n",
      "('D', 'E')\n",
      "[('A', 'B'), ('B', 'E')]\n",
      "('D', 'E')\n",
      "[('A', 'D'), ('D', 'E')]\n",
      "('D', 'E')\n",
      "[('A', 'B')]\n",
      "('D', 'E')\n",
      "[('A', 'D')]\n",
      "('D', 'E')\n",
      "[('B', 'C'), ('C', 'F')]\n",
      "('D', 'E')\n",
      "[('B', 'E'), ('E', 'F')]\n",
      "('D', 'E')\n",
      "[('B', 'C')]\n",
      "('D', 'E')\n",
      "[('B', 'E')]\n",
      "('D', 'E')\n",
      "[('C', 'F')]\n",
      "('D', 'E')\n",
      "[('D', 'E'), ('E', 'F')]\n",
      "('D', 'E')\n",
      "[('D', 'E')]\n",
      "('D', 'E')\n",
      "[('E', 'F')]\n",
      "('D', 'E')\n",
      "[('A', 'B'), ('B', 'C'), ('C', 'F')]\n",
      "('E', 'F')\n",
      "[('A', 'B'), ('B', 'E'), ('E', 'F')]\n",
      "('E', 'F')\n",
      "[('A', 'D'), ('D', 'E'), ('E', 'F')]\n",
      "('E', 'F')\n",
      "[('A', 'B'), ('B', 'C')]\n",
      "('E', 'F')\n",
      "[('A', 'B'), ('B', 'E')]\n",
      "('E', 'F')\n",
      "[('A', 'D'), ('D', 'E')]\n",
      "('E', 'F')\n",
      "[('A', 'B')]\n",
      "('E', 'F')\n",
      "[('A', 'D')]\n",
      "('E', 'F')\n",
      "[('B', 'C'), ('C', 'F')]\n",
      "('E', 'F')\n",
      "[('B', 'E'), ('E', 'F')]\n",
      "('E', 'F')\n",
      "[('B', 'C')]\n",
      "('E', 'F')\n",
      "[('B', 'E')]\n",
      "('E', 'F')\n",
      "[('C', 'F')]\n",
      "('E', 'F')\n",
      "[('D', 'E'), ('E', 'F')]\n",
      "('E', 'F')\n",
      "[('D', 'E')]\n",
      "('E', 'F')\n",
      "[('E', 'F')]\n",
      "('E', 'F')\n",
      "[('A', 'B'), ('B', 'C'), ('C', 'F')]\n",
      "('B', 'C')\n",
      "[('A', 'B'), ('B', 'E'), ('E', 'F')]\n",
      "('B', 'C')\n",
      "[('A', 'D'), ('D', 'E'), ('E', 'F')]\n",
      "('B', 'C')\n",
      "[('A', 'B'), ('B', 'C')]\n",
      "('B', 'C')\n",
      "[('A', 'B'), ('B', 'E')]\n",
      "('B', 'C')\n",
      "[('A', 'D'), ('D', 'E')]\n",
      "('B', 'C')\n",
      "[('A', 'B')]\n",
      "('B', 'C')\n",
      "[('A', 'D')]\n",
      "('B', 'C')\n",
      "[('B', 'C'), ('C', 'F')]\n",
      "('B', 'C')\n",
      "[('B', 'E'), ('E', 'F')]\n",
      "('B', 'C')\n",
      "[('B', 'C')]\n",
      "('B', 'C')\n",
      "[('B', 'E')]\n",
      "('B', 'C')\n",
      "[('C', 'F')]\n",
      "('B', 'C')\n",
      "[('D', 'E'), ('E', 'F')]\n",
      "('B', 'C')\n",
      "[('D', 'E')]\n",
      "('B', 'C')\n",
      "[('E', 'F')]\n",
      "('B', 'C')\n",
      "[('A', 'B'), ('B', 'C'), ('C', 'F')]\n",
      "('B', 'E')\n",
      "[('A', 'B'), ('B', 'E'), ('E', 'F')]\n",
      "('B', 'E')\n",
      "[('A', 'D'), ('D', 'E'), ('E', 'F')]\n",
      "('B', 'E')\n",
      "[('A', 'B'), ('B', 'C')]\n",
      "('B', 'E')\n",
      "[('A', 'B'), ('B', 'E')]\n",
      "('B', 'E')\n",
      "[('A', 'D'), ('D', 'E')]\n",
      "('B', 'E')\n",
      "[('A', 'B')]\n",
      "('B', 'E')\n",
      "[('A', 'D')]\n",
      "('B', 'E')\n",
      "[('B', 'C'), ('C', 'F')]\n",
      "('B', 'E')\n",
      "[('B', 'E'), ('E', 'F')]\n",
      "('B', 'E')\n",
      "[('B', 'C')]\n",
      "('B', 'E')\n",
      "[('B', 'E')]\n",
      "('B', 'E')\n",
      "[('C', 'F')]\n",
      "('B', 'E')\n",
      "[('D', 'E'), ('E', 'F')]\n",
      "('B', 'E')\n",
      "[('D', 'E')]\n",
      "('B', 'E')\n",
      "[('E', 'F')]\n",
      "('B', 'E')\n",
      "[('A', 'B'), ('B', 'C'), ('C', 'F')]\n",
      "('C', 'F')\n",
      "[('A', 'B'), ('B', 'E'), ('E', 'F')]\n",
      "('C', 'F')\n",
      "[('A', 'D'), ('D', 'E'), ('E', 'F')]\n",
      "('C', 'F')\n",
      "[('A', 'B'), ('B', 'C')]\n",
      "('C', 'F')\n",
      "[('A', 'B'), ('B', 'E')]\n",
      "('C', 'F')\n",
      "[('A', 'D'), ('D', 'E')]\n",
      "('C', 'F')\n",
      "[('A', 'B')]\n",
      "('C', 'F')\n",
      "[('A', 'D')]\n",
      "('C', 'F')\n",
      "[('B', 'C'), ('C', 'F')]\n",
      "('C', 'F')\n",
      "[('B', 'E'), ('E', 'F')]\n",
      "('C', 'F')\n",
      "[('B', 'C')]\n",
      "('C', 'F')\n",
      "[('B', 'E')]\n",
      "('C', 'F')\n",
      "[('C', 'F')]\n",
      "('C', 'F')\n",
      "[('D', 'E'), ('E', 'F')]\n",
      "('C', 'F')\n",
      "[('D', 'E')]\n",
      "('C', 'F')\n",
      "[('E', 'F')]\n",
      "('C', 'F')\n"
     ]
    }
   ],
   "source": [
    "# a_ij = 1 if link i is in route j, 0 otherwise\n",
    "I=len(counts_dict)#7\n",
    "J=len(routes_e)#16\n",
    "aij=np.zeros((I, J))\n",
    "for i in range(I):\n",
    "    for j in range(J):\n",
    "        for k in range(len(routes_e[j])):\n",
    "            print(routes_e[j][k])\n",
    "            print(list(counts_dict.keys())[i])\n",
    "            if(routes_e[j][k]==list(counts_dict.keys())[i]):\n",
    "                aij[i,j]=1"
   ]
  },
  {
   "cell_type": "code",
   "execution_count": 34,
   "metadata": {},
   "outputs": [],
   "source": [
    "I=len(countkeys)\n",
    "J=len(route_names)\n",
    "aij=np.zeros((I,J))\n",
    "i=0\n",
    "for e in countkeys:#I\n",
    "    j=0\n",
    "    for rn in route_names:#J\n",
    "        rs=routes_e_dict[rn]\n",
    "        for r in rs:\n",
    "#            print(i,j,e,r)\n",
    "            if(e == r):\n",
    "                aij[i,j]=1\n",
    "        j+=1\n",
    "    i+=1\n",
    "        "
   ]
  },
  {
   "cell_type": "code",
   "execution_count": 35,
   "metadata": {},
   "outputs": [
    {
     "data": {
      "text/plain": [
       "array([[1., 1., 0., 1., 1., 0., 1., 0., 0., 0., 0., 0., 0., 0., 0., 0.],\n",
       "       [0., 0., 1., 0., 0., 1., 0., 1., 0., 0., 0., 0., 0., 0., 0., 0.],\n",
       "       [0., 0., 1., 0., 0., 1., 0., 0., 0., 0., 0., 0., 0., 1., 1., 0.],\n",
       "       [0., 1., 1., 0., 0., 0., 0., 0., 0., 1., 0., 0., 0., 1., 0., 1.],\n",
       "       [1., 0., 0., 1., 0., 0., 0., 0., 1., 0., 1., 0., 0., 0., 0., 0.],\n",
       "       [0., 1., 0., 0., 1., 0., 0., 0., 0., 1., 0., 1., 0., 0., 0., 0.],\n",
       "       [1., 0., 0., 0., 0., 0., 0., 0., 1., 0., 0., 0., 1., 0., 0., 0.]])"
      ]
     },
     "execution_count": 35,
     "metadata": {},
     "output_type": "execute_result"
    }
   ],
   "source": [
    "aij# each column is a route between an OD pair J and each row has 1 if a link I is on the route"
   ]
  },
  {
   "attachments": {},
   "cell_type": "markdown",
   "metadata": {},
   "source": [
    "# Matrix of all edges which are on routes a2ij\n",
    "- Map of all edges/links and the routes they are on\n",
    "- 0,1\n",
    "- Use to calculate the flows on non-measured links along the routes\n",
    "- After the OD flows are calculated"
   ]
  },
  {
   "cell_type": "code",
   "execution_count": 36,
   "metadata": {},
   "outputs": [
    {
     "data": {
      "text/plain": [
       "dict_values([('A', 'B'), ('A', 'D'), ('D', 'E'), ('E', 'F'), ('B', 'C'), ('B', 'E'), ('C', 'F')])"
      ]
     },
     "execution_count": 36,
     "metadata": {},
     "output_type": "execute_result"
    }
   ],
   "source": [
    "edge_labels_dict.values()"
   ]
  },
  {
   "cell_type": "code",
   "execution_count": 37,
   "metadata": {},
   "outputs": [],
   "source": [
    "I=len(edge_labels_dict.keys())\n",
    "J=len(route_names)\n",
    "a2ij=np.zeros((I,J))\n",
    "pi1=np.zeros((I,J))\n",
    "i=0\n",
    "for e in edge_labels_dict.values():#I\n",
    "    j=0\n",
    "    for rn in route_names:#J\n",
    "        rs=routes_e_dict[rn]\n",
    "        for r in rs:\n",
    "#            print(i,j,e,r)\n",
    "            if(e == r):\n",
    "                a2ij[i,j]=1\n",
    "                pi1[i,j]=edge_weights[i]\n",
    "        j+=1\n",
    "    i+=1"
   ]
  },
  {
   "cell_type": "code",
   "execution_count": 38,
   "metadata": {},
   "outputs": [
    {
     "data": {
      "text/plain": [
       "array([[1., 1., 0., 1., 1., 0., 1., 0., 0., 0., 0., 0., 0., 0., 0., 0.],\n",
       "       [0., 0., 1., 0., 0., 1., 0., 1., 0., 0., 0., 0., 0., 0., 0., 0.],\n",
       "       [0., 0., 1., 0., 0., 1., 0., 0., 0., 0., 0., 0., 0., 1., 1., 0.],\n",
       "       [0., 1., 1., 0., 0., 0., 0., 0., 0., 1., 0., 0., 0., 1., 0., 1.],\n",
       "       [1., 0., 0., 1., 0., 0., 0., 0., 1., 0., 1., 0., 0., 0., 0., 0.],\n",
       "       [0., 1., 0., 0., 1., 0., 0., 0., 0., 1., 0., 1., 0., 0., 0., 0.],\n",
       "       [1., 0., 0., 0., 0., 0., 0., 0., 1., 0., 0., 0., 1., 0., 0., 0.]])"
      ]
     },
     "execution_count": 38,
     "metadata": {},
     "output_type": "execute_result"
    }
   ],
   "source": [
    "a2ij"
   ]
  },
  {
   "attachments": {},
   "cell_type": "markdown",
   "metadata": {},
   "source": [
    "### For each time slice, Y is counts (dim m x 1) = A (dim m x n) * X (dim n x 1), m<n .\n",
    "- Need to find X the OD flow\n",
    "- m is the number of edges with counts on them\n",
    "- n is the number of routes between OD\n",
    "- dimension 1 becomes K for K time slices"
   ]
  },
  {
   "cell_type": "code",
   "execution_count": 39,
   "metadata": {},
   "outputs": [
    {
     "name": "stdout",
     "output_type": "stream",
     "text": [
      "(7, 16) (7, 5)\n"
     ]
    }
   ],
   "source": [
    "print(aij.shape, counts.shape)"
   ]
  },
  {
   "attachments": {},
   "cell_type": "markdown",
   "metadata": {},
   "source": [
    "# Model 5 days of made-up data on 7 (all links) measured links for all 16 routes (each OD pair has different number of routes). Flows are per route, not per OD"
   ]
  },
  {
   "attachments": {},
   "cell_type": "markdown",
   "metadata": {},
   "source": [
    "- Hazelton (2015) must use a survey of OD traffic to generate initial x flows using a Gamma function of parameters (x_survey/2, 1/2). How does he use these in the solution?\n",
    "\n",
    "- The following is solved using ECOS_BB in the package cvxpy\n",
    "\n",
    "### We need integer-value results and use a special included mixed-integer solver"
   ]
  },
  {
   "cell_type": "code",
   "execution_count": 40,
   "metadata": {},
   "outputs": [
    {
     "name": "stdout",
     "output_type": "stream",
     "text": [
      "The flows on the routes (one route per row) in the time slices (one time slice per column)\n",
      "[[9.85903026e-11 9.00000000e+00 1.00000000e+01 1.10000000e+01\n",
      "  1.20000000e+01]\n",
      " [1.50000000e+01 1.40000000e+01 1.60000000e+01 1.40000000e+01\n",
      "  1.50000000e+01]\n",
      " [2.00000000e+01 1.70000000e+01 1.80000000e+01 1.70000000e+01\n",
      "  1.80000000e+01]\n",
      " [1.90000000e+01 1.00000000e+01 1.20000000e+01 1.40000000e+01\n",
      "  1.50000000e+01]\n",
      " [2.00000000e+01 1.90000000e+01 2.20000000e+01 2.00000000e+01\n",
      "  2.10000000e+01]\n",
      " [2.80000000e+01 2.50000000e+01 2.60000000e+01 2.50000000e+01\n",
      "  2.60000000e+01]\n",
      " [2.01000000e+02 1.38000000e+02 1.61000000e+02 1.30000000e+02\n",
      "  1.73000000e+02]\n",
      " [3.70000000e+01 3.50000000e+01 3.60000000e+01 3.50000000e+01\n",
      "  3.50000000e+01]\n",
      " [1.60000000e+01 1.00000000e+01 1.20000000e+01 1.30000000e+01\n",
      "  1.40000000e+01]\n",
      " [1.80000000e+01 1.70000000e+01 2.00000000e+01 1.90000000e+01\n",
      "  2.00000000e+01]\n",
      " [2.10000000e+01 1.30000000e+01 1.40000000e+01 1.80000000e+01\n",
      "  1.80000000e+01]\n",
      " [2.40000000e+01 2.40000000e+01 2.90000000e+01 2.70000000e+01\n",
      "  2.70000000e+01]\n",
      " [6.20000000e+01 5.50000000e+01 6.50000000e+01 5.60000000e+01\n",
      "  5.80000000e+01]\n",
      " [5.30000000e+01 3.90000000e+01 4.10000000e+01 4.00000000e+01\n",
      "  4.40000000e+01]\n",
      " [1.34000000e+02 9.90000000e+01 1.01000000e+02 9.40000000e+01\n",
      "  1.07000000e+02]\n",
      " [1.04000000e+02 7.80000000e+01 8.50000000e+01 8.50000000e+01\n",
      "  9.30000000e+01]]\n"
     ]
    },
    {
     "name": "stderr",
     "output_type": "stream",
     "text": [
      "c:\\Users\\jkhac\\anaconda3\\envs\\final_proj_torch\\lib\\site-packages\\cvxpy\\problems\\problem.py:1385: UserWarning: Solution may be inaccurate. Try another solver, adjusting the solver settings, or solve with verbose=True for more information.\n",
      "  warnings.warn(\n"
     ]
    }
   ],
   "source": [
    "# y = Ax\n",
    "# We have y and A and want x\n",
    "# y is m x 1; A is m x n; x is n x 1; m = 5, n = 6\n",
    "x = cvx.Variable((aij.shape[1],counts.shape[1]),integer=True)\n",
    "\n",
    "#err = cvx.abs(aij @ x - counts)\n",
    "err = cvx.sum_squares(aij @ x - counts)\n",
    "objective = cvx.Minimize(cvx.norm(err,1))# regularize later with sum(w*aij) see Kurzhanskiy\n",
    "constraints = [x >= 0 ]\n",
    "prob = cvx.Problem(objective, constraints)\n",
    "\n",
    "# The optimal objective is returned by prob.solve().\n",
    "result = prob.solve(solver=\"ECOS_BB\")\n",
    "\n",
    "# The optimal value for x is stored in x.value.\n",
    "print(\"The flows on the routes (one route per row) in the time slices (one time slice per column)\")\n",
    "print(x.value)"
   ]
  },
  {
   "cell_type": "code",
   "execution_count": 41,
   "metadata": {},
   "outputs": [
    {
     "data": {
      "text/plain": [
       "(16, 5)"
      ]
     },
     "execution_count": 41,
     "metadata": {},
     "output_type": "execute_result"
    }
   ],
   "source": [
    "x.value.shape"
   ]
  },
  {
   "cell_type": "code",
   "execution_count": 42,
   "metadata": {},
   "outputs": [
    {
     "name": "stdout",
     "output_type": "stream",
     "text": [
      "[  8.4  14.8  18.   14.   20.4  26.  160.6  35.6  13.   18.8  16.8  26.2\n",
      "  59.2  43.4 107.   89. ]\n"
     ]
    }
   ],
   "source": [
    "print(np.mean(x.value,axis=1))"
   ]
  },
  {
   "cell_type": "code",
   "execution_count": 43,
   "metadata": {},
   "outputs": [
    {
     "name": "stdout",
     "output_type": "stream",
     "text": [
      "[20. 19. 22. 20. 21.]\n"
     ]
    }
   ],
   "source": [
    "print(x.value[4,:])"
   ]
  },
  {
   "cell_type": "code",
   "execution_count": 44,
   "metadata": {},
   "outputs": [
    {
     "name": "stdout",
     "output_type": "stream",
     "text": [
      "[  8.4  14.8  18.0  14.0  20.4  26.0 160.6  35.6  13.0  18.8  16.8  26.2\n",
      "  59.2  43.4 107.0  89.0]\n",
      "[ 4.3  0.7  1.1  3.0  1.0  1.1 25.4  0.8  2.0  1.2  2.9  1.9  3.8  5.1\n",
      " 14.1  8.9]\n",
      "671.2000000000274\n"
     ]
    }
   ],
   "source": [
    "print(f\"{np.array2string(np.mean(x.value,axis=1),precision=1, floatmode='fixed')}\")\n",
    "print(f\"{np.array2string(np.std(x.value,axis=1),precision=1, floatmode='fixed')}\")\n",
    "print(np.sum(np.mean(x.value,axis=1)))"
   ]
  },
  {
   "cell_type": "code",
   "execution_count": 45,
   "metadata": {},
   "outputs": [],
   "source": [
    "# Make OD flows out of the route flows by summing over route flows for each OD\n",
    "\n",
    "def od_flow_from_route_flow(od_pairs, route_flows):\n",
    "    \n",
    " # Make OD flows out of the route flows by summing over route flows for each OD\n",
    "    I=x.value.shape[1]\n",
    "    J=len(od_pairs)\n",
    "    j=0\n",
    "    i_r=0\n",
    "    od_flow=np.zeros((I))\n",
    "    od_flow_matrix=np.zeros((J,I))\n",
    "    for od in od_pairs:\n",
    "        od_flow=0\n",
    "        rs=od_route_names_dict[od]\n",
    "        for r in rs:\n",
    "            od_flow=od_flow+route_flows[i_r,:]\n",
    "            print(j,i_r,r,od_flow, route_flows[i_r,:])\n",
    "            i_r+=1\n",
    "        od_flow_matrix[j,:]=od_flow\n",
    "        j+=1\n",
    "    return(od_flow_matrix)"
   ]
  },
  {
   "cell_type": "code",
   "execution_count": 46,
   "metadata": {},
   "outputs": [
    {
     "name": "stdout",
     "output_type": "stream",
     "text": [
      "0 0 ('A', 'F', '0') [9.85903026e-11 9.00000000e+00 1.00000000e+01 1.10000000e+01\n",
      " 1.20000000e+01] [9.85903026e-11 9.00000000e+00 1.00000000e+01 1.10000000e+01\n",
      " 1.20000000e+01]\n",
      "0 1 ('A', 'F', '1') [15. 23. 26. 25. 27.] [15. 14. 16. 14. 15.]\n",
      "0 2 ('A', 'F', '2') [35. 40. 44. 42. 45.] [20. 17. 18. 17. 18.]\n",
      "1 3 ('A', 'C', '0') [19. 10. 12. 14. 15.] [19. 10. 12. 14. 15.]\n",
      "2 4 ('A', 'E', '0') [20. 19. 22. 20. 21.] [20. 19. 22. 20. 21.]\n",
      "2 5 ('A', 'E', '1') [48. 44. 48. 45. 47.] [28. 25. 26. 25. 26.]\n",
      "3 6 ('A', 'B', '0') [201. 138. 161. 130. 173.] [201. 138. 161. 130. 173.]\n",
      "4 7 ('A', 'D', '0') [37. 35. 36. 35. 35.] [37. 35. 36. 35. 35.]\n",
      "5 8 ('B', 'F', '0') [16. 10. 12. 13. 14.] [16. 10. 12. 13. 14.]\n",
      "5 9 ('B', 'F', '1') [34. 27. 32. 32. 34.] [18. 17. 20. 19. 20.]\n",
      "6 10 ('B', 'C', '0') [21. 13. 14. 18. 18.] [21. 13. 14. 18. 18.]\n",
      "7 11 ('B', 'E', '0') [24. 24. 29. 27. 27.] [24. 24. 29. 27. 27.]\n",
      "8 12 ('C', 'F', '0') [62. 55. 65. 56. 58.] [62. 55. 65. 56. 58.]\n",
      "9 13 ('D', 'F', '0') [53. 39. 41. 40. 44.] [53. 39. 41. 40. 44.]\n",
      "10 14 ('D', 'E', '0') [134.  99. 101.  94. 107.] [134.  99. 101.  94. 107.]\n",
      "11 15 ('E', 'F', '0') [104.  78.  85.  85.  93.] [104.  78.  85.  85.  93.]\n"
     ]
    }
   ],
   "source": [
    "od_flow_matrix_x=od_flow_from_route_flow(od_pairs,x.value)"
   ]
  },
  {
   "cell_type": "code",
   "execution_count": 47,
   "metadata": {},
   "outputs": [
    {
     "name": "stdout",
     "output_type": "stream",
     "text": [
      "[ 41.2  14.0  46.4 160.6  35.6  31.8  16.8  26.2  59.2  43.4 107.0  89.0]\n",
      "[ 3.5  3.0  1.6 25.4  0.8  2.6  2.9  1.9  3.8  5.1 14.1  8.9]\n",
      "671.2000000000274\n"
     ]
    }
   ],
   "source": [
    "print(f\"{np.array2string(np.mean(od_flow_matrix_x,axis=1),precision=1, floatmode='fixed')}\")\n",
    "print(f\"{np.array2string(np.std(od_flow_matrix_x,axis=1),precision=1, floatmode='fixed')}\")\n",
    "print(np.sum(np.mean(x.value,axis=1)))"
   ]
  },
  {
   "cell_type": "code",
   "execution_count": 48,
   "metadata": {},
   "outputs": [
    {
     "name": "stdout",
     "output_type": "stream",
     "text": [
      "0 0 ('A', 'F', '0') [9.85903026e-11 9.00000000e+00 1.00000000e+01 1.10000000e+01\n",
      " 1.20000000e+01] [9.85903026e-11 9.00000000e+00 1.00000000e+01 1.10000000e+01\n",
      " 1.20000000e+01]\n",
      "0 1 ('A', 'F', '1') [15. 23. 26. 25. 27.] [15. 14. 16. 14. 15.]\n",
      "0 2 ('A', 'F', '2') [35. 40. 44. 42. 45.] [20. 17. 18. 17. 18.]\n",
      "1 3 ('A', 'C', '0') [19. 10. 12. 14. 15.] [19. 10. 12. 14. 15.]\n",
      "2 4 ('A', 'E', '0') [20. 19. 22. 20. 21.] [20. 19. 22. 20. 21.]\n",
      "2 5 ('A', 'E', '1') [48. 44. 48. 45. 47.] [28. 25. 26. 25. 26.]\n",
      "3 6 ('A', 'B', '0') [201. 138. 161. 130. 173.] [201. 138. 161. 130. 173.]\n",
      "4 7 ('A', 'D', '0') [37. 35. 36. 35. 35.] [37. 35. 36. 35. 35.]\n",
      "5 8 ('B', 'F', '0') [16. 10. 12. 13. 14.] [16. 10. 12. 13. 14.]\n",
      "5 9 ('B', 'F', '1') [34. 27. 32. 32. 34.] [18. 17. 20. 19. 20.]\n",
      "6 10 ('B', 'C', '0') [21. 13. 14. 18. 18.] [21. 13. 14. 18. 18.]\n",
      "7 11 ('B', 'E', '0') [24. 24. 29. 27. 27.] [24. 24. 29. 27. 27.]\n",
      "8 12 ('C', 'F', '0') [62. 55. 65. 56. 58.] [62. 55. 65. 56. 58.]\n",
      "9 13 ('D', 'F', '0') [53. 39. 41. 40. 44.] [53. 39. 41. 40. 44.]\n",
      "10 14 ('D', 'E', '0') [134.  99. 101.  94. 107.] [134.  99. 101.  94. 107.]\n",
      "11 15 ('E', 'F', '0') [104.  78.  85.  85.  93.] [104.  78.  85.  85.  93.]\n",
      "[[ 35.  40.  44.  42.  45.]\n",
      " [ 19.  10.  12.  14.  15.]\n",
      " [ 48.  44.  48.  45.  47.]\n",
      " [201. 138. 161. 130. 173.]\n",
      " [ 37.  35.  36.  35.  35.]\n",
      " [ 34.  27.  32.  32.  34.]\n",
      " [ 21.  13.  14.  18.  18.]\n",
      " [ 24.  24.  29.  27.  27.]\n",
      " [ 62.  55.  65.  56.  58.]\n",
      " [ 53.  39.  41.  40.  44.]\n",
      " [134.  99. 101.  94. 107.]\n",
      " [104.  78.  85.  85.  93.]]\n"
     ]
    }
   ],
   "source": [
    "od_flow_matrix_x=od_flow_from_route_flow(od_pairs,x.value)\n",
    "print(od_flow_matrix_x)"
   ]
  },
  {
   "cell_type": "code",
   "execution_count": 49,
   "metadata": {},
   "outputs": [
    {
     "name": "stdout",
     "output_type": "stream",
     "text": [
      "The flows on each edge (one edge per row) (one time slice per column\n",
      "NOTE that all flows equal counts and that edge 5 flows have been imputed by the algorithm\n"
     ]
    },
    {
     "data": {
      "text/plain": [
       "array([[255., 190., 221., 189., 236.],\n",
       "       [ 85.,  77.,  80.,  77.,  79.],\n",
       "       [235., 180., 186., 176., 195.],\n",
       "       [210., 165., 180., 175., 190.],\n",
       "       [ 56.,  42.,  48.,  56.,  59.],\n",
       "       [ 77.,  74.,  87.,  80.,  83.],\n",
       "       [ 78.,  74.,  87.,  80.,  84.]])"
      ]
     },
     "execution_count": 49,
     "metadata": {},
     "output_type": "execute_result"
    }
   ],
   "source": [
    "print(\"The flows on each edge (one edge per row) (one time slice per column\")\n",
    "print(\"NOTE that all flows equal counts and that edge 5 flows have been imputed by the algorithm\")\n",
    "np.dot(a2ij,x.value)"
   ]
  },
  {
   "attachments": {},
   "cell_type": "markdown",
   "metadata": {},
   "source": [
    "# MCMC Sampling for Dummies\n",
    "- https://twiecki.io/blog/2015/11/10/mcmc-sampling/\n",
    "- also uses pymc3 which i can't get to run due to theano conflicts/not found"
   ]
  },
  {
   "attachments": {},
   "cell_type": "markdown",
   "metadata": {},
   "source": [
    "# https://github.com/fonnesbeck/scientific-python-workshop/blob/master/notebooks/MCMC.ipynb\n"
   ]
  },
  {
   "attachments": {},
   "cell_type": "markdown",
   "metadata": {},
   "source": [
    "### counts is (edges, time)"
   ]
  },
  {
   "cell_type": "code",
   "execution_count": 50,
   "metadata": {},
   "outputs": [],
   "source": [
    "#Y=counts[:,0]\n",
    "Y=counts"
   ]
  },
  {
   "cell_type": "code",
   "execution_count": 51,
   "metadata": {},
   "outputs": [
    {
     "data": {
      "text/plain": [
       "(7, 5)"
      ]
     },
     "execution_count": 51,
     "metadata": {},
     "output_type": "execute_result"
    }
   ],
   "source": [
    "Y.shape"
   ]
  },
  {
   "attachments": {},
   "cell_type": "markdown",
   "metadata": {},
   "source": [
    "### joint log-posterior conditional on parameter values"
   ]
  },
  {
   "attachments": {},
   "cell_type": "markdown",
   "metadata": {},
   "source": [
    "$yhat_i=aij*\\lambda_j$<br>\n",
    "$p_i=N(yhat_i,t)$\n"
   ]
  },
  {
   "attachments": {},
   "cell_type": "markdown",
   "metadata": {},
   "source": [
    "### posterior distribution for a single time slice"
   ]
  },
  {
   "cell_type": "code",
   "execution_count": 52,
   "metadata": {},
   "outputs": [],
   "source": [
    "from scipy.stats import distributions\n",
    "\n",
    "dgamma = distributions.gamma.logpdf\n",
    "dnorm = distributions.norm.logpdf\n",
    "a= .1#1. rate of occurrences (successes)\n",
    "b= 10#10 number of poisson distributions in the gamma\n",
    "\n",
    "def calc_posterior(lam, y=Y, A=aij):\n",
    "    # Y I x 1\n",
    "    # aij I x J\n",
    "    # lam J x 1\n",
    "    b=len(lam)\n",
    "    # Calculate joint posterior, given values for lambda (this is the average of X)\n",
    "    # The gamma pdf gives a likelihood for a Poisson distributed parameter of\n",
    "    # rate a (lambda) and number of Poisson distributions b\n",
    "    logp = dgamma(lam, lam,b)\n",
    "    #print(f\"calc_posterior lam {lam}\")\n",
    "    yhat = A @ lam\n",
    "    # Data likelihood. How appropriate is Std Dev 1?\n",
    "    #print(f\"calc_posterior yhat {yhat.shape} Y {Y.shape} lam {lam.shape}\")\n",
    "    #print(f\"calc_posterior yhat {yhat}\")\n",
    "    logp += sum(dnorm(Y, yhat, 1.))\n",
    "    logp=logp.sum()\n",
    "    \n",
    "    return logp"
   ]
  },
  {
   "attachments": {},
   "cell_type": "markdown",
   "metadata": {},
   "source": [
    "### posterior distribution with any time slice (pass index)"
   ]
  },
  {
   "cell_type": "code",
   "execution_count": 53,
   "metadata": {},
   "outputs": [],
   "source": [
    "from scipy.stats import distributions\n",
    "\n",
    "dgamma = distributions.gamma.logpdf\n",
    "dnorm = distributions.norm.logpdf\n",
    "a= .1#1. rate of occurrences (successes)\n",
    "b= 10#10 number of poisson distributions in the gamma\n",
    "\n",
    "def calc_posterior_t(lam, time_step, y=Y, A=aij):\n",
    "    # Y I x 1\n",
    "    # aij I x J\n",
    "    # lam J x 1\n",
    "    b=len(lam)\n",
    "    # Calculate joint posterior, given values for lambda (this is the average of X)\n",
    "    # The gamma pdf gives a likelihood for a Poisson distributed parameter of\n",
    "    # rate a (lambda) and number of Poisson distributions b\n",
    "    logp = dgamma(lam, lam,b)\n",
    "    #print(f\"calc_posterior lam {lam}\")\n",
    "    yhat = A @ lam\n",
    "    # Data likelihood. How appropriate is Std Dev 1?\n",
    "    #print(f\"calc_posterior yhat {yhat.shape} Y {Y.shape} lam {lam.shape}\")\n",
    "    logp += sum(dnorm(Y[:,time_step], yhat, 1.))\n",
    "    logp=logp.sum()\n",
    "    \n",
    "    return logp"
   ]
  },
  {
   "attachments": {},
   "cell_type": "markdown",
   "metadata": {},
   "source": [
    "### Acceptance step of Metropolis-Hastings is tuned here"
   ]
  },
  {
   "cell_type": "code",
   "execution_count": 54,
   "metadata": {},
   "outputs": [],
   "source": [
    "from scipy.stats import poisson\n",
    "\n",
    "rnorm=np.random.normal\n",
    "runif = np.random.rand\n",
    "\n",
    "def metropolis_tuned(n_iterations, initial_values, prop_var=1, \n",
    "                     tune_for=None, tune_interval=100):\n",
    "    \n",
    "    n_params = len(initial_values)\n",
    "    #n_params = initial_values.shape[1]# one time step\n",
    "            \n",
    "    # Initial proposal standard deviations\n",
    "    prop_sd = [prop_var] * n_params\n",
    "    \n",
    "    # Initialize trace for parameters\n",
    "    trace = np.empty((n_iterations+1, n_params))\n",
    "    \n",
    "    # Set initial values\n",
    "    trace[0,:] = initial_values# iteration, route flows\n",
    "    # Initialize acceptance counts\n",
    "    accepted = [0]*n_params\n",
    "    \n",
    "    # Calculate joint posterior for initial values\n",
    "    #current_log_prob = calc_posterior(*trace[0])\n",
    "#    print(f\"MH current lambda {trace[0]}\")\n",
    "    current_log_prob = calc_posterior(trace[0,:])\n",
    "#    print(f\"MH current_lp {current_log_prob}\")\n",
    "    if (tune_for > n_iterations):\n",
    "        print(\"WARNING: set tune_for < n_iterations or the output arrays will be empty\")\n",
    "    if tune_for is None:\n",
    "        tune_for = n_iterations/2\n",
    "    \n",
    "    for i in range(n_iterations):\n",
    "    \n",
    "        if not i%1000: print('Iteration %i' % i)\n",
    "    \n",
    "        # Grab current parameter values\n",
    "        current_params = trace[i,:]\n",
    "        param_index=np.arange(n_params)\n",
    "        np.random.shuffle(param_index)\n",
    "    \n",
    "        for j in param_index:# route flows\n",
    "    \n",
    "            # Get current value for parameter j\n",
    "            p = trace[i,:].copy()\n",
    "    \n",
    "            # Propose new value\n",
    "            \n",
    "            # Ensure theta is positive\n",
    "            #theta = np.exp(rnorm(np.log(current_params[j]), prop_sd[j]))\n",
    "            # Propose new value > 0 ... draw from an integer distribution instead of\n",
    "                #theta = np.exp(rnorm(np.log(current_params[j]), prop_sd[j]))\n",
    "            uu=runif()\n",
    "            kk=1.\n",
    "            if (uu < 0.5):\n",
    "                kk=-1.\n",
    "            step=np.max(kk*prop_sd[j],0)\n",
    "            theta = poisson.rvs(current_params[j]+step,size=1)            \n",
    "\n",
    "            # Insert new value \n",
    "            p[j] = theta\n",
    "    \n",
    "            # Calculate log posterior with proposed value\n",
    "#            print(f\"MH new lambda {p}\")\n",
    "            #proposed_log_prob = calc_posterior(*p)\n",
    "            proposed_log_prob = calc_posterior(p)\n",
    "#            print(f\"MH proposed_lp {proposed_log_prob}\")\n",
    "    \n",
    "            # Log-acceptance rate\n",
    "            alpha = proposed_log_prob - current_log_prob\n",
    "    \n",
    "            # Sample a uniform random variate\n",
    "            u = runif()\n",
    "    \n",
    "            # Test proposed value\n",
    "#            print(f\"MH iteration {i} trace before acceptance test {trace[i,:]} u {u} alpha {alpha}\")\n",
    "            if np.log(u) < alpha:\n",
    "                # Accept\n",
    "                print(f\"MH logu < alpha {np.log(u)} {alpha}\")\n",
    "                trace[i+1,j] = theta\n",
    "                current_log_prob = proposed_log_prob\n",
    "                accepted[j] += 1\n",
    "            else:\n",
    "                # Reject\n",
    "                trace[i+1,j] = trace[i,j]\n",
    "                \n",
    "            # Tune every 100 iterations\n",
    "            if (not (i+1) % tune_interval) and (i < tune_for):\n",
    "        \n",
    "                # Calculate aceptance rate\n",
    "                acceptance_rate = (1.*accepted[j])/tune_interval\n",
    "                if acceptance_rate<0.2:\n",
    "                    prop_sd[j] *= 0.9\n",
    "                elif acceptance_rate>0.5:\n",
    "                    prop_sd[j] *= 1.1\n",
    "                accepted[j] = 0\n",
    "                \n",
    "    return trace[tune_for:], accepted"
   ]
  },
  {
   "attachments": {},
   "cell_type": "markdown",
   "metadata": {},
   "source": [
    "# MH 2 with time-slice dimension\n",
    "### Estimates one theta per time slice\n",
    "### Time slices are independent"
   ]
  },
  {
   "cell_type": "code",
   "execution_count": 55,
   "metadata": {},
   "outputs": [],
   "source": [
    "rnorm=np.random.normal\n",
    "from scipy.stats import poisson\n",
    "runif = np.random.rand\n",
    "\n",
    "def metropolis_tuned2(n_iterations, initial_values, prop_var=1, \n",
    "                     tune_for=None, tune_interval=100):\n",
    "    # For each time slice ii we estimate all theta\n",
    "    # First initial_values index is time\n",
    "    # Second intitial_values index is number of theta\n",
    "    n_params = initial_values.shape[0]\n",
    "    trace = np.empty((n_iterations+1,n_params,initial_values.shape[1]))# iters, routes, time slices\n",
    "    # Initialize acceptance counts\n",
    "    accepted = np.zeros(initial_values.shape)# routes, time slices\n",
    "    for ii in range(initial_values.shape[1]):\n",
    "        \n",
    "    #n_params = initial_values.shape[1]# one time step\n",
    "            \n",
    "    # Initial proposal standard deviations\n",
    "        prop_sd = [prop_var] * n_params# each lambda can have a different variance if needed\n",
    "    \n",
    "    # Initialize trace for parameters\n",
    "    #    trace = np.empty((n_iterations+1, n_params))\n",
    "    \n",
    "    # Set initial values\n",
    "        trace[0,:,ii] = initial_values[:,ii]\n",
    "    \n",
    "    # Calculate joint posterior for initial values\n",
    "    #current_log_prob = calc_posterior(*trace[0])\n",
    " #       print(f\"MH2 time {ii} initial lambda {trace[0,:,ii]}\")\n",
    "        current_log_prob = calc_posterior_t(trace[0,:,ii],ii)\n",
    "        #current_log_prob = calc_posterior(trace[0,:,ii])\n",
    " #   print(f\"MH current_lp {current_log_prob}\")\n",
    "        if tune_for is None:\n",
    "            tune_for = n_iterations/2\n",
    "    \n",
    "        for i in range(n_iterations):\n",
    "    \n",
    "            if not i%1000: print('Iteration %i' % i)\n",
    "    \n",
    "        # Grab current parameter values\n",
    "            current_params = trace[i,:,ii]\n",
    "            param_index=np.arange(n_params)\n",
    "            np.random.shuffle(param_index)\n",
    "\n",
    "            for j in param_index:\n",
    "    \n",
    "            # Get current value for parameter j\n",
    "                p = trace[i,:,ii].copy()\n",
    "    \n",
    "            # Propose new value > 0 ... draw from an integer distribution instead of\n",
    "                #theta = np.exp(rnorm(np.log(current_params[j]), prop_sd[j]))\n",
    "                uu=runif()\n",
    "                kk=1.\n",
    "                if (uu < 0.5):\n",
    "                    kk=-1.\n",
    "                step=np.max(kk*prop_sd[j],0)\n",
    "                theta = poisson.rvs(current_params[j]+step,size=1)\n",
    "                #if(int(prop_sd[j]))>=1:\n",
    "                #    theta = current_params[j]+np.random.randint(-int(prop_sd[j]),int(prop_sd[j]))\n",
    "                #else:\n",
    "                #    print(f\"MH2 iteration {i} prop_sd < 1 theta[{j}] stopped updating\")\n",
    "            # Insert new value \n",
    "                p[j] = theta\n",
    "    \n",
    "            # Calculate log posterior with proposed value\n",
    "#            print(f\"MH new lambda {p}\")\n",
    "            #proposed_log_prob = calc_posterior(*p)\n",
    "                #proposed_log_prob = calc_posterior(p)\n",
    "                proposed_log_prob = calc_posterior_t(p,ii)\n",
    "#            print(f\"MH current_lp {proposed_log_prob}\")\n",
    "    \n",
    "            # Log-acceptance rate\n",
    "                alpha = proposed_log_prob - current_log_prob\n",
    "    \n",
    "            # Sample a uniform random variate\n",
    "                u = runif()\n",
    "    \n",
    "            # Test proposed value\n",
    "                if np.log(u) < alpha:\n",
    "                # Accept\n",
    "                    trace[i+1,j,ii] = theta\n",
    "                    current_log_prob = proposed_log_prob\n",
    "                    accepted[j,ii] += 1\n",
    "                else:\n",
    "                # Reject\n",
    "                    trace[i+1,j,ii] = trace[i,j,ii]\n",
    "                \n",
    "            # Tune every 100 iterations\n",
    "                if (not (i+1) % tune_interval) and (i < tune_for):\n",
    "        \n",
    "                # Calculate aceptance rate\n",
    "                    acceptance_rate = (1.*accepted[j,ii])/tune_interval\n",
    "                    if acceptance_rate<0.2:\n",
    "                        prop_sd[j] *= 0.9\n",
    "                    elif acceptance_rate>0.5:\n",
    "                        prop_sd[j] *= 1.1\n",
    "                    accepted[j,ii] = 0\n",
    "                \n",
    "    return trace[tune_for:], accepted#trace, accepted"
   ]
  },
  {
   "attachments": {},
   "cell_type": "markdown",
   "metadata": {},
   "source": [
    "### Run MH with tuned proposal variance"
   ]
  },
  {
   "cell_type": "code",
   "execution_count": 56,
   "metadata": {},
   "outputs": [
    {
     "data": {
      "text/plain": [
       "(16, 5)"
      ]
     },
     "execution_count": 56,
     "metadata": {},
     "output_type": "execute_result"
    }
   ],
   "source": [
    "# The result is sensitive to these assumptions because of the random walk\n",
    "# Plot the autocorrelation of lambdas\n",
    "#lam_init=np.array([100,100, 100, 100, 100, 100])\n",
    "lam_init=np.zeros(aij.shape[1])+100.\n",
    "# six routes in the rows, 5 time slices across the columns\n",
    "lam_init2=np.zeros((aij.shape[1],counts.shape[1]))+100\n",
    "lam_init2.shape"
   ]
  },
  {
   "attachments": {},
   "cell_type": "markdown",
   "metadata": {},
   "source": [
    "## <b>NOTE this is dangerous code. calc_posterior uses \"Y\" as default true dist mean. Yet no way to pass \"Y\" from MH to calc_posterior. Global variable!!"
   ]
  },
  {
   "cell_type": "code",
   "execution_count": 57,
   "metadata": {},
   "outputs": [
    {
     "name": "stdout",
     "output_type": "stream",
     "text": [
      "Iteration 0\n"
     ]
    },
    {
     "name": "stdout",
     "output_type": "stream",
     "text": [
      "Iteration 1000\n",
      "Iteration 2000\n",
      "Iteration 3000\n",
      "Iteration 4000\n",
      "Iteration 0\n",
      "Iteration 1000\n",
      "Iteration 2000\n",
      "Iteration 3000\n",
      "Iteration 4000\n",
      "Iteration 0\n",
      "Iteration 1000\n",
      "Iteration 2000\n",
      "Iteration 3000\n",
      "Iteration 4000\n",
      "Iteration 0\n",
      "Iteration 1000\n",
      "Iteration 2000\n",
      "Iteration 3000\n",
      "Iteration 4000\n",
      "Iteration 0\n",
      "Iteration 1000\n",
      "Iteration 2000\n",
      "Iteration 3000\n",
      "Iteration 4000\n"
     ]
    }
   ],
   "source": [
    "n_iter = 5000\n",
    "\n",
    "#trace_tuned, acc = metropolis_tuned(n_iter, lam_init, tune_for=4000)\n",
    "trace_tuned, acc = metropolis_tuned2(n_iter, lam_init2, prop_var=2,tune_interval=100,tune_for=4000)"
   ]
  },
  {
   "cell_type": "code",
   "execution_count": 58,
   "metadata": {},
   "outputs": [
    {
     "name": "stdout",
     "output_type": "stream",
     "text": [
      "[[ 93.00 102.00 108.00   0.00  83.00]\n",
      " [ 82.00  77.00  74.00   0.00  84.00]\n",
      " [112.00  75.00  94.00   0.00  92.00]\n",
      " [ 98.00  93.00  89.00   0.00 107.00]\n",
      " [ 96.00  82.00  95.00   0.00  95.00]\n",
      " [ 57.00  81.00  75.00   0.00  89.00]\n",
      " [ 22.00  30.00  33.00   0.00  29.00]\n",
      " [ 88.00  81.00  67.00   0.00  65.00]\n",
      " [ 89.00  92.00  84.00   0.00  91.00]\n",
      " [ 78.00  88.00  77.00   0.00  88.00]\n",
      " [108.00  94.00  81.00   0.00 101.00]\n",
      " [104.00  91.00  80.00   0.00  57.00]\n",
      " [ 50.00  66.00  60.00   0.00  60.00]\n",
      " [ 55.00  54.00  60.00   0.00  70.00]\n",
      " [ 39.00  38.00  42.00   0.00  43.00]\n",
      " [ 55.00  63.00  46.00   0.00  38.00]]\n"
     ]
    }
   ],
   "source": [
    "# percent accepted\n",
    "#np.array(acc, float)/trace_tuned.shape[0]\n",
    "#print(f\"{np.array2string(np.array(acc, float)/trace_tuned.shape[0],precision=2, floatmode='fixed')}\")\n",
    "print(f\"{np.array2string(np.array(acc, float),precision=2, floatmode='fixed')}\")\n"
   ]
  },
  {
   "attachments": {},
   "cell_type": "markdown",
   "metadata": {},
   "source": [
    "### the trace of the lambda estimates has dimension (n_trials, n_lamda = n route flows)\n",
    "### or if it is time slices: (n_trials, n_route_flows, n_time_slices)"
   ]
  },
  {
   "cell_type": "code",
   "execution_count": 59,
   "metadata": {},
   "outputs": [
    {
     "data": {
      "text/plain": [
       "(1001, 16, 5)"
      ]
     },
     "execution_count": 59,
     "metadata": {},
     "output_type": "execute_result"
    }
   ],
   "source": [
    "trace_tuned.shape"
   ]
  },
  {
   "cell_type": "code",
   "execution_count": 60,
   "metadata": {},
   "outputs": [
    {
     "name": "stdout",
     "output_type": "stream",
     "text": [
      "[[[ 17.  17.  17.  17.  17.]\n",
      "  [ 26.  22.  26.  22.  18.]\n",
      "  [ 18.  32.  18.  21.  20.]\n",
      "  ...\n",
      "  [ 59.  34.  52.  35.  43.]\n",
      "  [109.  96.  87. 103. 114.]\n",
      "  [ 90.  60.  61.  84.  89.]]\n",
      "\n",
      " [[ 17.  17.  17.  17.  17.]\n",
      "  [ 26.  22.  26.  22.  18.]\n",
      "  [ 18.  32.  18.  21.  20.]\n",
      "  ...\n",
      "  [ 59.  34.  52.  35.  43.]\n",
      "  [109.  96.  87. 103. 114.]\n",
      "  [ 90.  60.  61.  84.  89.]]\n",
      "\n",
      " [[ 17.  17.  17.  17.  17.]\n",
      "  [ 26.  22.  26.  22.  18.]\n",
      "  [ 18.  32.  18.  21.  20.]\n",
      "  ...\n",
      "  [ 59.  34.  52.  35.  43.]\n",
      "  [109.  96.  87. 103. 114.]\n",
      "  [ 90.  60.  61.  84.  89.]]\n",
      "\n",
      " ...\n",
      "\n",
      " [[ 17.  17.  17.  17.  17.]\n",
      "  [ 26.  22.  26.  22.  18.]\n",
      "  [ 18.  32.  18.  21.  20.]\n",
      "  ...\n",
      "  [ 59.  34.  52.  35.  43.]\n",
      "  [110.  96.  87. 103. 114.]\n",
      "  [ 90.  60.  61.  84.  89.]]\n",
      "\n",
      " [[ 17.  17.  17.  17.  17.]\n",
      "  [ 26.  22.  26.  22.  18.]\n",
      "  [ 18.  32.  18.  21.  20.]\n",
      "  ...\n",
      "  [ 59.  34.  52.  35.  43.]\n",
      "  [110.  96.  87. 103. 114.]\n",
      "  [ 90.  60.  61.  84.  89.]]\n",
      "\n",
      " [[ 17.  17.  17.  17.  17.]\n",
      "  [ 26.  22.  26.  22.  18.]\n",
      "  [ 18.  32.  18.  21.  20.]\n",
      "  ...\n",
      "  [ 59.  34.  52.  35.  43.]\n",
      "  [110.  96.  87. 103. 114.]\n",
      "  [ 90.  60.  61.  84.  89.]]]\n"
     ]
    }
   ],
   "source": [
    "#trace_tuned[0,:,0]\n",
    "print(trace_tuned)"
   ]
  },
  {
   "cell_type": "code",
   "execution_count": 61,
   "metadata": {},
   "outputs": [
    {
     "data": {
      "image/png": "[encoded data removed]",
      "text/plain": [
       "<Figure size 800x200 with 2 Axes>"
      ]
     },
     "metadata": {},
     "output_type": "display_data"
    },
    {
     "data": {
      "image/png": "[encoded data removed]",
      "text/plain": [
       "<Figure size 800x200 with 2 Axes>"
      ]
     },
     "metadata": {},
     "output_type": "display_data"
    },
    {
     "data": {
      "image/png": "[encoded data removed]",
      "text/plain": [
       "<Figure size 800x200 with 2 Axes>"
      ]
     },
     "metadata": {},
     "output_type": "display_data"
    },
    {
     "data": {
      "image/png": "[encoded data removed]",
      "text/plain": [
       "<Figure size 800x200 with 2 Axes>"
      ]
     },
     "metadata": {},
     "output_type": "display_data"
    },
    {
     "data": {
      "image/png": "[encoded data removed]",
      "text/plain": [
       "<Figure size 800x200 with 2 Axes>"
      ]
     },
     "metadata": {},
     "output_type": "display_data"
    },
    {
     "data": {
      "image/png": "[encoded data removed]",
      "text/plain": [
       "<Figure size 800x200 with 2 Axes>"
      ]
     },
     "metadata": {},
     "output_type": "display_data"
    },
    {
     "data": {
      "image/png": "[encoded data removed]",
      "text/plain": [
       "<Figure size 800x200 with 2 Axes>"
      ]
     },
     "metadata": {},
     "output_type": "display_data"
    },
    {
     "data": {
      "image/png": "[encoded data removed]",
      "text/plain": [
       "<Figure size 800x200 with 2 Axes>"
      ]
     },
     "metadata": {},
     "output_type": "display_data"
    },
    {
     "data": {
      "image/png": "[encoded data removed]",
      "text/plain": [
       "<Figure size 800x200 with 2 Axes>"
      ]
     },
     "metadata": {},
     "output_type": "display_data"
    },
    {
     "data": {
      "image/png": "[encoded data removed]",
      "text/plain": [
       "<Figure size 800x200 with 2 Axes>"
      ]
     },
     "metadata": {},
     "output_type": "display_data"
    },
    {
     "data": {
      "image/png": "[encoded data removed]",
      "text/plain": [
       "<Figure size 800x200 with 2 Axes>"
      ]
     },
     "metadata": {},
     "output_type": "display_data"
    },
    {
     "data": {
      "image/png": "[encoded data removed]",
      "text/plain": [
       "<Figure size 800x200 with 2 Axes>"
      ]
     },
     "metadata": {},
     "output_type": "display_data"
    },
    {
     "data": {
      "image/png": "[encoded data removed]",
      "text/plain": [
       "<Figure size 800x200 with 2 Axes>"
      ]
     },
     "metadata": {},
     "output_type": "display_data"
    },
    {
     "data": {
      "image/png": "[encoded data removed]",
      "text/plain": [
       "<Figure size 800x200 with 2 Axes>"
      ]
     },
     "metadata": {},
     "output_type": "display_data"
    },
    {
     "data": {
      "image/png": "[encoded data removed]",
      "text/plain": [
       "<Figure size 800x200 with 2 Axes>"
      ]
     },
     "metadata": {},
     "output_type": "display_data"
    },
    {
     "data": {
      "image/png": "[encoded data removed]",
      "text/plain": [
       "<Figure size 800x200 with 2 Axes>"
      ]
     },
     "metadata": {},
     "output_type": "display_data"
    }
   ],
   "source": [
    "time_slice=3\n",
    "lams=trace_tuned[:,:,time_slice]\n",
    "#lams=trace_tuned\n",
    "lam_labels=[\"$\\lambda1$\", \"$\\lambda2$\", \"$\\lambda3$\",\"$\\lambda4$\",\"$\\lambda5$\",\"$\\lambda6$\",\n",
    "            \"$\\lambda7$\",\"$\\lambda8$\",\"$\\lambda9$\",\"$\\lambda610$\",\"$\\lambda11$\",\"$\\lambda12$\",\n",
    "            \"$\\lambda13$\",\"$\\lambda14$\",\"$\\lambda15$\",\"$\\lambda16$\"]\n",
    "for param, samples in zip(lam_labels, lams.T):\n",
    "    fig, axes = plt.subplots(1, 2, figsize=(8, 2))\n",
    "    axes[0].plot(samples)\n",
    "    axes[0].set_ylabel(param)\n",
    "    axes[1].hist(samples[int(len(samples)/2):])"
   ]
  },
  {
   "attachments": {},
   "cell_type": "markdown",
   "metadata": {},
   "source": [
    "### Helper function to calculate autocorrelation of each lambda trace"
   ]
  },
  {
   "cell_type": "code",
   "execution_count": 62,
   "metadata": {},
   "outputs": [],
   "source": [
    "def autocorr(x, t=1):\n",
    "    return np.corrcoef(np.array([x[:-t], x[t:]]))"
   ]
  },
  {
   "attachments": {},
   "cell_type": "markdown",
   "metadata": {},
   "source": [
    "### This assigns the wrong color to each line"
   ]
  },
  {
   "cell_type": "code",
   "execution_count": 63,
   "metadata": {},
   "outputs": [],
   "source": [
    "def legend_without_duplicate_labels(ax):\n",
    "    handles, labels = ax.get_legend_handles_labels()\n",
    "    unique = [(h, l) for i, (h, l) in enumerate(zip(handles, labels)) if l not in labels[:i]]\n",
    "    ax.legend(*zip(*unique))"
   ]
  },
  {
   "attachments": {},
   "cell_type": "markdown",
   "metadata": {},
   "source": [
    "# Plot the lamdba trace autocorrelation\n",
    "- Some time slices are more correlated than others\n",
    "    - a_b : a is the coefficient (Lambda) and b is the time slice\n",
    "- These got \"stuck\" or optimized earlier\n",
    "- This will not plot if the output is constant (tuned model)"
   ]
  },
  {
   "cell_type": "code",
   "execution_count": 64,
   "metadata": {},
   "outputs": [
    {
     "name": "stderr",
     "output_type": "stream",
     "text": [
      "c:\\Users\\jkhac\\anaconda3\\envs\\final_proj_torch\\lib\\site-packages\\numpy\\lib\\function_base.py:2854: RuntimeWarning: invalid value encountered in divide\n",
      "  c /= stddev[:, None]\n"
     ]
    },
    {
     "data": {
      "image/png": "[encoded data removed]",
      "text/plain": [
       "<Figure size 640x480 with 1 Axes>"
      ]
     },
     "metadata": {},
     "output_type": "display_data"
    }
   ],
   "source": [
    "lags = np.arange(1, 100)\n",
    "fig, ax = plt.subplots()\n",
    "coeff=0\n",
    "ax.plot(lags, [autocorr(trace_tuned[:,coeff,4], l)[:,0] for l in lags], label=str(coeff)+'_4')\n",
    "ax.plot(lags, [autocorr(trace_tuned[:,coeff,3], l)[:,0] for l in lags], label=str(coeff)+'_3')\n",
    "ax.plot(lags, [autocorr(trace_tuned[:,coeff,2], l)[:,0] for l in lags], label=str(coeff)+'_2')\n",
    "ax.plot(lags, [autocorr(trace_tuned[:,coeff,1], l)[:,0] for l in lags], label=str(coeff)+'_1')\n",
    "ax.plot(lags, [autocorr(trace_tuned[:,coeff,0], l)[:,0] for l in lags], label=str(coeff)+'_0')\n",
    "\n",
    "#ax.plot(lags, [autocorr(trace_tuned[:,coeff], l)[:,0] for l in lags], label=str(coeff)+'_4')\n",
    "#ax.plot(lags, [autocorr(trace_tuned[:,coeff], l)[:,0] for l in lags], label=str(coeff)+'_3')\n",
    "#ax.plot(lags, [autocorr(trace_tuned[:,coeff], l)[:,0] for l in lags], label=str(coeff)+'_2')\n",
    "#ax.plot(lags, [autocorr(trace_tuned[:,coeff], l)[:,0] for l in lags], label=str(coeff)+'_1')\n",
    "#ax.plot(lags, [autocorr(trace_tuned[:,coeff], l)[:,0] for l in lags], label=str(coeff)+'_0')\n",
    "ax.legend()\n",
    "_ = ax.set(xlabel='lag', ylabel='autocorrelation', ylim=(-.1, 1))"
   ]
  },
  {
   "cell_type": "code",
   "execution_count": 65,
   "metadata": {},
   "outputs": [
    {
     "data": {
      "text/plain": [
       "array([ 17.,  22.,  21.,  17.,  27.,  26., 105.,  33.,  17.,  17.,  17.,\n",
       "        17.,  44.,  35., 103.,  84.])"
      ]
     },
     "execution_count": 65,
     "metadata": {},
     "output_type": "execute_result"
    }
   ],
   "source": [
    "#np.mean(trace_tuned,axis=0)\n",
    "np.mean(lams,axis=0)"
   ]
  },
  {
   "attachments": {},
   "cell_type": "markdown",
   "metadata": {},
   "source": [
    "# Mean flow values on the routes to compare with (ECOS_BB in cvxpy)\n",
    "[ 16.   21.6  15.   14.4   7.6  30.  158.2  34.6  12.4  21.    9.2  30.2\n",
    "  52.   49.2 100.4  77.2]"
   ]
  },
  {
   "cell_type": "code",
   "execution_count": 66,
   "metadata": {},
   "outputs": [
    {
     "name": "stdout",
     "output_type": "stream",
     "text": [
      "[ 17.0  22.8  21.8  17.0  19.4  28.2 141.4  30.4  17.0  18.8  17.0  20.0\n",
      "  46.0  44.6 101.8  76.8]\n",
      "[ 0.0  3.0  5.2  0.0  3.9 11.2 27.8  7.6  0.0  2.4  0.0  4.0  4.5  9.7\n",
      "  9.5 13.5]\n",
      "640.0197802197803\n"
     ]
    }
   ],
   "source": [
    "x_flows=np.mean(trace_tuned,axis=0)\n",
    "#np.mean(x_flows,axis=1)\n",
    "\n",
    "print(f\"{np.array2string(np.mean(x_flows,axis=1),precision=1, floatmode='fixed')}\")\n",
    "print(f\"{np.array2string(np.std(x_flows,axis=1),precision=1, floatmode='fixed')}\")\n",
    "print(np.sum(np.mean(x_flows,axis=1)))"
   ]
  },
  {
   "cell_type": "code",
   "execution_count": 67,
   "metadata": {},
   "outputs": [],
   "source": [
    "y_mcmc= aij @ x_flows"
   ]
  },
  {
   "cell_type": "code",
   "execution_count": 68,
   "metadata": {},
   "outputs": [
    {
     "data": {
      "image/png": "[encoded data removed]",
      "text/plain": [
       "<Figure size 640x480 with 1 Axes>"
      ]
     },
     "metadata": {},
     "output_type": "display_data"
    }
   ],
   "source": [
    "\n",
    "plt.scatter(counts,y_mcmc)\n",
    "plt.plot(counts,counts,color=\"red\")\n",
    "plt.suptitle(\"Dey Model 1 avg route flows on 16 routes over 7 time periods\")\n",
    "plt.title(\"MCMC Poisson vs. counts\")\n",
    "plt.ylabel(\"Counts generated by MCMC\")\n",
    "plt.xlabel(\"Input Counts\")\n",
    "plt.savefig(path+\"/MCMC_Model1DeyEtAl_counts\")"
   ]
  },
  {
   "cell_type": "code",
   "execution_count": 69,
   "metadata": {},
   "outputs": [
    {
     "data": {
      "image/png": "[encoded data removed]",
      "text/plain": [
       "<Figure size 640x480 with 1 Axes>"
      ]
     },
     "metadata": {},
     "output_type": "display_data"
    }
   ],
   "source": [
    "plt.scatter(counts,aij@x.value)\n",
    "plt.plot(counts,counts,color=\"red\")\n",
    "plt.suptitle(\"Dey Model 1 avg route flows on 16 routes over 7 time periods\")\n",
    "plt.title(\"CVXPY (ECOS_BB)\")\n",
    "plt.ylabel(\"Counts Flow DNN\")\n",
    "plt.xlabel(\"Counts CVXPY\")\n",
    "plt.savefig(path+\"/CVXPY_Model1DeyEtAl_counts\")"
   ]
  },
  {
   "cell_type": "code",
   "execution_count": 70,
   "metadata": {},
   "outputs": [
    {
     "data": {
      "text/plain": [
       "array([[ 17.        ,  17.        ,  17.        ,  17.        ,\n",
       "         17.        ],\n",
       "       [ 26.        ,  22.        ,  26.        ,  22.        ,\n",
       "         18.        ],\n",
       "       [ 18.        ,  32.        ,  18.        ,  21.        ,\n",
       "         20.        ],\n",
       "       [ 17.        ,  17.        ,  17.        ,  17.        ,\n",
       "         17.        ],\n",
       "       [ 17.        ,  17.        ,  19.        ,  27.        ,\n",
       "         17.        ],\n",
       "       [ 48.97302697,  19.        ,  29.        ,  26.        ,\n",
       "         18.        ],\n",
       "       [178.        , 117.        , 141.        , 105.        ,\n",
       "        166.        ],\n",
       "       [ 18.03896104,  27.        ,  33.        ,  33.        ,\n",
       "         41.        ],\n",
       "       [ 17.        ,  17.        ,  17.        ,  17.        ,\n",
       "         17.        ],\n",
       "       [ 17.        ,  17.        ,  23.        ,  17.        ,\n",
       "         20.        ],\n",
       "       [ 17.        ,  17.        ,  17.        ,  17.        ,\n",
       "         17.        ],\n",
       "       [ 18.02197802,  18.04195804,  19.        ,  17.        ,\n",
       "         28.        ],\n",
       "       [ 44.        ,  40.        ,  53.        ,  44.        ,\n",
       "         49.        ],\n",
       "       [ 59.        ,  34.        ,  52.        ,  35.        ,\n",
       "         43.        ],\n",
       "       [109.02297702,  96.        ,  87.        , 103.        ,\n",
       "        114.        ],\n",
       "       [ 90.        ,  60.        ,  61.        ,  84.        ,\n",
       "         89.        ]])"
      ]
     },
     "execution_count": 70,
     "metadata": {},
     "output_type": "execute_result"
    }
   ],
   "source": [
    "x_flows"
   ]
  },
  {
   "cell_type": "code",
   "execution_count": 71,
   "metadata": {},
   "outputs": [
    {
     "data": {
      "image/png": "[encoded data removed]",
      "text/plain": [
       "<Figure size 640x480 with 1 Axes>"
      ]
     },
     "metadata": {},
     "output_type": "display_data"
    }
   ],
   "source": [
    "plt.scatter(x.value, x_flows)\n",
    "plt.plot(x.value, x.value, \"-\", color=\"red\")\n",
    "plt.suptitle(\"Dey Model 1 avg route flows on 16 routes over 7 time periods\")\n",
    "plt.title(\"MCMC Poisson vs. CVXPY (ECOS_BB)\")\n",
    "plt.ylabel(\"Route Flow DNN\")\n",
    "plt.xlabel(\"Route Flow CVXPY\")\n",
    "plt.savefig(path+\"/MCMC_Model1DeyEtAl_vs_CVXPY_route_flow\")"
   ]
  },
  {
   "cell_type": "code",
   "execution_count": 72,
   "metadata": {},
   "outputs": [
    {
     "name": "stdout",
     "output_type": "stream",
     "text": [
      "0 0 ('A', 'F', '0') [17. 17. 17. 17. 17.] [17. 17. 17. 17. 17.]\n",
      "0 1 ('A', 'F', '1') [43. 39. 43. 39. 35.] [26. 22. 26. 22. 18.]\n",
      "0 2 ('A', 'F', '2') [61. 71. 61. 60. 55.] [18. 32. 18. 21. 20.]\n",
      "1 3 ('A', 'C', '0') [17. 17. 17. 17. 17.] [17. 17. 17. 17. 17.]\n",
      "2 4 ('A', 'E', '0') [17. 17. 19. 27. 17.] [17. 17. 19. 27. 17.]\n",
      "2 5 ('A', 'E', '1') [65.97302697 36.         48.         53.         35.        ] [48.97302697 19.         29.         26.         18.        ]\n",
      "3 6 ('A', 'B', '0') [178. 117. 141. 105. 166.] [178. 117. 141. 105. 166.]\n",
      "4 7 ('A', 'D', '0') [18.03896104 27.         33.         33.         41.        ] [18.03896104 27.         33.         33.         41.        ]\n",
      "5 8 ('B', 'F', '0') [17. 17. 17. 17. 17.] [17. 17. 17. 17. 17.]\n",
      "5 9 ('B', 'F', '1') [34. 34. 40. 34. 37.] [17. 17. 23. 17. 20.]\n",
      "6 10 ('B', 'C', '0') [17. 17. 17. 17. 17.] [17. 17. 17. 17. 17.]\n",
      "7 11 ('B', 'E', '0') [18.02197802 18.04195804 19.         17.         28.        ] [18.02197802 18.04195804 19.         17.         28.        ]\n",
      "8 12 ('C', 'F', '0') [44. 40. 53. 44. 49.] [44. 40. 53. 44. 49.]\n",
      "9 13 ('D', 'F', '0') [59. 34. 52. 35. 43.] [59. 34. 52. 35. 43.]\n",
      "10 14 ('D', 'E', '0') [109.02297702  96.          87.         103.         114.        ] [109.02297702  96.          87.         103.         114.        ]\n",
      "11 15 ('E', 'F', '0') [90. 60. 61. 84. 89.] [90. 60. 61. 84. 89.]\n",
      "[[ 61.          71.          61.          60.          55.        ]\n",
      " [ 17.          17.          17.          17.          17.        ]\n",
      " [ 65.97302697  36.          48.          53.          35.        ]\n",
      " [178.         117.         141.         105.         166.        ]\n",
      " [ 18.03896104  27.          33.          33.          41.        ]\n",
      " [ 34.          34.          40.          34.          37.        ]\n",
      " [ 17.          17.          17.          17.          17.        ]\n",
      " [ 18.02197802  18.04195804  19.          17.          28.        ]\n",
      " [ 44.          40.          53.          44.          49.        ]\n",
      " [ 59.          34.          52.          35.          43.        ]\n",
      " [109.02297702  96.          87.         103.         114.        ]\n",
      " [ 90.          60.          61.          84.          89.        ]]\n"
     ]
    }
   ],
   "source": [
    "od_flow_matrix_mcmc=od_flow_from_route_flow(od_pairs,x_flows)\n",
    "print(od_flow_matrix_mcmc)"
   ]
  },
  {
   "attachments": {},
   "cell_type": "markdown",
   "metadata": {},
   "source": [
    "### Plot the od flows and compare\n",
    "- Plot is OD flow on y and time on x"
   ]
  },
  {
   "cell_type": "code",
   "execution_count": 73,
   "metadata": {},
   "outputs": [
    {
     "data": {
      "image/png": "[encoded data removed]",
      "text/plain": [
       "<Figure size 1200x400 with 6 Axes>"
      ]
     },
     "metadata": {},
     "output_type": "display_data"
    }
   ],
   "source": [
    "fig, axes = plt.subplots(1, 3, figsize=(12, 4))\n",
    "im1=axes[0].imshow(od_flow_matrix_x, cmap='hot_r', interpolation='nearest',vmin=0, vmax=220)\n",
    "im2=axes[1].imshow(od_flow_matrix_mcmc, cmap='hot_r', interpolation='nearest',vmin=0, vmax=220)\n",
    "im3=axes[2].imshow(od_flow_matrix_mcmc-od_flow_matrix_x, cmap='hot_r', interpolation='nearest',vmin=0, vmax=220)\n",
    "\n",
    "axes[0].title.set_text('cvxpy')\n",
    "axes[0].set_ylabel(\"OD relation\")\n",
    "axes[0].set_xlabel(\"time\")\n",
    "axes[1].title.set_text(\"MCMC Poisson\")\n",
    "axes[2].title.set_text(\"Diff\")\n",
    "\n",
    "plt.suptitle(\"Calculated OD Flows Model 1 Dey\")\n",
    "plt.colorbar(im1)\n",
    "plt.colorbar(im2)\n",
    "plt.colorbar(im3)\n",
    "plt.savefig(path+\"/MCMC_Model1DeyEtAl_vs_CVXPY_od_flow_heatmap\")\n",
    "plt.show()\n"
   ]
  },
  {
   "cell_type": "code",
   "execution_count": 74,
   "metadata": {},
   "outputs": [
    {
     "name": "stdout",
     "output_type": "stream",
     "text": [
      "The flows on each edge (one edge per row) in the 5 time slices (one time slice per column\n",
      "NOTE that all flows equal counts and that edge 2 flows have been imputed by the algorithm\n"
     ]
    },
    {
     "data": {
      "text/plain": [
       "array([[255.        , 190.        , 220.        , 188.        ,\n",
       "        235.        ],\n",
       "       [ 85.01198801,  78.        ,  80.        ,  80.        ,\n",
       "         79.        ],\n",
       "       [234.996004  , 181.        , 186.        , 185.        ,\n",
       "        195.        ],\n",
       "       [210.        , 165.        , 180.        , 179.        ,\n",
       "        190.        ],\n",
       "       [ 68.        ,  68.        ,  68.        ,  68.        ,\n",
       "         68.        ],\n",
       "       [ 78.02197802,  74.04195804,  87.        ,  83.        ,\n",
       "         83.        ],\n",
       "       [ 78.        ,  74.        ,  87.        ,  78.        ,\n",
       "         83.        ]])"
      ]
     },
     "execution_count": 74,
     "metadata": {},
     "output_type": "execute_result"
    }
   ],
   "source": [
    "print(\"The flows on each edge (one edge per row) in the 5 time slices (one time slice per column\")\n",
    "print(\"NOTE that all flows equal counts and that edge 2 flows have been imputed by the algorithm\")\n",
    "np.dot(a2ij,x_flows)"
   ]
  },
  {
   "attachments": {},
   "cell_type": "markdown",
   "metadata": {},
   "source": [
    "### 50 random regression lines drawn from the posterior"
   ]
  },
  {
   "cell_type": "code",
   "execution_count": 75,
   "metadata": {},
   "outputs": [],
   "source": [
    "#plt.plot(age, price, 'bo')\n",
    "#plt.xlabel('age (years)'); plt.ylabel('price ($1000\\'s)')\n",
    "#xvals = np.linspace(age.min(), age.max())\n",
    "#for i in range(50):\n",
    "#    b0,b1,tau = trace_tuned[np.random.randint(0, 1000)]\n",
    "#    plt.plot(xvals, b0 + b1*xvals, 'r-', alpha=0.2)"
   ]
  },
  {
   "cell_type": "code",
   "execution_count": null,
   "metadata": {},
   "outputs": [],
   "source": []
  }
 ],
 "metadata": {
  "kernelspec": {
   "display_name": "final_proj_env",
   "language": "python",
   "name": "python3"
  },
  "language_info": {
   "codemirror_mode": {
    "name": "ipython",
    "version": 3
   },
   "file_extension": ".py",
   "mimetype": "text/x-python",
   "name": "python",
   "nbconvert_exporter": "python",
   "pygments_lexer": "ipython3",
   "version": "3.9.0"
  },
  "orig_nbformat": 4
 },
 "nbformat": 4,
 "nbformat_minor": 2
}

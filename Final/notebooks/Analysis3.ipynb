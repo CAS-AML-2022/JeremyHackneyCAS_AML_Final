{
 "cells": [
  {
   "attachments": {},
   "cell_type": "markdown",
   "metadata": {},
   "source": [
    "# Read in the route flows (aij matrix) or OD flows (P_mat)\n",
    "### create plots of OD_flow vs time for selected OD relations\n",
    "### create heatmaps of OD_flow vs. time\n",
    "### calculate MSE of OD_Flow across models and/or vs. a reference. MLP 2 routes aij\n",
    "### calculate MSE of calcualted counts vs. actual\n",
    "### analysis of zero-flow edges vs. counters with counts: where, what systematic cause\n",
    "### would an ensemble (mean, std dev/sqrt(N)) give a most likely best OD distribution?\n"
   ]
  },
  {
   "cell_type": "code",
   "execution_count": 1,
   "metadata": {},
   "outputs": [],
   "source": [
    "import pandas as pd\n",
    "import geopandas\n",
    "import numpy as np\n",
    "import cvxpy as cvx\n",
    "import osmnx as osmnx\n",
    "import networkx as nx\n",
    "import matplotlib.pyplot as plt\n",
    "import sklearn as sklearn"
   ]
  },
  {
   "cell_type": "code",
   "execution_count": 2,
   "metadata": {},
   "outputs": [],
   "source": [
    "data_dir = \"../UTD2019/\"\n",
    "counts_file = \"utd19_u - Copy.csv\"\n",
    "detectors_file = \"detectors_public - Copy.csv\"\n",
    "links_file = \"links.csv\""
   ]
  },
  {
   "cell_type": "code",
   "execution_count": 3,
   "metadata": {},
   "outputs": [],
   "source": [
    "city=\"melbourne\""
   ]
  },
  {
   "attachments": {},
   "cell_type": "markdown",
   "metadata": {},
   "source": [
    "# Output filenames are somewhat garbled.\n",
    "# The first portion of the name is the name of the model.\n",
    "### Aij and P_mat were calcualted for all models so the suffix \"Aij\" or \"P_mat\".npz means this matrix, regardless of the rest of the filename.\n",
    "### Aij and P_mat only change if the number of routes changes so they are duplicated in the output\n",
    "### _num means number of routes per OD relation"
   ]
  },
  {
   "cell_type": "code",
   "execution_count": 4,
   "metadata": {},
   "outputs": [],
   "source": [
    "data=np.load(data_dir+\"/OSM/\"+city+\"/Aij.npz\")#MLP_aij_test_2_Aij\n",
    "aij_2=data[\"aij\"]\n",
    "data=np.load(data_dir+\"/OSM/\"+city+\"/AE_P_mat_test_1_Aij.npz\")#\n",
    "aij_1=data[\"aij\"]\n",
    "data=np.load(data_dir+\"/OSM/\"+city+\"/Aij_5_route.npz\")\n",
    "aij_5=data[\"aij\"]\n",
    "data=np.load(data_dir+\"/OSM/\"+city+\"/Aij_10_route.npz\")#MLP_aij_test_10_Aij\n",
    "aij_10=data[\"aij\"]\n",
    "data=np.load(data_dir+\"/OSM/\"+city+\"/MLP_aij_test_25_Aij.npz\")\n",
    "aij_25=data[\"aij\"]"
   ]
  },
  {
   "attachments": {},
   "cell_type": "markdown",
   "metadata": {},
   "source": [
    "### Aij matrix across different numbers of routes/OD"
   ]
  },
  {
   "cell_type": "code",
   "execution_count": 5,
   "metadata": {},
   "outputs": [
    {
     "name": "stdout",
     "output_type": "stream",
     "text": [
      "0.033,0.036,0.041,0.044,0.050\n",
      "(67, 319) (67, 627) (67, 1545) (67, 3075) (67, 7665)\n"
     ]
    }
   ],
   "source": [
    "a_sparse_1=np.sum(aij_1)/(aij_1.size)\n",
    "a_sparse_2=np.sum(aij_2)/(aij_2.size)\n",
    "a_sparse_5=np.sum(aij_5)/(aij_5.size)\n",
    "a_sparse_10=np.sum(aij_10)/(aij_10.size)\n",
    "a_sparse_25=np.sum(aij_25)/(aij_25.size)\n",
    "\n",
    "print(\"%5.3f,%5.3f,%5.3f,%5.3f,%5.3f\" % (np.sum(aij_1)/(aij_1.size),np.sum(aij_2)/(aij_2.size),np.sum(aij_5)/(aij_5.size),np.sum(aij_10)/(aij_10.size),np.sum(aij_25)/(aij_25.size)))\n",
    "print(aij_1.shape, aij_2.shape, aij_5.shape, aij_10.shape, aij_25.shape)"
   ]
  },
  {
   "cell_type": "code",
   "execution_count": 6,
   "metadata": {},
   "outputs": [],
   "source": [
    "data=np.load(data_dir+\"/OSM/\"+city+\"/AE_P_mat_test_1_P_mat.npz\")#\n",
    "P_mat_1=data[\"P_mat\"]\n",
    "data=np.load(data_dir+\"/OSM/\"+city+\"/AE_aij_P_mat.npz\")#\n",
    "P_mat_2=data[\"P_mat\"]\n",
    "data=np.load(data_dir+\"/OSM/\"+city+\"/P_mat_5_route.npz\")\n",
    "P_mat_5=data[\"P_mat\"]\n",
    "data=np.load(data_dir+\"/OSM/\"+city+\"/AE_P_mat_test_10_P_mat.npz\")#\n",
    "P_mat_10=data[\"P_mat\"]\n",
    "data=np.load(data_dir+\"/OSM/\"+city+\"/MLP_aij_test_25_P_mat.npz\")\n",
    "P_mat_25=data[\"P_mat\"]"
   ]
  },
  {
   "cell_type": "code",
   "execution_count": 7,
   "metadata": {},
   "outputs": [
    {
     "name": "stdout",
     "output_type": "stream",
     "text": [
      "7.954e-04,5.622e-06,1.518e-11,1.277e-10,2.997e-23\n",
      "(17.0, 0.1201559674534303, 3.2453726264380824e-07, 2.730041938345194e-06, 6.406400263126424e-19)\n",
      "(67, 319) (67, 319) (67, 319) (67, 319) (67, 319)\n"
     ]
    }
   ],
   "source": [
    "print(\"%5.3e,%5.3e,%5.3e,%5.3e,%5.3e\" % (np.sum(P_mat_1)/(P_mat_1.size),np.sum(P_mat_2)/(P_mat_2.size),np.sum(P_mat_5)/(P_mat_5.size),np.sum(P_mat_10)/(P_mat_10.size),np.sum(P_mat_25)/(P_mat_25.size)))\n",
    "print((np.sum(P_mat_1),np.sum(P_mat_2),np.sum(P_mat_5),np.sum(P_mat_10),np.sum(P_mat_25)))\n",
    "print(P_mat_1.shape, P_mat_2.shape, P_mat_5.shape, P_mat_10.shape, P_mat_25.shape)"
   ]
  },
  {
   "attachments": {},
   "cell_type": "markdown",
   "metadata": {},
   "source": [
    "### Open the od_pairs file (list)"
   ]
  },
  {
   "cell_type": "code",
   "execution_count": 8,
   "metadata": {},
   "outputs": [],
   "source": [
    "import json\n",
    "import pickle\n",
    "\n",
    "with open(data_dir+\"/OSM/\"+city+\"/od_pairs.pkl\", 'rb') as f:\n",
    "    od_pairs = pickle.load(f)\n",
    "\n",
    "with open(data_dir+\"/OSM/\"+city+\"/od_route_names_dict_1.pkl\", \"rb\") as f:\n",
    "    od_route_names_dict_1=pickle.load(f)\n",
    "\n",
    "with open(data_dir+\"/OSM/\"+city+\"/od_route_names_dict_2.pkl\", \"rb\") as f:\n",
    "    od_route_names_dict_2=pickle.load(f)\n",
    "\n",
    "with open(data_dir+\"/OSM/\"+city+\"/od_route_names_dict_5.pkl\", \"rb\") as f:\n",
    "    od_route_names_dict_5=pickle.load(f)\n",
    "\n",
    "with open(data_dir+\"/OSM/\"+city+\"/od_route_names_dict_10.pkl\", \"rb\") as f:\n",
    "    od_route_names_dict_10=pickle.load(f)\n",
    "\n",
    "with open(data_dir+\"/OSM/\"+city+\"/od_route_names_dict_25.pkl\", \"rb\") as f:\n",
    "    od_route_names_dict_25=pickle.load(f)"
   ]
  },
  {
   "cell_type": "code",
   "execution_count": 9,
   "metadata": {},
   "outputs": [],
   "source": [
    "# Make OD flows out of the route flows by summing over route flows for each OD\n",
    "\n",
    "def od_flow_from_route_flow(od_pairs, route_flows,od_route_names_dict):\n",
    "    \n",
    " # Make OD flows out of the route flows by summing over route flows for each OD\n",
    "    I=route_flows.shape[1]\n",
    "    J=len(od_pairs)\n",
    "    j=0\n",
    "    i_r=0\n",
    "    od_flow=np.zeros((I))\n",
    "    od_flow_matrix=np.zeros((J,I))\n",
    "    for od in od_pairs:\n",
    "        od_flow=0\n",
    "        rs=od_route_names_dict[od]\n",
    "        for r in rs:\n",
    "            od_flow=od_flow+route_flows[i_r,:]\n",
    "#            print(j,i_r,r,od_flow, route_flows[i_r,:])\n",
    "            i_r+=1\n",
    "        od_flow_matrix[j,:]=od_flow\n",
    "        j+=1\n",
    "    return(od_flow_matrix)"
   ]
  },
  {
   "cell_type": "code",
   "execution_count": 10,
   "metadata": {},
   "outputs": [],
   "source": [
    "#RMSE\n",
    "def rmse(y1,y2):\n",
    "    return np.linalg.norm(y1 - y2) / np.sqrt(y1.size)\n",
    "    "
   ]
  },
  {
   "cell_type": "code",
   "execution_count": 11,
   "metadata": {},
   "outputs": [],
   "source": [
    "#RMSN\n",
    "def rmsn(y1,y2):\n",
    "    print(\"rmsn WARN may not be correct\")\n",
    "    return (np.linalg.norm(y1 - y2) / np.sqrt(y1.size))/np.mean(y1)\n",
    "    "
   ]
  },
  {
   "cell_type": "code",
   "execution_count": 12,
   "metadata": {},
   "outputs": [],
   "source": [
    "# MSE\n",
    "def mse(y1,y2):\n",
    "    return (np.square(y1 - y2)).mean()\n",
    "    "
   ]
  },
  {
   "cell_type": "code",
   "execution_count": 13,
   "metadata": {},
   "outputs": [],
   "source": [
    "# MAE\n",
    "def mae(y1,y2):\n",
    "    return (np.abs(y1-y2)).mean()"
   ]
  },
  {
   "cell_type": "code",
   "execution_count": 14,
   "metadata": {},
   "outputs": [],
   "source": [
    "# MAPE\n",
    "def mape(y1,y2):\n",
    "    return (np.abs((y1-y2)/y1)).mean()"
   ]
  },
  {
   "cell_type": "code",
   "execution_count": 15,
   "metadata": {},
   "outputs": [],
   "source": [
    "# MI\n",
    "#\n",
    "# For each time slice compare the distribution of flows across the OD relations\n",
    "# Take the average in units of nats (sum of log base e)\n",
    "#\n",
    "def mi(y1,y2):\n",
    "    mi=0\n",
    "    for i in range(y1.shape[1]):\n",
    "        mi+=sklearn.metrics.mutual_info_score(y1[:,i],y2[:,i])\n",
    "    return mi/i"
   ]
  },
  {
   "cell_type": "code",
   "execution_count": 16,
   "metadata": {},
   "outputs": [],
   "source": [
    "#zero\n",
    "#\n",
    "# The number of zeros in the od flow matrix\n",
    "#\n",
    "def zero(y):\n",
    "    return (y.size-np.count_nonzero(y))/y.size"
   ]
  },
  {
   "cell_type": "code",
   "execution_count": 17,
   "metadata": {},
   "outputs": [],
   "source": [
    "#odzero\n",
    "#\n",
    "# The number of OD relations with zeroes for all times\n",
    "#\n",
    "def odzero(y):\n",
    "    xx=np.sum(y,axis=1)\n",
    "    return zero(xx)"
   ]
  },
  {
   "attachments": {},
   "cell_type": "markdown",
   "metadata": {},
   "source": [
    "# The output (route or OD flows)"
   ]
  },
  {
   "attachments": {},
   "cell_type": "markdown",
   "metadata": {},
   "source": [
    "### Route flows"
   ]
  },
  {
   "cell_type": "code",
   "execution_count": 18,
   "metadata": {},
   "outputs": [],
   "source": [
    "aijname_cpu=[\"route_flows_mcmc\", \"route_flows_cvxpy\"]#npy\n",
    "aijname_mlp=[\"MLP_aij_out\",\"MLP_aij_cyclic_LR_out\",\"MLP_aij_test_25_out\",\"MLP_aij_cyclic_lr_1_route_out\", \"MLP_aij_cyclic_lr_5_route_out\",\"MLP_aij_cyclic_lr_10_route_out\",\n",
    "\"MLP_10_routes_cyclic_lr_out\"]#npz\n",
    "aijname_ae=[\"AE_aij_out\",\"AE_aij_cyclic_lr_out\",\"AE_aij_test_25_out\"]#npz"
   ]
  },
  {
   "cell_type": "code",
   "execution_count": 19,
   "metadata": {},
   "outputs": [],
   "source": [
    "data=np.load(data_dir+\"/OSM/\"+city+\"/AE_aij_out.npz\")\n",
    "ytrain=data[\"ytrain\"]\n",
    "yval=data[\"yval\"]\n",
    "xyxy=data[\"out_val_cpu\"]\n",
    "mat=od_flow_from_route_flow(od_pairs,xyxy.T,od_route_names_dict_2)"
   ]
  },
  {
   "cell_type": "code",
   "execution_count": 20,
   "metadata": {},
   "outputs": [
    {
     "data": {
      "text/plain": [
       "(319,)"
      ]
     },
     "execution_count": 20,
     "metadata": {},
     "output_type": "execute_result"
    }
   ],
   "source": [
    "xx=np.sum(mat,axis=1)\n",
    "xx.shape"
   ]
  },
  {
   "attachments": {},
   "cell_type": "markdown",
   "metadata": {},
   "source": [
    "### OD flows"
   ]
  },
  {
   "cell_type": "code",
   "execution_count": 21,
   "metadata": {},
   "outputs": [],
   "source": [
    "pname_mlp=[\"MLP_P_mat_out\",]#npz\n",
    "pname_ae=[\"AE_P_mat_out\",\"AE_P_mat_test_1_out\",\"AE_P_mat_test_10_out\"]#npz"
   ]
  },
  {
   "cell_type": "code",
   "execution_count": 22,
   "metadata": {},
   "outputs": [],
   "source": [
    "mcmc_x=np.load(data_dir+\"/OSM/\"+city+\"/\"+aijname_cpu[0]+\".npy\")\n",
    "cvxpy_x=np.load(data_dir+\"/OSM/\"+city+\"/\"+aijname_cpu[1]+\".npy\")"
   ]
  },
  {
   "cell_type": "code",
   "execution_count": 23,
   "metadata": {},
   "outputs": [],
   "source": [
    "mcmc_od_flow=od_flow_from_route_flow(od_pairs,mcmc_x,od_route_names_dict_2)\n",
    "mcmc_yval = aij_2 @ mcmc_x\n",
    "cvxpy_od_flow=od_flow_from_route_flow(od_pairs,cvxpy_x,od_route_names_dict_2)\n",
    "cvxpy_yval = aij_2 @ cvxpy_x"
   ]
  },
  {
   "cell_type": "code",
   "execution_count": 24,
   "metadata": {},
   "outputs": [
    {
     "name": "stdout",
     "output_type": "stream",
     "text": [
      "rmsn WARN may not be correct\n",
      "rmsn WARN may not be correct\n"
     ]
    }
   ],
   "source": [
    "#\n",
    "# Using MI with continuous variables warns us\n",
    "#\n",
    "import warnings\n",
    "warnings.filterwarnings(\"ignore\")\n",
    "\n",
    "nroutes_od=[]\n",
    "nroutes_od.append(2)# 2 routes per OD for mcmc\n",
    "nroutes_od.append(2)# 2 routes per OD for cvxpy\n",
    "\n",
    "asparse=[]\n",
    "asparse.append(a_sparse_2)# 2 routes per OD for mcmc\n",
    "asparse.append(a_sparse_2)# 2 routes per OD for cvxpy\n",
    "\n",
    "RMSEy=[]\n",
    "RMSEy.append(rmse(yval,mcmc_yval))\n",
    "RMSEy.append(rmse(yval,cvxpy_yval))\n",
    "\n",
    "RMSE=[]\n",
    "RMSE.append(rmse(cvxpy_od_flow,mcmc_od_flow))\n",
    "RMSE.append(rmse(cvxpy_od_flow,cvxpy_od_flow))\n",
    "\n",
    "RMSN=[]\n",
    "RMSN.append(rmsn(cvxpy_od_flow,mcmc_od_flow))\n",
    "RMSN.append(rmsn(cvxpy_od_flow,cvxpy_od_flow))\n",
    "\n",
    "MSE=[]\n",
    "MSE.append(mse(cvxpy_od_flow,mcmc_od_flow))\n",
    "MSE.append(mse(cvxpy_od_flow,cvxpy_od_flow))\n",
    "\n",
    "MAE=[]\n",
    "MAE.append(mae(cvxpy_od_flow,mcmc_od_flow))\n",
    "MAE.append(mae(cvxpy_od_flow,cvxpy_od_flow))\n",
    "\n",
    "MAPE=[]\n",
    "MAPE.append(mape(cvxpy_od_flow,mcmc_od_flow))\n",
    "MAPE.append(mape(cvxpy_od_flow,cvxpy_od_flow))\n",
    "\n",
    "MI=[]\n",
    "MI.append(mi(cvxpy_od_flow,mcmc_od_flow))\n",
    "MI.append(mi(cvxpy_od_flow,cvxpy_od_flow))\n",
    "\n",
    "MAX=[]\n",
    "MAX.append(np.max(mcmc_od_flow))\n",
    "MAX.append(np.max(cvxpy_od_flow))\n",
    "\n",
    "MEAN=[]\n",
    "MEAN.append(np.mean(mcmc_od_flow))\n",
    "MEAN.append(np.mean(cvxpy_od_flow))\n",
    "\n",
    "ZERO=[]\n",
    "ZERO.append(zero(mcmc_od_flow))\n",
    "ZERO.append(zero(cvxpy_od_flow))\n",
    "\n",
    "ODZERO=[]\n",
    "ODZERO.append(odzero(mcmc_od_flow))\n",
    "ODZERO.append(odzero(cvxpy_od_flow))"
   ]
  },
  {
   "attachments": {},
   "cell_type": "markdown",
   "metadata": {},
   "source": [
    "# Load a model's output"
   ]
  },
  {
   "cell_type": "code",
   "execution_count": 25,
   "metadata": {},
   "outputs": [],
   "source": [
    "# load the npz files\n",
    "datalist=[]\n",
    "for modelname in (aijname_mlp + aijname_ae):\n",
    "    datalist.append(np.load(data_dir+\"/OSM/\"+city+\"/\"+modelname+\".npz\"))"
   ]
  },
  {
   "cell_type": "code",
   "execution_count": 26,
   "metadata": {},
   "outputs": [
    {
     "name": "stdout",
     "output_type": "stream",
     "text": [
      "rmsn WARN may not be correct\n",
      "rmsn WARN may not be correct\n",
      "rmsn WARN may not be correct\n",
      "rmsn WARN may not be correct\n",
      "rmsn WARN may not be correct\n",
      "rmsn WARN may not be correct\n",
      "rmsn WARN may not be correct\n",
      "rmsn WARN may not be correct\n",
      "rmsn WARN may not be correct\n",
      "rmsn WARN may not be correct\n"
     ]
    }
   ],
   "source": [
    "for data in datalist:\n",
    "    yhats_train=data[\"yhats_train\"]\n",
    "    yhats_val=data[\"yhats_val\"]\n",
    "    out_train_cpu=data[\"out_train_cpu\"]\n",
    "    out_val_cpu=data[\"out_val_cpu\"]\n",
    "    avtrainloss=data[\"avtrainloss_trace\"]\n",
    "    avvalloss=data[\"avvalloss_trace\"]\n",
    "\n",
    "    if(out_val_cpu.shape[1]/len(od_pairs)>20):\n",
    "        od_flow_matrix=od_flow_from_route_flow(od_pairs,out_val_cpu.T,od_route_names_dict_25)\n",
    "        nroutes_od.append(25)\n",
    "        asparse.append(a_sparse_25)\n",
    "    elif((out_val_cpu.shape[1]/len(od_pairs))>8):\n",
    "        od_flow_matrix=od_flow_from_route_flow(od_pairs,out_val_cpu.T,od_route_names_dict_10)\n",
    "        nroutes_od.append(10)\n",
    "        asparse.append(a_sparse_10)\n",
    "    elif((out_val_cpu.shape[1]/len(od_pairs))>3):\n",
    "        od_flow_matrix=od_flow_from_route_flow(od_pairs,out_val_cpu.T,od_route_names_dict_5)\n",
    "        nroutes_od.append(5)\n",
    "        asparse.append(a_sparse_5)\n",
    "    elif((out_val_cpu.shape[1]/len(od_pairs))>1.5):\n",
    "        od_flow_matrix=od_flow_from_route_flow(od_pairs,out_val_cpu.T,od_route_names_dict_2)\n",
    "        nroutes_od.append(2)\n",
    "        asparse.append(a_sparse_2)\n",
    "    else:\n",
    "        od_flow_matrix=od_flow_from_route_flow(od_pairs,out_val_cpu.T,od_route_names_dict_1) \n",
    "        nroutes_od.append(1)\n",
    "        asparse.append(a_sparse_1)\n",
    "    RMSEy.append(rmse(yval,yhats_val.T))\n",
    "    RMSE.append(rmse(cvxpy_od_flow,od_flow_matrix))\n",
    "    RMSN.append(rmsn(cvxpy_od_flow,od_flow_matrix))\n",
    "    MSE.append(mse(cvxpy_od_flow,od_flow_matrix))\n",
    "    MAE.append(mae(cvxpy_od_flow,od_flow_matrix))\n",
    "    MAPE.append(mape(cvxpy_od_flow,od_flow_matrix))\n",
    "    MI.append(mi(cvxpy_od_flow,od_flow_matrix))\n",
    "    MAX.append(np.max(od_flow_matrix))\n",
    "    MEAN.append(np.mean(od_flow_matrix))\n",
    "    ZERO.append(zero(od_flow_matrix))\n",
    "    ODZERO.append(odzero(od_flow_matrix))"
   ]
  },
  {
   "cell_type": "code",
   "execution_count": 27,
   "metadata": {},
   "outputs": [],
   "source": [
    "# load the npz files\n",
    "datalist=[]\n",
    "for modelname in (pname_mlp + pname_ae):\n",
    "    datalist.append(np.load(data_dir+\"/OSM/\"+city+\"/\"+modelname+\".npz\"))"
   ]
  },
  {
   "cell_type": "code",
   "execution_count": 28,
   "metadata": {},
   "outputs": [
    {
     "name": "stdout",
     "output_type": "stream",
     "text": [
      "rmsn WARN may not be correct\n",
      "rmsn WARN may not be correct\n",
      "rmsn WARN may not be correct\n",
      "rmsn WARN may not be correct\n"
     ]
    }
   ],
   "source": [
    "for data in datalist:\n",
    "    yhats_train=data[\"yhats_train\"]\n",
    "    yhats_val=data[\"yhats_val\"]\n",
    "    out_train_cpu=data[\"out_train_cpu\"]\n",
    "    out_val_cpu=data[\"out_val_cpu\"]\n",
    "    avtrainloss=data[\"avtrainloss_trace\"]\n",
    "    avvalloss=data[\"avvalloss_trace\"]\n",
    "\n",
    "    od_flow_matrix=out_val_cpu.T\n",
    "    \n",
    "\n",
    "    RMSEy.append(rmse(yval,yhats_val.T))\n",
    "    RMSE.append(rmse(cvxpy_od_flow,od_flow_matrix))\n",
    "    RMSN.append(rmsn(cvxpy_od_flow,od_flow_matrix))\n",
    "    MSE.append(mse(cvxpy_od_flow,od_flow_matrix))\n",
    "    MAE.append(mae(cvxpy_od_flow,od_flow_matrix))\n",
    "    MAPE.append(mape(cvxpy_od_flow,od_flow_matrix))\n",
    "    MI.append(mi(cvxpy_od_flow,od_flow_matrix))\n",
    "    MAX.append(np.max(od_flow_matrix))\n",
    "    MEAN.append(np.mean(od_flow_matrix))\n",
    "    ZERO.append(zero(od_flow_matrix))\n",
    "    ODZERO.append(odzero(od_flow_matrix))\n",
    "nroutes_od.append(2)# hard-code the number of routes per OD for the P_mat cases\n",
    "nroutes_od.append(2)\n",
    "nroutes_od.append(1)\n",
    "nroutes_od.append(10)"
   ]
  },
  {
   "cell_type": "code",
   "execution_count": 29,
   "metadata": {},
   "outputs": [],
   "source": [
    "df=pd.DataFrame()\n",
    "df[\"modelname\"]=aijname_cpu+aijname_mlp+aijname_ae+pname_mlp+pname_ae\n",
    "df[\"nroutes\"]=nroutes_od\n",
    "df[\"rmsey\"]=RMSEy\n",
    "df[\"rmse\"]=RMSE\n",
    "df[\"rmsn\"]=RMSN\n",
    "df[\"mse\"]=MSE\n",
    "df[\"mae\"]=MAE\n",
    "df[\"mape\"]=MAPE\n",
    "df[\"mi\"]=MI\n",
    "df[\"max\"]=MAX\n",
    "df[\"mean\"]=MEAN\n",
    "df[\"zero\"]=ZERO\n",
    "df[\"odzero\"]=ODZERO"
   ]
  },
  {
   "cell_type": "code",
   "execution_count": 30,
   "metadata": {},
   "outputs": [
    {
     "data": {
      "text/plain": [
       "(319, 287)"
      ]
     },
     "execution_count": 30,
     "metadata": {},
     "output_type": "execute_result"
    }
   ],
   "source": [
    "mcmc_od_flow.shape"
   ]
  },
  {
   "cell_type": "code",
   "execution_count": 31,
   "metadata": {},
   "outputs": [
    {
     "data": {
      "text/html": [
       "<div>\n",
       "<style scoped>\n",
       "    .dataframe tbody tr th:only-of-type {\n",
       "        vertical-align: middle;\n",
       "    }\n",
       "\n",
       "    .dataframe tbody tr th {\n",
       "        vertical-align: top;\n",
       "    }\n",
       "\n",
       "    .dataframe thead th {\n",
       "        text-align: right;\n",
       "    }\n",
       "</style>\n",
       "<table border=\"1\" class=\"dataframe\">\n",
       "  <thead>\n",
       "    <tr style=\"text-align: right;\">\n",
       "      <th></th>\n",
       "      <th>modelname</th>\n",
       "      <th>nroutes</th>\n",
       "      <th>rmsey</th>\n",
       "      <th>rmse</th>\n",
       "      <th>rmsn</th>\n",
       "      <th>mse</th>\n",
       "      <th>mae</th>\n",
       "      <th>mape</th>\n",
       "      <th>mi</th>\n",
       "      <th>max</th>\n",
       "      <th>mean</th>\n",
       "      <th>zero</th>\n",
       "      <th>odzero</th>\n",
       "    </tr>\n",
       "  </thead>\n",
       "  <tbody>\n",
       "    <tr>\n",
       "      <th>0</th>\n",
       "      <td>route_flows_mcmc</td>\n",
       "      <td>2</td>\n",
       "      <td>130.31</td>\n",
       "      <td>27.13</td>\n",
       "      <td>3.38</td>\n",
       "      <td>736.18</td>\n",
       "      <td>13.33</td>\n",
       "      <td>1,051,292,323,578.77</td>\n",
       "      <td>2.55</td>\n",
       "      <td>607.00</td>\n",
       "      <td>13.79</td>\n",
       "      <td>0.00</td>\n",
       "      <td>0.00</td>\n",
       "    </tr>\n",
       "    <tr>\n",
       "      <th>1</th>\n",
       "      <td>route_flows_cvxpy</td>\n",
       "      <td>2</td>\n",
       "      <td>169.81</td>\n",
       "      <td>0.00</td>\n",
       "      <td>0.00</td>\n",
       "      <td>0.00</td>\n",
       "      <td>0.00</td>\n",
       "      <td>0.00</td>\n",
       "      <td>5.53</td>\n",
       "      <td>150.21</td>\n",
       "      <td>8.04</td>\n",
       "      <td>0.00</td>\n",
       "      <td>0.00</td>\n",
       "    </tr>\n",
       "    <tr>\n",
       "      <th>2</th>\n",
       "      <td>MLP_aij_out</td>\n",
       "      <td>2</td>\n",
       "      <td>136.07</td>\n",
       "      <td>23.10</td>\n",
       "      <td>2.87</td>\n",
       "      <td>533.71</td>\n",
       "      <td>12.68</td>\n",
       "      <td>855,419,201,625.68</td>\n",
       "      <td>3.33</td>\n",
       "      <td>237.08</td>\n",
       "      <td>12.34</td>\n",
       "      <td>0.45</td>\n",
       "      <td>0.26</td>\n",
       "    </tr>\n",
       "    <tr>\n",
       "      <th>3</th>\n",
       "      <td>MLP_aij_cyclic_LR_out</td>\n",
       "      <td>2</td>\n",
       "      <td>128.45</td>\n",
       "      <td>28.21</td>\n",
       "      <td>3.51</td>\n",
       "      <td>796.06</td>\n",
       "      <td>13.27</td>\n",
       "      <td>11,792,447,755.82</td>\n",
       "      <td>2.31</td>\n",
       "      <td>388.15</td>\n",
       "      <td>12.13</td>\n",
       "      <td>0.62</td>\n",
       "      <td>0.46</td>\n",
       "    </tr>\n",
       "    <tr>\n",
       "      <th>4</th>\n",
       "      <td>MLP_aij_test_25_out</td>\n",
       "      <td>25</td>\n",
       "      <td>101.32</td>\n",
       "      <td>31.01</td>\n",
       "      <td>3.86</td>\n",
       "      <td>961.91</td>\n",
       "      <td>14.83</td>\n",
       "      <td>1,460,839,466,052.02</td>\n",
       "      <td>3.64</td>\n",
       "      <td>428.46</td>\n",
       "      <td>14.30</td>\n",
       "      <td>0.39</td>\n",
       "      <td>0.12</td>\n",
       "    </tr>\n",
       "    <tr>\n",
       "      <th>5</th>\n",
       "      <td>MLP_aij_cyclic_lr_1_route_out</td>\n",
       "      <td>1</td>\n",
       "      <td>149.49</td>\n",
       "      <td>27.30</td>\n",
       "      <td>3.40</td>\n",
       "      <td>745.47</td>\n",
       "      <td>13.07</td>\n",
       "      <td>11,479,418,995.85</td>\n",
       "      <td>2.12</td>\n",
       "      <td>328.93</td>\n",
       "      <td>10.69</td>\n",
       "      <td>0.66</td>\n",
       "      <td>0.42</td>\n",
       "    </tr>\n",
       "    <tr>\n",
       "      <th>6</th>\n",
       "      <td>MLP_aij_cyclic_lr_5_route_out</td>\n",
       "      <td>5</td>\n",
       "      <td>111.75</td>\n",
       "      <td>31.07</td>\n",
       "      <td>3.87</td>\n",
       "      <td>965.37</td>\n",
       "      <td>14.57</td>\n",
       "      <td>65,069,967,812.92</td>\n",
       "      <td>2.74</td>\n",
       "      <td>502.89</td>\n",
       "      <td>13.10</td>\n",
       "      <td>0.55</td>\n",
       "      <td>0.17</td>\n",
       "    </tr>\n",
       "    <tr>\n",
       "      <th>7</th>\n",
       "      <td>MLP_aij_cyclic_lr_10_route_out</td>\n",
       "      <td>10</td>\n",
       "      <td>105.06</td>\n",
       "      <td>30.42</td>\n",
       "      <td>3.78</td>\n",
       "      <td>925.18</td>\n",
       "      <td>13.86</td>\n",
       "      <td>528,218,315,100.22</td>\n",
       "      <td>2.94</td>\n",
       "      <td>538.45</td>\n",
       "      <td>12.76</td>\n",
       "      <td>0.51</td>\n",
       "      <td>0.14</td>\n",
       "    </tr>\n",
       "    <tr>\n",
       "      <th>8</th>\n",
       "      <td>MLP_10_routes_cyclic_lr_out</td>\n",
       "      <td>10</td>\n",
       "      <td>104.12</td>\n",
       "      <td>30.71</td>\n",
       "      <td>3.82</td>\n",
       "      <td>942.96</td>\n",
       "      <td>14.05</td>\n",
       "      <td>535,532,190,970.80</td>\n",
       "      <td>2.73</td>\n",
       "      <td>482.72</td>\n",
       "      <td>12.83</td>\n",
       "      <td>0.55</td>\n",
       "      <td>0.29</td>\n",
       "    </tr>\n",
       "    <tr>\n",
       "      <th>9</th>\n",
       "      <td>AE_aij_out</td>\n",
       "      <td>2</td>\n",
       "      <td>182.10</td>\n",
       "      <td>16.24</td>\n",
       "      <td>2.02</td>\n",
       "      <td>263.78</td>\n",
       "      <td>10.36</td>\n",
       "      <td>390,196,202,615.14</td>\n",
       "      <td>4.36</td>\n",
       "      <td>83.68</td>\n",
       "      <td>8.40</td>\n",
       "      <td>0.27</td>\n",
       "      <td>0.21</td>\n",
       "    </tr>\n",
       "    <tr>\n",
       "      <th>10</th>\n",
       "      <td>AE_aij_cyclic_lr_out</td>\n",
       "      <td>2</td>\n",
       "      <td>182.47</td>\n",
       "      <td>16.76</td>\n",
       "      <td>2.09</td>\n",
       "      <td>281.02</td>\n",
       "      <td>10.64</td>\n",
       "      <td>456,671,352,410.61</td>\n",
       "      <td>4.31</td>\n",
       "      <td>90.08</td>\n",
       "      <td>8.30</td>\n",
       "      <td>0.28</td>\n",
       "      <td>0.17</td>\n",
       "    </tr>\n",
       "    <tr>\n",
       "      <th>11</th>\n",
       "      <td>AE_aij_test_25_out</td>\n",
       "      <td>25</td>\n",
       "      <td>179.51</td>\n",
       "      <td>14.10</td>\n",
       "      <td>1.75</td>\n",
       "      <td>198.72</td>\n",
       "      <td>9.08</td>\n",
       "      <td>274,235,255,456.17</td>\n",
       "      <td>5.52</td>\n",
       "      <td>22.76</td>\n",
       "      <td>6.34</td>\n",
       "      <td>0.01</td>\n",
       "      <td>0.01</td>\n",
       "    </tr>\n",
       "    <tr>\n",
       "      <th>12</th>\n",
       "      <td>MLP_P_mat_out</td>\n",
       "      <td>2</td>\n",
       "      <td>232.89</td>\n",
       "      <td>17.40</td>\n",
       "      <td>2.17</td>\n",
       "      <td>302.75</td>\n",
       "      <td>9.86</td>\n",
       "      <td>178,370,438,594.82</td>\n",
       "      <td>3.07</td>\n",
       "      <td>136.47</td>\n",
       "      <td>5.46</td>\n",
       "      <td>0.50</td>\n",
       "      <td>0.26</td>\n",
       "    </tr>\n",
       "    <tr>\n",
       "      <th>13</th>\n",
       "      <td>AE_P_mat_out</td>\n",
       "      <td>2</td>\n",
       "      <td>232.95</td>\n",
       "      <td>23.20</td>\n",
       "      <td>2.89</td>\n",
       "      <td>538.27</td>\n",
       "      <td>14.65</td>\n",
       "      <td>953,215,758,435.03</td>\n",
       "      <td>3.11</td>\n",
       "      <td>115.37</td>\n",
       "      <td>11.68</td>\n",
       "      <td>0.49</td>\n",
       "      <td>0.47</td>\n",
       "    </tr>\n",
       "    <tr>\n",
       "      <th>14</th>\n",
       "      <td>AE_P_mat_test_1_out</td>\n",
       "      <td>1</td>\n",
       "      <td>232.94</td>\n",
       "      <td>16.01</td>\n",
       "      <td>1.99</td>\n",
       "      <td>256.29</td>\n",
       "      <td>9.00</td>\n",
       "      <td>242,879,961,851.35</td>\n",
       "      <td>3.08</td>\n",
       "      <td>53.78</td>\n",
       "      <td>4.30</td>\n",
       "      <td>0.50</td>\n",
       "      <td>0.39</td>\n",
       "    </tr>\n",
       "    <tr>\n",
       "      <th>15</th>\n",
       "      <td>AE_P_mat_test_10_out</td>\n",
       "      <td>10</td>\n",
       "      <td>233.38</td>\n",
       "      <td>55.49</td>\n",
       "      <td>6.90</td>\n",
       "      <td>3,079.06</td>\n",
       "      <td>31.54</td>\n",
       "      <td>1,532,781,754,413.78</td>\n",
       "      <td>3.17</td>\n",
       "      <td>425.23</td>\n",
       "      <td>31.00</td>\n",
       "      <td>0.48</td>\n",
       "      <td>0.47</td>\n",
       "    </tr>\n",
       "  </tbody>\n",
       "</table>\n",
       "</div>"
      ],
      "text/plain": [
       "                         modelname  nroutes  rmsey  rmse  rmsn      mse   mae  \\\n",
       "0                 route_flows_mcmc        2 130.31 27.13  3.38   736.18 13.33   \n",
       "1                route_flows_cvxpy        2 169.81  0.00  0.00     0.00  0.00   \n",
       "2                      MLP_aij_out        2 136.07 23.10  2.87   533.71 12.68   \n",
       "3            MLP_aij_cyclic_LR_out        2 128.45 28.21  3.51   796.06 13.27   \n",
       "4              MLP_aij_test_25_out       25 101.32 31.01  3.86   961.91 14.83   \n",
       "5    MLP_aij_cyclic_lr_1_route_out        1 149.49 27.30  3.40   745.47 13.07   \n",
       "6    MLP_aij_cyclic_lr_5_route_out        5 111.75 31.07  3.87   965.37 14.57   \n",
       "7   MLP_aij_cyclic_lr_10_route_out       10 105.06 30.42  3.78   925.18 13.86   \n",
       "8      MLP_10_routes_cyclic_lr_out       10 104.12 30.71  3.82   942.96 14.05   \n",
       "9                       AE_aij_out        2 182.10 16.24  2.02   263.78 10.36   \n",
       "10            AE_aij_cyclic_lr_out        2 182.47 16.76  2.09   281.02 10.64   \n",
       "11              AE_aij_test_25_out       25 179.51 14.10  1.75   198.72  9.08   \n",
       "12                   MLP_P_mat_out        2 232.89 17.40  2.17   302.75  9.86   \n",
       "13                    AE_P_mat_out        2 232.95 23.20  2.89   538.27 14.65   \n",
       "14             AE_P_mat_test_1_out        1 232.94 16.01  1.99   256.29  9.00   \n",
       "15            AE_P_mat_test_10_out       10 233.38 55.49  6.90 3,079.06 31.54   \n",
       "\n",
       "                   mape   mi    max  mean  zero  odzero  \n",
       "0  1,051,292,323,578.77 2.55 607.00 13.79  0.00    0.00  \n",
       "1                  0.00 5.53 150.21  8.04  0.00    0.00  \n",
       "2    855,419,201,625.68 3.33 237.08 12.34  0.45    0.26  \n",
       "3     11,792,447,755.82 2.31 388.15 12.13  0.62    0.46  \n",
       "4  1,460,839,466,052.02 3.64 428.46 14.30  0.39    0.12  \n",
       "5     11,479,418,995.85 2.12 328.93 10.69  0.66    0.42  \n",
       "6     65,069,967,812.92 2.74 502.89 13.10  0.55    0.17  \n",
       "7    528,218,315,100.22 2.94 538.45 12.76  0.51    0.14  \n",
       "8    535,532,190,970.80 2.73 482.72 12.83  0.55    0.29  \n",
       "9    390,196,202,615.14 4.36  83.68  8.40  0.27    0.21  \n",
       "10   456,671,352,410.61 4.31  90.08  8.30  0.28    0.17  \n",
       "11   274,235,255,456.17 5.52  22.76  6.34  0.01    0.01  \n",
       "12   178,370,438,594.82 3.07 136.47  5.46  0.50    0.26  \n",
       "13   953,215,758,435.03 3.11 115.37 11.68  0.49    0.47  \n",
       "14   242,879,961,851.35 3.08  53.78  4.30  0.50    0.39  \n",
       "15 1,532,781,754,413.78 3.17 425.23 31.00  0.48    0.47  "
      ]
     },
     "execution_count": 31,
     "metadata": {},
     "output_type": "execute_result"
    }
   ],
   "source": [
    "\n",
    "pd.options.display.float_format = '{:,.2f}'.format\n",
    "df"
   ]
  },
  {
   "cell_type": "code",
   "execution_count": 32,
   "metadata": {},
   "outputs": [
    {
     "data": {
      "text/plain": [
       "Text(0.5, 1.0, ' RMSE of Generated and Actual counts vs. Num Routes per OD')"
      ]
     },
     "execution_count": 32,
     "metadata": {},
     "output_type": "execute_result"
    },
    {
     "data": {
      "image/png": "[encoded data removed]",
      "text/plain": [
       "<Figure size 640x480 with 1 Axes>"
      ]
     },
     "metadata": {},
     "output_type": "display_data"
    }
   ],
   "source": [
    "mlp_index=[2,3,4,5,6,7,8,12]\n",
    "ae_index=[9,10,11,13,14,15]\n",
    "p_index=[12,13,14,15]\n",
    "plt.scatter(df.nroutes[mlp_index],df.rmsey[mlp_index], marker=\"v\",label=\"MLP aij results\")\n",
    "plt.scatter(df.nroutes[ae_index],df.rmsey[ae_index],marker=\"^\",label=\"AE aij results\")\n",
    "plt.scatter(df.nroutes[p_index],df.rmsey[p_index],marker=\".\",label=\"P results\")\n",
    "plt.scatter(df.nroutes[0],df.rmsey[0],marker=\"P\",label=\"MCMC\")\n",
    "plt.scatter(df.nroutes[1],df.rmsey[1],marker=\"P\",label=\"CVXPY\")\n",
    "plt.legend()\n",
    "plt.title(\" RMSE of Generated and Actual counts vs. Num Routes per OD\")"
   ]
  },
  {
   "cell_type": "code",
   "execution_count": 33,
   "metadata": {},
   "outputs": [
    {
     "data": {
      "text/plain": [
       "Text(0.5, 1.0, 'Proportion of OD relations (319) with zero traffic vs. Num Routes per OD')"
      ]
     },
     "execution_count": 33,
     "metadata": {},
     "output_type": "execute_result"
    },
    {
     "data": {
      "image/png": "[encoded data removed]",
      "text/plain": [
       "<Figure size 640x480 with 1 Axes>"
      ]
     },
     "metadata": {},
     "output_type": "display_data"
    }
   ],
   "source": [
    "mlp_index=[2,3,4,5,6,7,8,12]\n",
    "ae_index=[9,10,11,13,14,15]\n",
    "p_index=[12,13,14,15]\n",
    "plt.scatter(df.nroutes[mlp_index],df.odzero[mlp_index], marker=\"v\",label=\"MLP aij results\")\n",
    "plt.scatter(df.nroutes[ae_index],df.odzero[ae_index],marker=\"^\",label=\"AE aij results\")\n",
    "plt.scatter(df.nroutes[p_index],df.odzero[p_index],marker=\".\",label=\"P results\")\n",
    "plt.scatter(df.nroutes[0],df.odzero[0],marker=\"P\",label=\"MCMC\")\n",
    "plt.scatter(df.nroutes[1],df.odzero[1],marker=\"P\",label=\"CVXPY\")\n",
    "plt.legend()\n",
    "plt.title(\"Proportion of OD relations (319) with zero traffic vs. Num Routes per OD\")"
   ]
  },
  {
   "cell_type": "code",
   "execution_count": null,
   "metadata": {},
   "outputs": [],
   "source": []
  }
 ],
 "metadata": {
  "kernelspec": {
   "display_name": "final_proj_torch",
   "language": "python",
   "name": "python3"
  },
  "language_info": {
   "codemirror_mode": {
    "name": "ipython",
    "version": 3
   },
   "file_extension": ".py",
   "mimetype": "text/x-python",
   "name": "python",
   "nbconvert_exporter": "python",
   "pygments_lexer": "ipython3",
   "version": "3.9.0"
  },
  "orig_nbformat": 4
 },
 "nbformat": 4,
 "nbformat_minor": 2
}

{
 "cells": [
  {
   "attachments": {},
   "cell_type": "markdown",
   "metadata": {},
   "source": [
    "# 8th compressive sampling (sensing) / network tomography workbook\n",
    "### Implement Toy Model 1 from Hazelton(2015) with algorithm from Dey, et al.\n",
    "- Subrasankha Dey, Stephen Winter and Martin Tomko, Origing-Destination Flow Estimation from Link Count Data Only, Sensors 2020, 20, 5226.\n",
    "\n",
    "- Corrects errors in Compressed_Sensing_6!\n",
    "\n",
    "# Next project get a working EM/MLE for Poisson and then negative Binomial!\n",
    "### Use SGD and regularization terms\n",
    "-   use part of the Y time slices in a large sample to estimate the Poisson / NB and regularization parameters\n",
    "-   generate a large sample of X's with these parameters\n",
    "-   consider a variable for day of week, time of day\n",
    "-   run the Y=AX to generate new Y's from the generated X's to essentially \"Test\" the model\n",
    "-   gather statistics on goodness-of-fit from this test\n",
    "### Use PCA if needed\n",
    "# Then use a neural network\n",
    "# Then do it on the data from UTD19\n",
    "# Then implement CGAME\n",
    "\n"
   ]
  },
  {
   "attachments": {},
   "cell_type": "markdown",
   "metadata": {},
   "source": [
    "@article{diamond2016cvxpy,\n",
    "  author  = {Steven Diamond and Stephen Boyd},\n",
    "  title   = {{CVXPY}: {A} {P}ython-embedded modeling language for convex optimization},\n",
    "  journal = {Journal of Machine Learning Research},\n",
    "  year    = {2016},\n",
    "  volume  = {17},\n",
    "  number  = {83},\n",
    "  pages   = {1--5},\n",
    "}"
   ]
  },
  {
   "attachments": {},
   "cell_type": "markdown",
   "metadata": {},
   "source": [
    "# Use final_project environment\n",
    "-cvxpy\n",
    "-osmnx\n",
    "-pytorch\n",
    "-geopandas"
   ]
  },
  {
   "cell_type": "code",
   "execution_count": 1,
   "metadata": {},
   "outputs": [],
   "source": [
    "import numpy as np\n",
    "import cvxpy as cvx\n",
    "import geopandas as gp\n",
    "import osmnx as ox\n",
    "import networkx as nx\n",
    "import matplotlib.pyplot as plt"
   ]
  },
  {
   "cell_type": "code",
   "execution_count": 2,
   "metadata": {},
   "outputs": [
    {
     "name": "stdout",
     "output_type": "stream",
     "text": [
      "Data directory  ../\n",
      "Created directory ../output\n"
     ]
    }
   ],
   "source": [
    "import os\n",
    "import errno\n",
    "data_dir = \"../\"\n",
    "print(\"Data directory \",data_dir)\n",
    "path = os.path.join(data_dir,\"output\")\n",
    "\n",
    "try:\n",
    "    os.mkdir(path)\n",
    "except OSError as exc:\n",
    "    if exc.errno != errno.EEXIST:\n",
    "        raise\n",
    "    pass\n",
    "print(\"Created directory \"+path)"
   ]
  },
  {
   "attachments": {},
   "cell_type": "markdown",
   "metadata": {},
   "source": [
    "# Example 1 from Figure 4 in Hazelton(2015): London Road in Leicester\n",
    "- Four nodes in a \"T\" format\n",
    "- The three nodes at the end of the \"T\" are origins and destinations: node \"2\" is not\n",
    "- Six edges\n",
    "- Five edges have counters with data in five time periods.\n",
    "- There is only one route for each OD pair (6 total)\n",
    "- <i>This obviates the need for prior knowledge about the routing or OD matrix that is otherwise required to start the algorithm</i>\n",
    "- Find the trip production at the origins and the trip arrivals at the destinations (OD matrix)\n",
    "- Find the counts on the uncounted edge in all 5 time periods"
   ]
  },
  {
   "cell_type": "code",
   "execution_count": 3,
   "metadata": {},
   "outputs": [],
   "source": [
    "nodes=[1,2,3,4]# node names\n",
    "edges=[1,2,3,4,5,6]#edge names\n",
    "edge_uv=[(1,2),(2,1),(2,3),(3,2),(2,4),(4,2)]# node names u,v\n",
    "edge_weights=[1.0,1.0,1.0,1.0,1.0,1.0]\n",
    "edge_weights_dict=dict(zip(edge_uv,edge_weights))\n",
    "edge_labels_dict = dict(zip(edges, edge_uv))\n",
    "node_xy=[(0,1),(1,1),(1,0),(2,1)]\n",
    "node_xy_dict=dict(zip(nodes,node_xy))"
   ]
  },
  {
   "cell_type": "code",
   "execution_count": 4,
   "metadata": {},
   "outputs": [
    {
     "data": {
      "text/plain": [
       "{(1, 2): 1.0, (2, 1): 1.0, (2, 3): 1.0, (3, 2): 1.0, (2, 4): 1.0, (4, 2): 1.0}"
      ]
     },
     "execution_count": 4,
     "metadata": {},
     "output_type": "execute_result"
    }
   ],
   "source": [
    "edge_weights_dict"
   ]
  },
  {
   "cell_type": "code",
   "execution_count": 5,
   "metadata": {},
   "outputs": [
    {
     "data": {
      "text/plain": [
       "{1: (1, 2), 2: (2, 1), 3: (2, 3), 4: (3, 2), 5: (2, 4), 6: (4, 2)}"
      ]
     },
     "execution_count": 5,
     "metadata": {},
     "output_type": "execute_result"
    }
   ],
   "source": [
    "edge_labels_dict"
   ]
  },
  {
   "cell_type": "code",
   "execution_count": 6,
   "metadata": {},
   "outputs": [
    {
     "data": {
      "text/plain": [
       "{1: (0, 1), 2: (1, 1), 3: (1, 0), 4: (2, 1)}"
      ]
     },
     "execution_count": 6,
     "metadata": {},
     "output_type": "execute_result"
    }
   ],
   "source": [
    "node_xy_dict"
   ]
  },
  {
   "attachments": {},
   "cell_type": "markdown",
   "metadata": {},
   "source": [
    "# Make a networkx object of the graph"
   ]
  },
  {
   "cell_type": "code",
   "execution_count": 7,
   "metadata": {},
   "outputs": [
    {
     "name": "stdout",
     "output_type": "stream",
     "text": [
      "4 6\n",
      "[1, 2, 3, 4]\n",
      "[(1, 2), (2, 1), (2, 3), (2, 4), (3, 2), (4, 2)]\n",
      "[1, 3, 4]\n"
     ]
    }
   ],
   "source": [
    "G=nx.DiGraph()\n",
    "G.graph[\"name\"]=\"Model 1 Hazelton(2015)\"\n",
    "G.add_nodes_from(nodes)\n",
    "nx.set_node_attributes(G,node_xy_dict,name=\"pos\")\n",
    "G.add_edges_from(edge_uv)#add_weighted_edges_from (3,1,5.493) tuple u,v,weight\n",
    "nx.set_edge_attributes(G,edge_weights_dict,name=\"weight\")\n",
    "print(G.number_of_nodes(), G.number_of_edges())\n",
    "print(list(G.nodes))\n",
    "print(list(G.edges))\n",
    "#G.adj.items#\n",
    "#G.edges.data# for (u, v, wt) in FG.edges.data('weight'):\n",
    "print(list(G.neighbors(2)))"
   ]
  },
  {
   "cell_type": "code",
   "execution_count": 8,
   "metadata": {},
   "outputs": [
    {
     "name": "stdout",
     "output_type": "stream",
     "text": [
      "{1: (0, 1), 2: (1, 1), 3: (1, 0), 4: (2, 1)}\n"
     ]
    }
   ],
   "source": [
    "print(nx.get_node_attributes(G,\"pos\"))"
   ]
  },
  {
   "attachments": {},
   "cell_type": "markdown",
   "metadata": {},
   "source": [
    "# Plot only shows weights of one link if links are parallel\n",
    "- for better plots use graphvis or ox"
   ]
  },
  {
   "cell_type": "code",
   "execution_count": 9,
   "metadata": {},
   "outputs": [
    {
     "data": {
      "image/png": "[encoded data removed]",
      "text/plain": [
       "<Figure size 640x480 with 1 Axes>"
      ]
     },
     "metadata": {},
     "output_type": "display_data"
    }
   ],
   "source": [
    "pos=nx.get_node_attributes(G,\"pos\")\n",
    "nx.draw(G,pos,with_labels=True)\n",
    "labels = nx.get_edge_attributes(G,\"weight\")\n",
    "nx.draw_networkx_edge_labels(G,pos,edge_labels=labels)\n",
    "plt.savefig(path+\"/HazeltonModel1Network\")\n",
    "\n",
    "#subax2=plt.subplot(122)\n",
    "#nx.draw_shell(G, nlist=[range(5, 10), range(5)], with_labels=True, font_weight='bold')"
   ]
  },
  {
   "cell_type": "code",
   "execution_count": 10,
   "metadata": {},
   "outputs": [
    {
     "name": "stdout",
     "output_type": "stream",
     "text": [
      "{(1, 2): 1.0, (2, 1): 1.0, (2, 3): 1.0, (2, 4): 1.0, (3, 2): 1.0, (4, 2): 1.0}\n"
     ]
    }
   ],
   "source": [
    "print(nx.get_edge_attributes(G,\"weight\"))"
   ]
  },
  {
   "cell_type": "code",
   "execution_count": 11,
   "metadata": {},
   "outputs": [],
   "source": [
    "# Original Model 1\n",
    "counts=np.zeros((5,5))# rows are links with counts, columns are counts in a time interval\n",
    "counts[0,:]=[255,190,220,190,235]# edge 1\n",
    "#counts[1,:]=[75,78,80,77,75]# no counts for edge 2\n",
    "counts[1,:]=[235,185,180,160,195]# edge 3\n",
    "counts[2,:]=[210,165,190,200,195]# edge 4\n",
    "counts[3,:]=[56,42,48,56,56]# edge 5\n",
    "counts[4,:]=[72,74,84,80,72]# edge 6\n",
    "edges_w_counts=[1,3,4,5,6]"
   ]
  },
  {
   "cell_type": "code",
   "execution_count": 12,
   "metadata": {},
   "outputs": [],
   "source": [
    "#counts=np.zeros((6,5))# rows are links with counts, columns are counts in a time interval\n",
    "#counts[0,:]=[255,190,220,190,235]# edge 1\n",
    "#counts[1,:]=[85,78,80,77,79]# no counts for edge 2\n",
    "#counts[2,:]=[235,181,186,176,195]# edge 3\n",
    "#counts[3,:]=[210,165,180,175,190]# edge 4\n",
    "#counts[4,:]=[56,42,48,56,58]# edge 5\n",
    "#counts[5,:]=[78,74,87,80,83]# edge 6\n",
    "#edges_w_counts=[1,2,3,4,5,6]"
   ]
  },
  {
   "cell_type": "code",
   "execution_count": 13,
   "metadata": {},
   "outputs": [],
   "source": [
    "countkeys=[]\n",
    "for idx in edges_w_counts:\n",
    "    countkeys.append(edge_labels_dict[idx])\n",
    "counts_dict=dict(zip(countkeys,counts[:,:]))"
   ]
  },
  {
   "cell_type": "code",
   "execution_count": 14,
   "metadata": {},
   "outputs": [
    {
     "name": "stdout",
     "output_type": "stream",
     "text": [
      "[(1, 2), (2, 3), (3, 2), (2, 4), (4, 2)]\n"
     ]
    }
   ],
   "source": [
    "print(countkeys)"
   ]
  },
  {
   "cell_type": "code",
   "execution_count": 15,
   "metadata": {},
   "outputs": [
    {
     "data": {
      "text/plain": [
       "{(1, 2): array([255., 190., 220., 190., 235.]),\n",
       " (2, 3): array([235., 185., 180., 160., 195.]),\n",
       " (3, 2): array([210., 165., 190., 200., 195.]),\n",
       " (2, 4): array([56., 42., 48., 56., 56.]),\n",
       " (4, 2): array([72., 74., 84., 80., 72.])}"
      ]
     },
     "execution_count": 15,
     "metadata": {},
     "output_type": "execute_result"
    }
   ],
   "source": [
    "counts_dict"
   ]
  },
  {
   "cell_type": "code",
   "execution_count": 16,
   "metadata": {},
   "outputs": [
    {
     "data": {
      "image/png": "[encoded data removed]",
      "text/plain": [
       "<Figure size 640x480 with 1 Axes>"
      ]
     },
     "metadata": {},
     "output_type": "display_data"
    }
   ],
   "source": [
    "import matplotlib.pyplot as plt\n",
    "x=list(range(0,counts.shape[1]))\n",
    "for ii in range(counts.shape[0]):\n",
    "    plt.plot(x,counts[ii,:],label=str(list(counts_dict.keys())[ii]))\n",
    "plt.ylim(0,np.max(counts))\n",
    "plt.xlabel(\"Time Slice\")\n",
    "plt.ylabel(\"Counts per time slice\")\n",
    "plt.legend()\n",
    "plt.title(\"Link Counts\")\n",
    "plt.savefig(path+\"/HazeltonModel1LinkCounts\")\n",
    "plt.show()"
   ]
  },
  {
   "attachments": {},
   "cell_type": "markdown",
   "metadata": {},
   "source": [
    "# Routes between O's and D's.\n",
    "- one list of routes as edge sequences\n",
    "- one list of routes as node sequences\n",
    "- note that a dict of OD_pairs to routes must accomodate several routes per OD_pair later on\n",
    "    - the \"zip\" can be replaced by an iterator over OD_Pairs, add a list of routes to the OD_Pair key"
   ]
  },
  {
   "attachments": {},
   "cell_type": "markdown",
   "metadata": {},
   "source": [
    "# $O, D$"
   ]
  },
  {
   "cell_type": "code",
   "execution_count": 17,
   "metadata": {},
   "outputs": [
    {
     "name": "stdout",
     "output_type": "stream",
     "text": [
      "[(1, 3), (1, 4), (3, 1), (3, 4), (4, 1), (4, 3)]\n",
      "6\n"
     ]
    }
   ],
   "source": [
    "origins=nodes\n",
    "destinations=nodes\n",
    "od_pairs=[]\n",
    "for o in origins:\n",
    "   if(o != 2):\n",
    "    for d in nx.dfs_postorder_nodes(G,source=o):\n",
    "        if(d!=2):\n",
    "            if(o!=d):\n",
    "              od_pairs.append((o,d))\n",
    "print(od_pairs)\n",
    "print(len(od_pairs))"
   ]
  },
  {
   "cell_type": "code",
   "execution_count": 18,
   "metadata": {},
   "outputs": [],
   "source": [
    "od_route_n_dict={}\n",
    "od_route_e_dict={}"
   ]
  },
  {
   "cell_type": "code",
   "execution_count": 19,
   "metadata": {},
   "outputs": [],
   "source": [
    "# routes as sequence of nodes\n",
    "routes_n=[]\n",
    "routes_e=[]\n",
    "for od in od_pairs:\n",
    "    rnlist=list(nx.all_simple_paths(G,od[0],od[1]))\n",
    "    od_route_n_dict[od]=rnlist\n",
    "    routes_n.append(rnlist)\n",
    "    relist=list(nx.all_simple_edge_paths(G,od[0],od[1]))\n",
    "    od_route_e_dict[od]=relist\n",
    "    routes_e.append(relist)"
   ]
  },
  {
   "cell_type": "code",
   "execution_count": 20,
   "metadata": {},
   "outputs": [
    {
     "data": {
      "text/plain": [
       "6"
      ]
     },
     "execution_count": 20,
     "metadata": {},
     "output_type": "execute_result"
    }
   ],
   "source": [
    "len(routes_e)"
   ]
  },
  {
   "cell_type": "code",
   "execution_count": 21,
   "metadata": {},
   "outputs": [
    {
     "data": {
      "text/plain": [
       "{(1, 3): [[1, 2, 3]],\n",
       " (1, 4): [[1, 2, 4]],\n",
       " (3, 1): [[3, 2, 1]],\n",
       " (3, 4): [[3, 2, 4]],\n",
       " (4, 1): [[4, 2, 1]],\n",
       " (4, 3): [[4, 2, 3]]}"
      ]
     },
     "execution_count": 21,
     "metadata": {},
     "output_type": "execute_result"
    }
   ],
   "source": [
    "od_route_n_dict"
   ]
  },
  {
   "cell_type": "code",
   "execution_count": 22,
   "metadata": {},
   "outputs": [
    {
     "data": {
      "text/plain": [
       "{(1, 3): [[(1, 2), (2, 3)]],\n",
       " (1, 4): [[(1, 2), (2, 4)]],\n",
       " (3, 1): [[(3, 2), (2, 1)]],\n",
       " (3, 4): [[(3, 2), (2, 4)]],\n",
       " (4, 1): [[(4, 2), (2, 1)]],\n",
       " (4, 3): [[(4, 2), (2, 3)]]}"
      ]
     },
     "execution_count": 22,
     "metadata": {},
     "output_type": "execute_result"
    }
   ],
   "source": [
    "od_route_e_dict"
   ]
  },
  {
   "cell_type": "code",
   "execution_count": 23,
   "metadata": {},
   "outputs": [],
   "source": [
    "od_route_names_dict={}\n",
    "route_names=[]\n",
    "for od in od_pairs:\n",
    "    od_route_names=[]\n",
    "    for i in range(0,len(od_route_n_dict[od])):\n",
    "        string=((od[0],od[1],str(i)))\n",
    "        od_route_names.append(string)\n",
    "        route_names.append(string)\n",
    "    od_route_names_dict[od]=tuple(od_route_names)\n"
   ]
  },
  {
   "cell_type": "code",
   "execution_count": 24,
   "metadata": {},
   "outputs": [
    {
     "data": {
      "text/plain": [
       "[(1, 3, '0'), (1, 4, '0'), (3, 1, '0'), (3, 4, '0'), (4, 1, '0'), (4, 3, '0')]"
      ]
     },
     "execution_count": 24,
     "metadata": {},
     "output_type": "execute_result"
    }
   ],
   "source": [
    "route_names"
   ]
  },
  {
   "cell_type": "code",
   "execution_count": 25,
   "metadata": {},
   "outputs": [
    {
     "data": {
      "text/plain": [
       "6"
      ]
     },
     "execution_count": 25,
     "metadata": {},
     "output_type": "execute_result"
    }
   ],
   "source": [
    "len(route_names)"
   ]
  },
  {
   "cell_type": "code",
   "execution_count": 26,
   "metadata": {},
   "outputs": [
    {
     "data": {
      "text/plain": [
       "{(1, 3): ((1, 3, '0'),),\n",
       " (1, 4): ((1, 4, '0'),),\n",
       " (3, 1): ((3, 1, '0'),),\n",
       " (3, 4): ((3, 4, '0'),),\n",
       " (4, 1): ((4, 1, '0'),),\n",
       " (4, 3): ((4, 3, '0'),)}"
      ]
     },
     "execution_count": 26,
     "metadata": {},
     "output_type": "execute_result"
    }
   ],
   "source": [
    "od_route_names_dict"
   ]
  },
  {
   "attachments": {},
   "cell_type": "markdown",
   "metadata": {},
   "source": [
    "### Have to flatten the routes_e and routes_n lists in order to assign them to route_names"
   ]
  },
  {
   "cell_type": "code",
   "execution_count": 27,
   "metadata": {},
   "outputs": [],
   "source": [
    "def flatten(l):\n",
    "    return [item for sublist in l for item in sublist]"
   ]
  },
  {
   "cell_type": "code",
   "execution_count": 28,
   "metadata": {},
   "outputs": [
    {
     "name": "stdout",
     "output_type": "stream",
     "text": [
      "6\n"
     ]
    }
   ],
   "source": [
    "print(len(flatten(routes_e)))"
   ]
  },
  {
   "cell_type": "code",
   "execution_count": 29,
   "metadata": {},
   "outputs": [],
   "source": [
    "# dict of origins and routes\n",
    "routes_e_dict=dict(zip(route_names,flatten(routes_e)))# route names, edge sequence (tuple u,v)\n",
    "routes_n_dict=dict(zip(route_names,flatten(routes_n)))# route names, node sequence (u)"
   ]
  },
  {
   "cell_type": "code",
   "execution_count": 30,
   "metadata": {},
   "outputs": [
    {
     "data": {
      "text/plain": [
       "{(1, 3, '0'): [(1, 2), (2, 3)],\n",
       " (1, 4, '0'): [(1, 2), (2, 4)],\n",
       " (3, 1, '0'): [(3, 2), (2, 1)],\n",
       " (3, 4, '0'): [(3, 2), (2, 4)],\n",
       " (4, 1, '0'): [(4, 2), (2, 1)],\n",
       " (4, 3, '0'): [(4, 2), (2, 3)]}"
      ]
     },
     "execution_count": 30,
     "metadata": {},
     "output_type": "execute_result"
    }
   ],
   "source": [
    "routes_e_dict"
   ]
  },
  {
   "cell_type": "code",
   "execution_count": 31,
   "metadata": {},
   "outputs": [
    {
     "data": {
      "text/plain": [
       "{(1, 3, '0'): [1, 2, 3],\n",
       " (1, 4, '0'): [1, 2, 4],\n",
       " (3, 1, '0'): [3, 2, 1],\n",
       " (3, 4, '0'): [3, 2, 4],\n",
       " (4, 1, '0'): [4, 2, 1],\n",
       " (4, 3, '0'): [4, 2, 3]}"
      ]
     },
     "execution_count": 31,
     "metadata": {},
     "output_type": "execute_result"
    }
   ],
   "source": [
    "routes_n_dict"
   ]
  },
  {
   "cell_type": "code",
   "execution_count": 32,
   "metadata": {},
   "outputs": [
    {
     "data": {
      "text/plain": [
       "{1: (1, 2), 2: (2, 1), 3: (2, 3), 4: (3, 2), 5: (2, 4), 6: (4, 2)}"
      ]
     },
     "execution_count": 32,
     "metadata": {},
     "output_type": "execute_result"
    }
   ],
   "source": [
    "edge_labels_dict"
   ]
  },
  {
   "cell_type": "code",
   "execution_count": 33,
   "metadata": {},
   "outputs": [
    {
     "name": "stdout",
     "output_type": "stream",
     "text": [
      "{(1, 3, '0'): [1.0, 1.0], (1, 4, '0'): [1.0, 1.0], (3, 1, '0'): [1.0, 1.0], (3, 4, '0'): [1.0, 1.0], (4, 1, '0'): [1.0, 1.0], (4, 3, '0'): [1.0, 1.0]}\n"
     ]
    }
   ],
   "source": [
    "# route costs\n",
    "routes_c_dict={}\n",
    "for rn in route_names:\n",
    "    es=routes_e_dict[rn]\n",
    "    lc=[]\n",
    "    for e in es:\n",
    "        c=edge_weights_dict[e]\n",
    "        lc.append(c)\n",
    "    routes_c_dict[rn]=lc\n",
    "print(routes_c_dict)"
   ]
  },
  {
   "attachments": {},
   "cell_type": "markdown",
   "metadata": {},
   "source": [
    "# Adjacency matrix (link-path incidence matrix) A=aij\n",
    "- counted edges/links versus routes they are on\n",
    "- 0,1 definition used by Vardi(1996) and Hazelton(2015)\n",
    "- Make into a function\n",
    "- This should be OD relations to the right and not routes\n",
    "    - if there are more than 1 routes per OD relation this code has to be fixed, see later on\n",
    "- It's still a valuable mapping to have"
   ]
  },
  {
   "cell_type": "code",
   "execution_count": 34,
   "metadata": {},
   "outputs": [
    {
     "name": "stdout",
     "output_type": "stream",
     "text": [
      "[(1, 2), (2, 3)]\n",
      "(1, 2)\n",
      "[(1, 2), (2, 4)]\n",
      "(1, 2)\n",
      "[(3, 2), (2, 1)]\n",
      "(1, 2)\n",
      "[(3, 2), (2, 4)]\n",
      "(1, 2)\n",
      "[(4, 2), (2, 1)]\n",
      "(1, 2)\n",
      "[(4, 2), (2, 3)]\n",
      "(1, 2)\n",
      "[(1, 2), (2, 3)]\n",
      "(2, 3)\n",
      "[(1, 2), (2, 4)]\n",
      "(2, 3)\n",
      "[(3, 2), (2, 1)]\n",
      "(2, 3)\n",
      "[(3, 2), (2, 4)]\n",
      "(2, 3)\n",
      "[(4, 2), (2, 1)]\n",
      "(2, 3)\n",
      "[(4, 2), (2, 3)]\n",
      "(2, 3)\n",
      "[(1, 2), (2, 3)]\n",
      "(3, 2)\n",
      "[(1, 2), (2, 4)]\n",
      "(3, 2)\n",
      "[(3, 2), (2, 1)]\n",
      "(3, 2)\n",
      "[(3, 2), (2, 4)]\n",
      "(3, 2)\n",
      "[(4, 2), (2, 1)]\n",
      "(3, 2)\n",
      "[(4, 2), (2, 3)]\n",
      "(3, 2)\n",
      "[(1, 2), (2, 3)]\n",
      "(2, 4)\n",
      "[(1, 2), (2, 4)]\n",
      "(2, 4)\n",
      "[(3, 2), (2, 1)]\n",
      "(2, 4)\n",
      "[(3, 2), (2, 4)]\n",
      "(2, 4)\n",
      "[(4, 2), (2, 1)]\n",
      "(2, 4)\n",
      "[(4, 2), (2, 3)]\n",
      "(2, 4)\n",
      "[(1, 2), (2, 3)]\n",
      "(4, 2)\n",
      "[(1, 2), (2, 4)]\n",
      "(4, 2)\n",
      "[(3, 2), (2, 1)]\n",
      "(4, 2)\n",
      "[(3, 2), (2, 4)]\n",
      "(4, 2)\n",
      "[(4, 2), (2, 1)]\n",
      "(4, 2)\n",
      "[(4, 2), (2, 3)]\n",
      "(4, 2)\n"
     ]
    }
   ],
   "source": [
    "# a_ij = 1 if link i is in route j, 0 otherwise\n",
    "I=len(counts_dict)#7\n",
    "J=len(routes_e)#16\n",
    "aij=np.zeros((I, J))\n",
    "for i in range(I):\n",
    "    for j in range(J):\n",
    "        for k in range(len(routes_e[j])):\n",
    "            print(routes_e[j][k])\n",
    "            print(list(counts_dict.keys())[i])\n",
    "            if(routes_e[j][k]==list(counts_dict.keys())[i]):\n",
    "                aij[i,j]=1"
   ]
  },
  {
   "cell_type": "code",
   "execution_count": 35,
   "metadata": {},
   "outputs": [],
   "source": [
    "I=len(countkeys)\n",
    "J=len(route_names)\n",
    "aij=np.zeros((I,J))\n",
    "i=0\n",
    "for e in countkeys:#I\n",
    "    j=0\n",
    "    for rn in route_names:#J\n",
    "        rs=routes_e_dict[rn]\n",
    "        for r in rs:\n",
    "#            print(i,j,e,r)\n",
    "            if(e == r):\n",
    "                aij[i,j]=1\n",
    "        j+=1\n",
    "    i+=1\n",
    "        "
   ]
  },
  {
   "cell_type": "code",
   "execution_count": 36,
   "metadata": {},
   "outputs": [
    {
     "data": {
      "text/plain": [
       "array([[1., 1., 0., 0., 0., 0.],\n",
       "       [1., 0., 0., 0., 0., 1.],\n",
       "       [0., 0., 1., 1., 0., 0.],\n",
       "       [0., 1., 0., 1., 0., 0.],\n",
       "       [0., 0., 0., 0., 1., 1.]])"
      ]
     },
     "execution_count": 36,
     "metadata": {},
     "output_type": "execute_result"
    }
   ],
   "source": [
    "aij# each column is a route between an OD pair J and each row has 1 if a link I is on the route"
   ]
  },
  {
   "attachments": {},
   "cell_type": "markdown",
   "metadata": {},
   "source": [
    "# Matrix of all edges which are on routes a2ij\n",
    "- Map of all edges/links and the routes they are on\n",
    "- 0,1\n",
    "- Use to calculate the flows on non-measured links along the routes\n",
    "- After the OD flows are calculated"
   ]
  },
  {
   "cell_type": "code",
   "execution_count": 37,
   "metadata": {},
   "outputs": [
    {
     "data": {
      "text/plain": [
       "dict_values([(1, 2), (2, 1), (2, 3), (3, 2), (2, 4), (4, 2)])"
      ]
     },
     "execution_count": 37,
     "metadata": {},
     "output_type": "execute_result"
    }
   ],
   "source": [
    "edge_labels_dict.values()"
   ]
  },
  {
   "cell_type": "code",
   "execution_count": 38,
   "metadata": {},
   "outputs": [],
   "source": [
    "I=len(edge_labels_dict.keys())\n",
    "J=len(route_names)\n",
    "a2ij=np.zeros((I,J))\n",
    "pi1=np.zeros((I,J))\n",
    "i=0\n",
    "for e in edge_labels_dict.values():#I\n",
    "    j=0\n",
    "    for rn in route_names:#J\n",
    "        rs=routes_e_dict[rn]\n",
    "        for r in rs:\n",
    "#            print(i,j,e,r)\n",
    "            if(e == r):\n",
    "                a2ij[i,j]=1\n",
    "                pi1[i,j]=edge_weights[i]\n",
    "        j+=1\n",
    "    i+=1"
   ]
  },
  {
   "cell_type": "code",
   "execution_count": 39,
   "metadata": {},
   "outputs": [
    {
     "data": {
      "text/plain": [
       "array([[1., 1., 0., 0., 0., 0.],\n",
       "       [0., 0., 1., 0., 1., 0.],\n",
       "       [1., 0., 0., 0., 0., 1.],\n",
       "       [0., 0., 1., 1., 0., 0.],\n",
       "       [0., 1., 0., 1., 0., 0.],\n",
       "       [0., 0., 0., 0., 1., 1.]])"
      ]
     },
     "execution_count": 39,
     "metadata": {},
     "output_type": "execute_result"
    }
   ],
   "source": [
    "a2ij"
   ]
  },
  {
   "attachments": {},
   "cell_type": "markdown",
   "metadata": {},
   "source": [
    "### For each time slice, Y is counts (dim m x 1) = A (dim m x n) * X (dim n x 1), m<n .\n",
    "- Need to find X the OD flow\n",
    "- m is the number of edges with counts on them\n",
    "- n is the number of routes between OD\n",
    "- dimension 1 becomes K for K time slices"
   ]
  },
  {
   "cell_type": "code",
   "execution_count": 40,
   "metadata": {},
   "outputs": [
    {
     "name": "stdout",
     "output_type": "stream",
     "text": [
      "(5, 6) (5, 5)\n"
     ]
    }
   ],
   "source": [
    "print(aij.shape, counts.shape)"
   ]
  },
  {
   "attachments": {},
   "cell_type": "markdown",
   "metadata": {},
   "source": [
    "# Model 5 days of made-up data on 7 (all links) measured links for all 16 routes (each OD pair has different number of routes). Flows are per route, not per OD"
   ]
  },
  {
   "attachments": {},
   "cell_type": "markdown",
   "metadata": {},
   "source": [
    "- Hazelton (2015) must use a survey of OD traffic to generate initial x flows using a Gamma function of parameters (x_survey/2, 1/2). How does he use these in the solution?\n",
    "\n",
    "- The following is solved using ECOS_BB in the package cvxpy\n",
    "\n",
    "### We need integer-value results and use a special included mixed-integer solver"
   ]
  },
  {
   "cell_type": "code",
   "execution_count": 41,
   "metadata": {},
   "outputs": [
    {
     "name": "stdout",
     "output_type": "stream",
     "text": [
      "The flows on the routes (one route per row) in the time slices (one time slice per column)\n",
      "[[216. 164. 176. 147. 187.]\n",
      " [ 39.  26.  44.  43.  48.]\n",
      " [193. 149. 186. 187. 187.]\n",
      " [ 17.  16.   4.  13.   8.]\n",
      " [ 53.  53.  80.  67.  64.]\n",
      " [ 19.  21.   4.  13.   8.]]\n"
     ]
    }
   ],
   "source": [
    "# y = Ax\n",
    "# We have y and A and want x\n",
    "# y is m x 1; A is m x n; x is n x 1; m = 5, n = 6\n",
    "x = cvx.Variable((aij.shape[1],counts.shape[1]),integer=True)\n",
    "\n",
    "#err = cvx.abs(aij @ x - counts)\n",
    "err = cvx.sum_squares(aij @ x - counts)\n",
    "objective = cvx.Minimize(cvx.norm(err,1))# regularize later with sum(w*aij) see Kurzhanskiy\n",
    "constraints = [x >= 0 ]\n",
    "prob = cvx.Problem(objective, constraints)\n",
    "\n",
    "# The optimal objective is returned by prob.solve().\n",
    "result = prob.solve(solver=\"ECOS_BB\")\n",
    "\n",
    "# The optimal value for x is stored in x.value.\n",
    "print(\"The flows on the routes (one route per row) in the time slices (one time slice per column)\")\n",
    "print(x.value)"
   ]
  },
  {
   "cell_type": "code",
   "execution_count": 42,
   "metadata": {},
   "outputs": [
    {
     "name": "stdout",
     "output_type": "stream",
     "text": [
      "[178.   40.  180.4  11.6  63.4  13. ]\n"
     ]
    }
   ],
   "source": [
    "print(np.mean(x.value,axis=1))"
   ]
  },
  {
   "cell_type": "code",
   "execution_count": 43,
   "metadata": {},
   "outputs": [
    {
     "name": "stdout",
     "output_type": "stream",
     "text": [
      "The flows on each edge (one edge per row) (one time slice per column\n",
      "NOTE that all flows equal counts and that edge 5 flows have been imputed by the algorithm\n"
     ]
    },
    {
     "data": {
      "text/plain": [
       "array([[255., 190., 220., 190., 235.],\n",
       "       [246., 202., 266., 254., 251.],\n",
       "       [235., 185., 180., 160., 195.],\n",
       "       [210., 165., 190., 200., 195.],\n",
       "       [ 56.,  42.,  48.,  56.,  56.],\n",
       "       [ 72.,  74.,  84.,  80.,  72.]])"
      ]
     },
     "execution_count": 43,
     "metadata": {},
     "output_type": "execute_result"
    }
   ],
   "source": [
    "print(\"The flows on each edge (one edge per row) (one time slice per column\")\n",
    "print(\"NOTE that all flows equal counts and that edge 5 flows have been imputed by the algorithm\")\n",
    "np.dot(a2ij,x.value)"
   ]
  },
  {
   "attachments": {},
   "cell_type": "markdown",
   "metadata": {},
   "source": [
    "### The average values of link flows for all 6 links matches Hazelton (2015) Table 1\n",
    "- Standard deviations are different but between those of Hazelton's negative binomial and poisson solutions"
   ]
  },
  {
   "cell_type": "code",
   "execution_count": 44,
   "metadata": {},
   "outputs": [],
   "source": [
    "haz_poiss_MLE_mean=[175.5,41.5,183.9,10.1,61.9,14.5]\n",
    "haz_poiss_MLE_std=[7.0,4.7,7.1,3.9,5.1,4.0]\n",
    "haz_vardi_MoM_mean=[420.2,37.5,155.4,39.8,49.7,0.]\n",
    "haz_nb_MLE_mean=[176.4,41.0,183.5,10.6,63.1,12.8]\n",
    "haz_nb_MLE_std=[12.9,9.7,13.1,8.1,10.4,8.2]"
   ]
  },
  {
   "cell_type": "code",
   "execution_count": 45,
   "metadata": {},
   "outputs": [
    {
     "name": "stdout",
     "output_type": "stream",
     "text": [
      "[178.0  40.0 180.4  11.6  63.4  13.0]\n",
      "[23.2  7.6 15.9  4.9 10.1  6.4]\n"
     ]
    }
   ],
   "source": [
    "print(f\"{np.array2string(np.mean(x.value,axis=1),precision=1, floatmode='fixed')}\")\n",
    "print(f\"{np.array2string(np.std(x.value,axis=1),precision=1, floatmode='fixed')}\")"
   ]
  },
  {
   "cell_type": "code",
   "execution_count": 46,
   "metadata": {},
   "outputs": [
    {
     "name": "stdout",
     "output_type": "stream",
     "text": [
      "None\n"
     ]
    }
   ],
   "source": [
    "print(constraints[0].dual_value)"
   ]
  },
  {
   "attachments": {},
   "cell_type": "markdown",
   "metadata": {},
   "source": [
    "# Sparsity constraint from Kurzhansky\n",
    "- Kurzhansky states that l_1 regularization term is built into the problem by sum of route probabilities for each O = 1 and route flow >=0.\n",
    "- Kurzhansky suggests sparsity constraint by enhancing min(aij * x - y)**2 with + sum(w_RO*alpha_RO) where w and alpha are Origin and Route specific, alpha is proportion of traffic on route R from O\n",
    "- This is essentially route choice based on impedance or travel time\n",
    "- He uses travel time\n",
    "- He uses a time-dependent speed profile on the links, which he suggest acquiring externally\n",
    "- His time-dependent speed profile is constant and not density- or flow-related\n",
    "- This is a substitute for a 4-step model with microsimulation\n",
    "- The Kurzhansky sparsity constraint with a single route per O has w_RO = 1 and alpha_RO = 1\n",
    "- I think an impedance model with speed based on calculated volumes on the links could work endogenously\n",
    "    - Incorporate the sum of alpha*w in the solver loss function\n",
    "    - Run the solver with some initialized alpha_RO and w_RO\n",
    "        - Suggest using free-flow speed from OSM or toy model for w and equal distribution of flow over routes for alpha\n",
    "    - Calculate all the link volumes based on the route flows from the solver (mij matrix)\n",
    "    - Calculate the new link speeds (impedance) based on these volumes\n",
    "    - Calculate alpha_Oj, the proportion of trips from origin O on route j\n",
    "    - Set the weights for alpha equal to the flow impedance on the route j\n",
    "    - Repeat until stopping condition -- what is that ?\n",
    "    - How does this extend to queues that last longer than time slices of counts?"
   ]
  },
  {
   "attachments": {},
   "cell_type": "markdown",
   "metadata": {},
   "source": [
    "# $S_{ii'}$ vector from Dey (20)"
   ]
  },
  {
   "cell_type": "code",
   "execution_count": 47,
   "metadata": {},
   "outputs": [
    {
     "name": "stdout",
     "output_type": "stream",
     "text": [
      "[(0, 1), (0, 2), (0, 3), (0, 4), (1, 0), (1, 2), (1, 3), (1, 4), (2, 0), (2, 1), (2, 3), (2, 4), (3, 0), (3, 1), (3, 2), (3, 4), (4, 0), (4, 1), (4, 2), (4, 3)]\n",
      "[677.5  311.25  94.   -64.   677.5  185.    43.   -98.   311.25 185.\n",
      "  98.5   -3.5   94.    43.    98.5   -6.8  -64.   -98.    -3.5   -6.8 ]\n"
     ]
    }
   ],
   "source": [
    "#   from statistics import covariance\n",
    "i_iprime=[]\n",
    "sii=[]\n",
    "cov_mat=np.cov(counts)\n",
    "for i in range(counts.shape[0]):\n",
    "        for j in range(counts.shape[0]):\n",
    "            if(i!=j):\n",
    "                sii.append(cov_mat[i,j])\n",
    "                i_iprime.append((i,j))\n",
    "sii=np.array(sii)\n",
    "print(i_iprime)\n",
    "print(sii)"
   ]
  },
  {
   "cell_type": "code",
   "execution_count": 48,
   "metadata": {},
   "outputs": [
    {
     "data": {
      "text/plain": [
       "array([[807.5 , 677.5 , 311.25,  94.  , -64.  ],\n",
       "       [677.5 , 767.5 , 185.  ,  43.  , -98.  ],\n",
       "       [311.25, 185.  , 282.5 ,  98.5 ,  -3.5 ],\n",
       "       [ 94.  ,  43.  ,  98.5 ,  40.8 ,  -6.8 ],\n",
       "       [-64.  , -98.  ,  -3.5 ,  -6.8 ,  28.8 ]])"
      ]
     },
     "execution_count": 48,
     "metadata": {},
     "output_type": "execute_result"
    }
   ],
   "source": [
    "np.cov(counts)"
   ]
  },
  {
   "attachments": {},
   "cell_type": "markdown",
   "metadata": {},
   "source": [
    "# $E[Y_i]$ vector from Dey (10 elaborated on page 9)\n",
    "- time-slice average of link counts"
   ]
  },
  {
   "cell_type": "code",
   "execution_count": 49,
   "metadata": {},
   "outputs": [
    {
     "name": "stdout",
     "output_type": "stream",
     "text": [
      "[218.  191.  192.   51.6  76.4]\n"
     ]
    }
   ],
   "source": [
    "Ey=np.mean(counts,axis=1)\n",
    "print(Ey)"
   ]
  },
  {
   "cell_type": "code",
   "execution_count": 50,
   "metadata": {},
   "outputs": [
    {
     "data": {
      "text/plain": [
       "array([[1., 1., 0., 0., 0., 0.],\n",
       "       [0., 0., 1., 0., 1., 0.],\n",
       "       [1., 0., 0., 0., 0., 1.],\n",
       "       [0., 0., 1., 1., 0., 0.],\n",
       "       [0., 1., 0., 1., 0., 0.],\n",
       "       [0., 0., 0., 0., 1., 1.]])"
      ]
     },
     "execution_count": 50,
     "metadata": {},
     "output_type": "execute_result"
    }
   ],
   "source": [
    "# The adjacency matrix of links (top to bottom) in routes (left to right) times the travel time of the links\n",
    "pi1"
   ]
  },
  {
   "cell_type": "code",
   "execution_count": 51,
   "metadata": {},
   "outputs": [
    {
     "data": {
      "text/plain": [
       "array([2., 2., 2., 2., 2., 2.])"
      ]
     },
     "execution_count": 51,
     "metadata": {},
     "output_type": "execute_result"
    }
   ],
   "source": [
    "# The cost of each route as a sum of the travel time of the links in the route\n",
    "total_route_c=np.sum(pi1,axis=0)\n",
    "total_route_c"
   ]
  },
  {
   "cell_type": "code",
   "execution_count": 52,
   "metadata": {},
   "outputs": [],
   "source": [
    "# Dict of the route names and their costs\n",
    "total_route_c_dict=dict(zip(route_names,total_route_c))"
   ]
  },
  {
   "cell_type": "code",
   "execution_count": 53,
   "metadata": {},
   "outputs": [
    {
     "data": {
      "text/plain": [
       "{(1, 3, '0'): 2.0,\n",
       " (1, 4, '0'): 2.0,\n",
       " (3, 1, '0'): 2.0,\n",
       " (3, 4, '0'): 2.0,\n",
       " (4, 1, '0'): 2.0,\n",
       " (4, 3, '0'): 2.0}"
      ]
     },
     "execution_count": 53,
     "metadata": {},
     "output_type": "execute_result"
    }
   ],
   "source": [
    "total_route_c_dict"
   ]
  },
  {
   "cell_type": "code",
   "execution_count": 54,
   "metadata": {},
   "outputs": [],
   "source": [
    "#nx.dijkstra_path_length(G,\"A\",\"F\")"
   ]
  },
  {
   "cell_type": "code",
   "execution_count": 55,
   "metadata": {},
   "outputs": [
    {
     "name": "stdout",
     "output_type": "stream",
     "text": [
      "2.0\n"
     ]
    }
   ],
   "source": [
    "plen=dict(nx.all_pairs_dijkstra_path_length(G))\n",
    "#print(len.values())\n",
    "print(plen[1][4])"
   ]
  },
  {
   "cell_type": "code",
   "execution_count": 56,
   "metadata": {},
   "outputs": [
    {
     "name": "stdout",
     "output_type": "stream",
     "text": [
      "{(1, 2): 1.0, (2, 1): 1.0, (2, 3): 1.0, (3, 2): 1.0, (2, 4): 1.0, (4, 2): 1.0}\n"
     ]
    }
   ],
   "source": [
    "print(edge_weights_dict)"
   ]
  },
  {
   "attachments": {},
   "cell_type": "markdown",
   "metadata": {},
   "source": [
    "# Prepare some helper functions for calculating route travel times"
   ]
  },
  {
   "cell_type": "code",
   "execution_count": 57,
   "metadata": {},
   "outputs": [],
   "source": [
    "def get_av_t(G,curr, d):\n",
    "    paths=nx.all_simple_paths(G,curr,d)\n",
    "    av_t=0\n",
    "    sum=0\n",
    "    for path in map(nx.utils.pairwise,paths):       \n",
    "        for i in list(path):\n",
    "#            print(f\"i {i} weight {edge_weights_dict[i]}\")\n",
    "            tp=edge_weights_dict[i]\n",
    "#            print(f\"tp {tp}\")\n",
    "            av_t=av_t+tp\n",
    "#            print(f\"tav {av_t}\")\n",
    "        sum+=1\n",
    "#    print(f\"sum {sum}\")\n",
    "    if(sum>0):\n",
    "        av_t=av_t/sum#else there are no paths (curr = d)\n",
    "\n",
    "    return(av_t)"
   ]
  },
  {
   "cell_type": "code",
   "execution_count": 58,
   "metadata": {},
   "outputs": [
    {
     "data": {
      "text/plain": [
       "2.0"
      ]
     },
     "execution_count": 58,
     "metadata": {},
     "output_type": "execute_result"
    }
   ],
   "source": [
    "curr=1\n",
    "d=3\n",
    "get_av_t(G,curr,d)"
   ]
  },
  {
   "cell_type": "code",
   "execution_count": 59,
   "metadata": {},
   "outputs": [
    {
     "name": "stdout",
     "output_type": "stream",
     "text": [
      "{(1, 2): 1.0, (2, 1): 1.0, (2, 3): 1.0, (2, 4): 1.0, (3, 2): 1.0, (4, 2): 1.0}\n"
     ]
    }
   ],
   "source": [
    "print(nx.get_edge_attributes(G,\"weight\"))"
   ]
  },
  {
   "cell_type": "code",
   "execution_count": 60,
   "metadata": {},
   "outputs": [],
   "source": [
    "def get_tr(route,curr, d):\n",
    "    tr=0\n",
    "    es=routes_e_dict[route]\n",
    "    start_i=0\n",
    "    for e in es:\n",
    "        if(e[0])==curr:\n",
    "    #        print(e,curr)\n",
    "            start_i = start_i\n",
    "            break\n",
    "        else:\n",
    "            start_i+=1\n",
    "    #print(f\"start_i {start_i}\")        \n",
    "    for i in range(start_i,len(es)):# add link costs along the route from curr node (start) to the end\n",
    "        tr=tr+(edge_weights_dict[es[i]])\n",
    "    return(tr)"
   ]
  },
  {
   "cell_type": "code",
   "execution_count": 61,
   "metadata": {},
   "outputs": [],
   "source": [
    "tr=get_tr((1,4,\"0\"),2,4)"
   ]
  },
  {
   "cell_type": "code",
   "execution_count": 62,
   "metadata": {},
   "outputs": [
    {
     "data": {
      "text/plain": [
       "1.0"
      ]
     },
     "execution_count": 62,
     "metadata": {},
     "output_type": "execute_result"
    }
   ],
   "source": [
    "tr"
   ]
  },
  {
   "attachments": {},
   "cell_type": "markdown",
   "metadata": {},
   "source": [
    "# Helper dict of all the nodes in the set of routes on the OD pairs"
   ]
  },
  {
   "cell_type": "code",
   "execution_count": 63,
   "metadata": {},
   "outputs": [
    {
     "name": "stdout",
     "output_type": "stream",
     "text": [
      "od (1, 3) has 1 routes over nodes [1, 2, 3]\n",
      "od (1, 4) has 1 routes over nodes [1, 2, 4]\n",
      "od (3, 1) has 1 routes over nodes [1, 2, 3]\n",
      "od (3, 4) has 1 routes over nodes [2, 3, 4]\n",
      "od (4, 1) has 1 routes over nodes [1, 2, 4]\n",
      "od (4, 3) has 1 routes over nodes [2, 3, 4]\n"
     ]
    }
   ],
   "source": [
    "#\n",
    "# Get all the nodes in all possible routes for each OD, flatten and make unique\n",
    "# Loses the route sequence however\n",
    "#\n",
    "#for all od choose relation rel\n",
    "od_nodes_dict={}\n",
    "for od in od_pairs:\n",
    "    od_nodes=[]\n",
    "# get all routes on rel\n",
    "    rs=od_route_names_dict[od]\n",
    "    for r in rs:\n",
    "        od_nodes.append(routes_n_dict[r])\n",
    "    xx=flatten(od_nodes)\n",
    "    xx_set=set(xx)\n",
    "    od_nodes=list(xx_set)\n",
    "    print(f\"od {od} has {len(rs)} routes over nodes {od_nodes}\")\n",
    "    od_nodes_dict[od]=od_nodes"
   ]
  },
  {
   "cell_type": "code",
   "execution_count": 64,
   "metadata": {},
   "outputs": [
    {
     "data": {
      "text/plain": [
       "{(1, 3): [1, 2, 3],\n",
       " (1, 4): [1, 2, 4],\n",
       " (3, 1): [1, 2, 3],\n",
       " (3, 4): [2, 3, 4],\n",
       " (4, 1): [1, 2, 4],\n",
       " (4, 3): [2, 3, 4]}"
      ]
     },
     "execution_count": 64,
     "metadata": {},
     "output_type": "execute_result"
    }
   ],
   "source": [
    "od_nodes_dict"
   ]
  },
  {
   "attachments": {},
   "cell_type": "markdown",
   "metadata": {},
   "source": [
    "# Helper dict to list all edge tuples (u,v) on the set of routes on the OD pairs"
   ]
  },
  {
   "cell_type": "code",
   "execution_count": 65,
   "metadata": {},
   "outputs": [
    {
     "name": "stdout",
     "output_type": "stream",
     "text": [
      "od (1, 3) has 1 routes over edges [(2, 3), (1, 2)]\n",
      "od (1, 4) has 1 routes over edges [(2, 4), (1, 2)]\n",
      "od (3, 1) has 1 routes over edges [(3, 2), (2, 1)]\n",
      "od (3, 4) has 1 routes over edges [(3, 2), (2, 4)]\n",
      "od (4, 1) has 1 routes over edges [(2, 1), (4, 2)]\n",
      "od (4, 3) has 1 routes over edges [(2, 3), (4, 2)]\n"
     ]
    }
   ],
   "source": [
    "#\n",
    "# Get all the edges in all possible routes for each OD, flatten and make unique\n",
    "# Sequence of the edges in the routes is lost\n",
    "#\n",
    "#for all od choose relation rel\n",
    "od_edges_uv_dict={}\n",
    "for od in od_pairs:\n",
    "    od_edge_names=[]\n",
    "    od_edges_uv=[]\n",
    "# get all routes on rel\n",
    "    rs=od_route_names_dict[od]\n",
    "    for r in rs:\n",
    "        od_edge_names.append(routes_e_dict[r])\n",
    "    xx=flatten(od_edge_names)\n",
    "    xx_set=set(xx)\n",
    "    od_edge_names=list(xx_set)\n",
    "#    print(od_edge_names)\n",
    "    for en in od_edge_names:\n",
    " #       print(en)\n",
    "        od_edges_uv.append(en)\n",
    "    #xx=flatten(od_edges_uv)\n",
    "    #xx_set=set(xx)\n",
    "    #od_edges_uv=list(xx_set)\n",
    "    print(f\"od {od} has {len(rs)} routes over edges {od_edges_uv}\")\n",
    "    od_edges_uv_dict[od]=od_edges_uv"
   ]
  },
  {
   "cell_type": "code",
   "execution_count": 66,
   "metadata": {},
   "outputs": [
    {
     "data": {
      "text/plain": [
       "{(1, 3): [(2, 3), (1, 2)],\n",
       " (1, 4): [(2, 4), (1, 2)],\n",
       " (3, 1): [(3, 2), (2, 1)],\n",
       " (3, 4): [(3, 2), (2, 4)],\n",
       " (4, 1): [(2, 1), (4, 2)],\n",
       " (4, 3): [(2, 3), (4, 2)]}"
      ]
     },
     "execution_count": 66,
     "metadata": {},
     "output_type": "execute_result"
    }
   ],
   "source": [
    "od_edges_uv_dict"
   ]
  },
  {
   "attachments": {},
   "cell_type": "markdown",
   "metadata": {},
   "source": [
    "# Calculate the finite-memory Markov P transitions from the travel times on the routes as in Figure 1.\n",
    "# P matrix is i links x j OD relations\n",
    "# $P_i{^j}$ is a sum over M links per route on each OD j this of dim M+1 x M+1 as in Dey (9)\n",
    "# Use only edges with counts on them\n",
    "- Anytime an edge ID is needed, use the \"counts_dict_keys()\" instead of \"edges\" list"
   ]
  },
  {
   "cell_type": "code",
   "execution_count": 67,
   "metadata": {},
   "outputs": [
    {
     "name": "stdout",
     "output_type": "stream",
     "text": [
      "[[1.  1.  0.  0.  0.  0. ]\n",
      " [0.5 0.  0.  0.  0.  0.5]\n",
      " [0.  0.  1.  1.  0.  0. ]\n",
      " [0.  0.5 0.  0.5 0.  0. ]\n",
      " [0.  0.  0.  0.  1.  1. ]]\n"
     ]
    }
   ],
   "source": [
    "#\n",
    "# It is correct in Dey to use J as the number of OD's\n",
    "# This is smaller than the number of routes\n",
    "# \n",
    "#\n",
    "I=len(countkeys)# all edges with counts\n",
    "J=len(od_pairs)# one column per OD\n",
    "pij=np.zeros((I, J))\n",
    "for j in range(len(od_pairs)):\n",
    "    od=od_pairs[j]\n",
    "    o=od[0]\n",
    "    d=od[1]\n",
    "    # get j for this od\n",
    "    od_nodes=od_nodes_dict[od]\n",
    "    list1=od_edges_uv_dict[od]# all edges in OD routes\n",
    "    list2=[x for x in countkeys]# only edges with counts\n",
    "    od_edges_uv=set(list1)& set(list2)# ONLY USE EDGES WITH COUNTS\n",
    " #   print(\"-------\")\n",
    " #   print(f\"OD {od}\")\n",
    " #   print(f\"od_nodes {od_nodes}\")\n",
    "    od_routes=od_route_names_dict[od]\n",
    " #   print(f\"od_routes {od_routes}\")\n",
    "    for curr in od_nodes:\n",
    " #       print(f\"  curr {curr} d {d}\")\n",
    "#        if(curr==d):\n",
    "#            print(\"hit destination ttav, tr = 0\")\n",
    "        t_av=get_av_t(G,curr,d)\n",
    " #       print(f\"  t_av {t_av}\")\n",
    "        next_nodes=list(G.successors(curr))\n",
    " #       print(f\"  next nodes {next_nodes}\")\n",
    "        for next in next_nodes:\n",
    " #           print(f\"   next {next}\")\n",
    "            if((curr,next) in od_edges_uv):# if (curr,next) in od route-edge tuples WITH COUNTS\n",
    "                for r in od_routes:\n",
    " #                   print(f\"    searching for edge curr next {curr} {next} in route{r}\")\n",
    "                    es=routes_e_dict[r]\n",
    "                    if((curr,next) in es):\n",
    " #                       print(f\"    ** calculating route time for route {r} and edge ({curr},{next}) **\")\n",
    "                        tr=get_tr(r,curr,d)\n",
    "                        i=list2.index((curr,next))\n",
    "                 # get edge for this curr,next and thus i for this edge\n",
    "                        pij[i,j]=np.exp(-2*np.abs((t_av-tr)/t_av))\n",
    " #                       print(f\"i {i} j {j} ({curr},{next}) {od} t_av {t_av} tr {tr} pij {pij[i,j]}\")\n",
    "#\n",
    "# Each entry in pij sums to one over the routes passing through edge i\n",
    "# Need to correct all pij to sum to 1 over the j dimension\n",
    "# The result is actually matrix A (27) in Dey\n",
    "#\n",
    "c_inv=np.zeros(pij.shape[0])\n",
    "tmp=[]\n",
    "for i in range(0,pij.shape[0]):\n",
    "    tmp.append(list2[i][0])\n",
    "for i in range(0,len(tmp)):\n",
    "    c_inv[i]=tmp.count(tmp[i])\n",
    "c=1./c_inv\n",
    "for i in range(0,pij.shape[0]):\n",
    "    pij[i,:]=pij[i,:]*c[i]\n",
    "print(pij)\n",
    "\n",
    "                "
   ]
  },
  {
   "attachments": {},
   "cell_type": "markdown",
   "metadata": {},
   "source": [
    "# $P$ is the matrix of the probability of a vehicle on OD pair j passing over link i (Dey equation 30)"
   ]
  },
  {
   "cell_type": "code",
   "execution_count": 68,
   "metadata": {},
   "outputs": [
    {
     "data": {
      "text/plain": [
       "[(1, 2), (2, 3)]"
      ]
     },
     "execution_count": 68,
     "metadata": {},
     "output_type": "execute_result"
    }
   ],
   "source": [
    "od_route_e_dict[od_pairs[0]][0]"
   ]
  },
  {
   "cell_type": "code",
   "execution_count": 69,
   "metadata": {},
   "outputs": [],
   "source": [
    "#ee=(\"A\",\"D\")\n",
    "#list(countkeys).index(ee)"
   ]
  },
  {
   "cell_type": "code",
   "execution_count": 70,
   "metadata": {},
   "outputs": [
    {
     "name": "stdout",
     "output_type": "stream",
     "text": [
      "i,j, ptemp,e,od 0, 0, 0.5,(1, 2),(1, 3)\n",
      "i,j, ptemp,e,od 1, 0, 0.5,(2, 3),(1, 3)\n",
      "i,j, ptemp,e,od 2, 0, 0,(3, 2),(1, 3)\n",
      "i,j, ptemp,e,od 3, 0, 0,(2, 4),(1, 3)\n",
      "i,j, ptemp,e,od 4, 0, 0,(4, 2),(1, 3)\n",
      "i,j, ptemp,e,od 0, 1, 0.5,(1, 2),(1, 4)\n",
      "i,j, ptemp,e,od 1, 1, 0,(2, 3),(1, 4)\n",
      "i,j, ptemp,e,od 2, 1, 0,(3, 2),(1, 4)\n",
      "i,j, ptemp,e,od 3, 1, 0.5,(2, 4),(1, 4)\n",
      "i,j, ptemp,e,od 4, 1, 0,(4, 2),(1, 4)\n",
      "i,j, ptemp,e,od 0, 2, 0,(1, 2),(3, 1)\n",
      "i,j, ptemp,e,od 1, 2, 0,(2, 3),(3, 1)\n",
      "i,j, ptemp,e,od 2, 2, 1.0,(3, 2),(3, 1)\n",
      "i,j, ptemp,e,od 3, 2, 0,(2, 4),(3, 1)\n",
      "i,j, ptemp,e,od 4, 2, 0,(4, 2),(3, 1)\n",
      "i,j, ptemp,e,od 0, 3, 0,(1, 2),(3, 4)\n",
      "i,j, ptemp,e,od 1, 3, 0,(2, 3),(3, 4)\n",
      "i,j, ptemp,e,od 2, 3, 0.5,(3, 2),(3, 4)\n",
      "i,j, ptemp,e,od 3, 3, 0.5,(2, 4),(3, 4)\n",
      "i,j, ptemp,e,od 4, 3, 0,(4, 2),(3, 4)\n",
      "i,j, ptemp,e,od 0, 4, 0,(1, 2),(4, 1)\n",
      "i,j, ptemp,e,od 1, 4, 0,(2, 3),(4, 1)\n",
      "i,j, ptemp,e,od 2, 4, 0,(3, 2),(4, 1)\n",
      "i,j, ptemp,e,od 3, 4, 0,(2, 4),(4, 1)\n",
      "i,j, ptemp,e,od 4, 4, 1.0,(4, 2),(4, 1)\n",
      "i,j, ptemp,e,od 0, 5, 0,(1, 2),(4, 3)\n",
      "i,j, ptemp,e,od 1, 5, 0.5,(2, 3),(4, 3)\n",
      "i,j, ptemp,e,od 2, 5, 0,(3, 2),(4, 3)\n",
      "i,j, ptemp,e,od 3, 5, 0,(2, 4),(4, 3)\n",
      "i,j, ptemp,e,od 4, 5, 0.5,(4, 2),(4, 3)\n"
     ]
    }
   ],
   "source": [
    "#\n",
    "# To acquire the P matrix (finite-memory markov transition)\n",
    "# we need to multiply the edge pi's over each j in each OD column\n",
    "# then sum them over all j in the OD relation\n",
    "#\n",
    "# for each column (j in J)\n",
    "#   for each edge (i in I)\n",
    "#       get edge u_v\n",
    "#       find the route for j that u_v is on\n",
    "#       get the pij for all these edges\n",
    "#       multiply them together and add them to next result for next route in j        \n",
    "#\n",
    "I=len(countkeys)# all edges with counts\n",
    "J=len(od_pairs)# one column per OD\n",
    "p=np.zeros((I,J))\n",
    "for j in range(0,J):\n",
    "    for i in range(0,I):\n",
    "        od=od_pairs[j]\n",
    "        ptemp=0\n",
    "        e=list(countkeys)[i]\n",
    " #       print(f\"Running for edge {e} and od {od}\")\n",
    "        rs=od_route_e_dict[od]\n",
    "        for r in rs:\n",
    "            if(e in r):\n",
    " #               print(f\"  Edge {e} in Route {r}\")\n",
    "                product=[]\n",
    "                for ee in r:\n",
    "                    if(ee in list(countkeys)):\n",
    "                        ii=list(countkeys).index(ee)\n",
    "                        product.append(pij[ii,j])\n",
    "#                    print(f\"    edge {ee} product {product}\")\n",
    "                ptemp=np.prod(product)+ptemp\n",
    "        print(f\"i,j, ptemp,e,od {i}, {j}, {ptemp},{e},{od}\")\n",
    "#        print(i,j,ptemp)\n",
    "        p[i,j]=ptemp\n"
   ]
  },
  {
   "cell_type": "code",
   "execution_count": 71,
   "metadata": {},
   "outputs": [
    {
     "data": {
      "text/plain": [
       "array([[0.5, 0.5, 0. , 0. , 0. , 0. ],\n",
       "       [0.5, 0. , 0. , 0. , 0. , 0.5],\n",
       "       [0. , 0. , 1. , 0.5, 0. , 0. ],\n",
       "       [0. , 0.5, 0. , 0.5, 0. , 0. ],\n",
       "       [0. , 0. , 0. , 0. , 1. , 0.5]])"
      ]
     },
     "execution_count": 71,
     "metadata": {},
     "output_type": "execute_result"
    }
   ],
   "source": [
    "p"
   ]
  },
  {
   "cell_type": "code",
   "execution_count": 72,
   "metadata": {},
   "outputs": [
    {
     "data": {
      "text/plain": [
       "array([[0.5, 0.5, 0. , 0. , 0. , 0. ],\n",
       "       [0.5, 0. , 0. , 0. , 0. , 0.5],\n",
       "       [0. , 0. , 1. , 0.5, 0. , 0. ],\n",
       "       [0. , 0.5, 0. , 0.5, 0. , 0. ],\n",
       "       [0. , 0. , 0. , 0. , 1. , 0.5]])"
      ]
     },
     "execution_count": 72,
     "metadata": {},
     "output_type": "execute_result"
    }
   ],
   "source": [
    "p"
   ]
  },
  {
   "attachments": {},
   "cell_type": "markdown",
   "metadata": {},
   "source": [
    "# $B_{ii^{'}}$ from Dey equation 20"
   ]
  },
  {
   "cell_type": "code",
   "execution_count": 73,
   "metadata": {},
   "outputs": [
    {
     "name": "stdout",
     "output_type": "stream",
     "text": [
      "20 6\n"
     ]
    }
   ],
   "source": [
    "xdim=(p.shape[0]*(p.shape[0]-1))\n",
    "ydim=p.shape[1]\n",
    "print(xdim,ydim)\n",
    "bii=np.zeros((xdim,ydim))\n",
    "for j in range(0,p.shape[1]):\n",
    "    ipindex=0\n",
    "    for i in range(0,p.shape[0]):\n",
    "        for iprime in range(0,p.shape[0]):\n",
    "            if(i!=iprime):\n",
    "                bii[ipindex,j]=p[i,j]*p[iprime,j]\n",
    "#                print(i, ipindex,j,p[i,j]*p[iprime,j])\n",
    "                ipindex+=1"
   ]
  },
  {
   "attachments": {},
   "cell_type": "markdown",
   "metadata": {},
   "source": [
    "# Time constraints can be added here (Dey eqn 25)"
   ]
  },
  {
   "attachments": {},
   "cell_type": "markdown",
   "metadata": {},
   "source": [
    "# Putting the model together"
   ]
  },
  {
   "cell_type": "code",
   "execution_count": 74,
   "metadata": {},
   "outputs": [
    {
     "name": "stdout",
     "output_type": "stream",
     "text": [
      "From Dey equation 20 Sii' [677.5  311.25  94.   -64.   677.5  185.    43.   -98.   311.25 185.\n",
      "  98.5   -3.5   94.    43.    98.5   -6.8  -64.   -98.    -3.5   -6.8 ]\n",
      "From Dey equation 10 Eyi [218.  191.  192.   51.6  76.4]\n",
      "From Dey equation 21 Bii [[0.25 0.   0.   0.   0.   0.  ]\n",
      " [0.   0.   0.   0.   0.   0.  ]\n",
      " [0.   0.25 0.   0.   0.   0.  ]\n",
      " [0.   0.   0.   0.   0.   0.  ]\n",
      " [0.25 0.   0.   0.   0.   0.  ]\n",
      " [0.   0.   0.   0.   0.   0.  ]\n",
      " [0.   0.   0.   0.   0.   0.  ]\n",
      " [0.   0.   0.   0.   0.   0.25]\n",
      " [0.   0.   0.   0.   0.   0.  ]\n",
      " [0.   0.   0.   0.   0.   0.  ]\n",
      " [0.   0.   0.   0.25 0.   0.  ]\n",
      " [0.   0.   0.   0.   0.   0.  ]\n",
      " [0.   0.25 0.   0.   0.   0.  ]\n",
      " [0.   0.   0.   0.   0.   0.  ]\n",
      " [0.   0.   0.   0.25 0.   0.  ]\n",
      " [0.   0.   0.   0.   0.   0.  ]\n",
      " [0.   0.   0.   0.   0.   0.  ]\n",
      " [0.   0.   0.   0.   0.   0.25]\n",
      " [0.   0.   0.   0.   0.   0.  ]\n",
      " [0.   0.   0.   0.   0.   0.  ]]\n",
      "Fronm Dey equation 21 P [[0.5 0.5 0.  0.  0.  0. ]\n",
      " [0.5 0.  0.  0.  0.  0.5]\n",
      " [0.  0.  1.  0.5 0.  0. ]\n",
      " [0.  0.5 0.  0.5 0.  0. ]\n",
      " [0.  0.  0.  0.  1.  0.5]]\n",
      "Dimension of equation lefthand side is (5,) and (20,)\n",
      "Dimension of equation righthand side is (5, 6) and (20, 6)\n"
     ]
    }
   ],
   "source": [
    "print(f\"From Dey equation 20 Sii' {sii}\")\n",
    "print(f\"From Dey equation 10 Eyi {Ey}\")\n",
    "print(f\"From Dey equation 21 Bii {bii}\")\n",
    "print(f\"Fronm Dey equation 21 P {p}\")\n",
    "\n",
    "print(f\"Dimension of equation lefthand side is {Ey.shape} and {sii.shape}\")\n",
    "print(f\"Dimension of equation righthand side is {p.shape} and {bii.shape}\")"
   ]
  },
  {
   "attachments": {},
   "cell_type": "markdown",
   "metadata": {},
   "source": [
    "# $\\Lambda$ the initial OD demand is still not known\n",
    "# Continue with the EM implementation (Dey 13) based on Vardi(1996)"
   ]
  },
  {
   "cell_type": "code",
   "execution_count": 75,
   "metadata": {},
   "outputs": [],
   "source": [
    "# Updates $\\lamdba_j$ (j is an OD relation in set J) each step\n",
    "# Variables as per Dey\n",
    "\n",
    "def em(lam):\n",
    "    lam_next=np.zeros([len(od_pairs)])\n",
    "    R=bii.shape[0]\n",
    "    I=len(countkeys)\n",
    "    J=len(od_pairs)\n",
    " #   print(R,I,J)\n",
    "    for j in range(0,J):\n",
    "#\n",
    "# Righthand term\n",
    "#\n",
    "        sumbs=0\n",
    "        sumpe=0\n",
    "        for i in range(I,R):\n",
    " #           print(f\"iii {i}\")\n",
    "            sumbl=0\n",
    "            for l in range(0,J):\n",
    " #               print(f\"j {l}\")\n",
    "                sumbl=sumbl+bii[i,l]*lam[l]\n",
    "                if(sumbl==0):\n",
    "                    sumbl=1.\n",
    "            sumbs=sumbs+(bii[i,j]*sii[i])/sumbl\n",
    "#            print(f\"sumbs {sumbs} sumbl {sumbl} bii[i,j] {bii[i,j]} sii[i] {sii[i]}\")\n",
    "\n",
    "        for i in range(0,I):\n",
    "            sumpl=0\n",
    "#            print(f\"i {i}\")\n",
    "            for l in range(0,J):\n",
    "#                print(f\"l {l}\")\n",
    "                sumpl=sumpl+p[i,l]*lam[l]\n",
    "            sumpe=sumpe+p[i,j]*Ey[i]/sumpl\n",
    " #           print(f\"sumpl {sumpl} sumpl {sumpl} p[i,j] {p[i,j]} ey[i] {Ey[i]}\")\n",
    "#\n",
    "# Sum of above two terms sumpe, sumbs to be multiplied by next term\n",
    "#\n",
    "        denom=0\n",
    "        for i in range(I,R):\n",
    "            denom=denom+bii[i,j]\n",
    "        for i in range(0,I):\n",
    "            denom=denom+p[i,j]\n",
    "        term=lam[j]/denom\n",
    "#\n",
    "# Product for each j\n",
    "#\n",
    "#        print(f\"denom {denom}\")\n",
    "#        print(f\"sumpe {sumpe}\")\n",
    "#        print(f\"sumbs {sumbs}\")\n",
    "        lam_next[j]=term*(sumpe+sumbs)\n",
    "#    print(f\"lam {lam_next}\")    \n",
    "    return(lam_next)"
   ]
  },
  {
   "cell_type": "code",
   "execution_count": 76,
   "metadata": {},
   "outputs": [
    {
     "name": "stdout",
     "output_type": "stream",
     "text": [
      "[178  45 125 155  74  73]\n"
     ]
    }
   ],
   "source": [
    "max_iters=1000\n",
    "lam_out=np.zeros([len(od_pairs),max_iters])\n",
    "#lam_in=[177,41,181,11,62,14]\n",
    "\n",
    "lam_in=np.random.randint(0,high=200,size=len(od_pairs))\n",
    "print(lam_in)\n",
    "for n in range(0,max_iters):\n",
    "    lam_out[:,n]=em(lam_in)\n",
    "    lam_in=lam_out[:,n]"
   ]
  },
  {
   "attachments": {},
   "cell_type": "markdown",
   "metadata": {},
   "source": [
    "# The result is very sensitive to the initial $\\Lambda$ inputs (the sample of the OD Matrix)"
   ]
  },
  {
   "cell_type": "code",
   "execution_count": 77,
   "metadata": {},
   "outputs": [
    {
     "name": "stdout",
     "output_type": "stream",
     "text": [
      "[ 467.765  127.817   78.632  226.795 -111.813  -81.456]\n"
     ]
    }
   ],
   "source": [
    "with np.printoptions(precision=3, suppress=True):\n",
    "    print(lam_out[:,-1])"
   ]
  },
  {
   "cell_type": "code",
   "execution_count": null,
   "metadata": {},
   "outputs": [],
   "source": []
  },
  {
   "cell_type": "code",
   "execution_count": null,
   "metadata": {},
   "outputs": [],
   "source": []
  }
 ],
 "metadata": {
  "kernelspec": {
   "display_name": "p3712torch",
   "language": "python",
   "name": "python3"
  },
  "language_info": {
   "codemirror_mode": {
    "name": "ipython",
    "version": 3
   },
   "file_extension": ".py",
   "mimetype": "text/x-python",
   "name": "python",
   "nbconvert_exporter": "python",
   "pygments_lexer": "ipython3",
   "version": "3.9.0"
  },
  "orig_nbformat": 4
 },
 "nbformat": 4,
 "nbformat_minor": 2
}

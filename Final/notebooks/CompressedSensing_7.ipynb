{
 "cells": [
  {
   "attachments": {},
   "cell_type": "markdown",
   "metadata": {},
   "source": [
    "# 7th compressive sampling / network tomography workbook\n",
    "### Implement Dey, et al. toy model from Figure 1\n",
    "- Subrasankha Dey, Stephen Winter and Martin Tomko, Origin-Destination Flow Estimation from Link Count Data Only, Sensors 2020, 20, 5226.\n",
    "- Test that I load the edges and nodes correctly into the networkx object\n",
    "- Test implementation of Dey, et al adjacency matrix construct\n",
    "- Corrects errors in Compressed_Sensing_6!"
   ]
  },
  {
   "attachments": {},
   "cell_type": "markdown",
   "metadata": {},
   "source": [
    "### Citation of CVXPY"
   ]
  },
  {
   "attachments": {},
   "cell_type": "markdown",
   "metadata": {},
   "source": [
    "Steven Diamond and Stephen Boyd, CVXPY: A Python-embedded modeling language for convex optimization, Journal of Machine Learning Research, 2016, V17 Nr83, pages 1-5."
   ]
  },
  {
   "attachments": {},
   "cell_type": "markdown",
   "metadata": {},
   "source": [
    "# Use final_project environment\n",
    "-cvxpy\n",
    "-osmnx\n",
    "-pytorch\n",
    "-geopandas"
   ]
  },
  {
   "cell_type": "code",
   "execution_count": 1,
   "metadata": {},
   "outputs": [],
   "source": [
    "import numpy as np\n",
    "import cvxpy as cvx\n",
    "import geopandas as gp\n",
    "import osmnx as ox\n",
    "import networkx as nx\n",
    "import matplotlib.pyplot as plt"
   ]
  },
  {
   "cell_type": "code",
   "execution_count": 19,
   "metadata": {},
   "outputs": [
    {
     "name": "stdout",
     "output_type": "stream",
     "text": [
      "Data directory  ../\n",
      "Created directory ../output\n"
     ]
    }
   ],
   "source": [
    "import os\n",
    "import errno\n",
    "data_dir = \"../\"\n",
    "print(\"Data directory \",data_dir)\n",
    "path = os.path.join(data_dir,\"output\")\n",
    "\n",
    "try:\n",
    "    os.mkdir(path)\n",
    "except OSError as exc:\n",
    "    if exc.errno != errno.EEXIST:\n",
    "        raise\n",
    "    pass\n",
    "print(\"Created directory \"+path)"
   ]
  },
  {
   "attachments": {},
   "cell_type": "markdown",
   "metadata": {},
   "source": [
    "# Toy model from Figure 1 in Dey, et al. (2020)\n",
    "- 6 nodes in 3x2 grid\n",
    "- All are O and D (12 relations)\n",
    "- 7 directed one-way edges\n",
    "- Multiple routes per OD relation (16 total)\n",
    "- Test my implementation of the P matrix"
   ]
  },
  {
   "cell_type": "code",
   "execution_count": 2,
   "metadata": {},
   "outputs": [],
   "source": [
    "nodes=[\"A\",\"B\",\"C\",\"D\",\"E\",\"F\"]# node names\n",
    "edges=[\"AB\",\"AD\",\"DE\",\"EF\",\"BC\",\"BE\",\"CF\"]#edge names\n",
    "edge_uv=[(\"A\",\"B\"),(\"A\",\"D\"),(\"D\",\"E\"),(\"E\",\"F\"),(\"B\",\"C\"),(\"B\",\"E\"),(\"C\",\"F\")]# node names u,v\n",
    "edge_weights=[1,1,1,1,1,1,1]\n",
    "edge_weights_dict=dict(zip(edge_uv,edge_weights))\n",
    "edge_labels_dict = dict(zip(edges, edge_uv))\n",
    "node_xy=[(0,0),(1,0),(2,0),(0,1),(1,1),(2,1)]\n",
    "node_xy_dict=dict(zip(nodes,node_xy))"
   ]
  },
  {
   "cell_type": "code",
   "execution_count": 3,
   "metadata": {},
   "outputs": [
    {
     "data": {
      "text/plain": [
       "{('A', 'B'): 1,\n",
       " ('A', 'D'): 1,\n",
       " ('D', 'E'): 1,\n",
       " ('E', 'F'): 1,\n",
       " ('B', 'C'): 1,\n",
       " ('B', 'E'): 1,\n",
       " ('C', 'F'): 1}"
      ]
     },
     "execution_count": 3,
     "metadata": {},
     "output_type": "execute_result"
    }
   ],
   "source": [
    "edge_weights_dict"
   ]
  },
  {
   "cell_type": "code",
   "execution_count": 4,
   "metadata": {},
   "outputs": [
    {
     "data": {
      "text/plain": [
       "{'AB': ('A', 'B'),\n",
       " 'AD': ('A', 'D'),\n",
       " 'DE': ('D', 'E'),\n",
       " 'EF': ('E', 'F'),\n",
       " 'BC': ('B', 'C'),\n",
       " 'BE': ('B', 'E'),\n",
       " 'CF': ('C', 'F')}"
      ]
     },
     "execution_count": 4,
     "metadata": {},
     "output_type": "execute_result"
    }
   ],
   "source": [
    "edge_labels_dict"
   ]
  },
  {
   "cell_type": "code",
   "execution_count": 5,
   "metadata": {},
   "outputs": [
    {
     "data": {
      "text/plain": [
       "{'A': (0, 0), 'B': (1, 0), 'C': (2, 0), 'D': (0, 1), 'E': (1, 1), 'F': (2, 1)}"
      ]
     },
     "execution_count": 5,
     "metadata": {},
     "output_type": "execute_result"
    }
   ],
   "source": [
    "node_xy_dict"
   ]
  },
  {
   "attachments": {},
   "cell_type": "markdown",
   "metadata": {},
   "source": [
    "# Make a networkx object of the graph"
   ]
  },
  {
   "cell_type": "code",
   "execution_count": 6,
   "metadata": {},
   "outputs": [
    {
     "name": "stdout",
     "output_type": "stream",
     "text": [
      "6 7\n",
      "['A', 'B', 'C', 'D', 'E', 'F']\n",
      "[('A', 'B'), ('A', 'D'), ('B', 'C'), ('B', 'E'), ('C', 'F'), ('D', 'E'), ('E', 'F')]\n",
      "['B', 'D']\n"
     ]
    }
   ],
   "source": [
    "G=nx.DiGraph()\n",
    "G.graph[\"name\"]=\"Model 1 Hazelton(2015)\"\n",
    "G.add_nodes_from(nodes)\n",
    "nx.set_node_attributes(G,node_xy_dict,name=\"pos\")\n",
    "G.add_edges_from(edge_uv)#add_weighted_edges_from (3,1,5.493) tuple u,v,weight\n",
    "nx.set_edge_attributes(G,edge_weights_dict,name=\"weight\")\n",
    "print(G.number_of_nodes(), G.number_of_edges())\n",
    "print(list(G.nodes))\n",
    "print(list(G.edges))\n",
    "#G.adj.items#\n",
    "#G.edges.data# for (u, v, wt) in FG.edges.data('weight'):\n",
    "print(list(G.neighbors(\"A\")))"
   ]
  },
  {
   "cell_type": "code",
   "execution_count": 7,
   "metadata": {},
   "outputs": [
    {
     "name": "stdout",
     "output_type": "stream",
     "text": [
      "{'A': (0, 0), 'B': (1, 0), 'C': (2, 0), 'D': (0, 1), 'E': (1, 1), 'F': (2, 1)}\n"
     ]
    }
   ],
   "source": [
    "print(nx.get_node_attributes(G,\"pos\"))"
   ]
  },
  {
   "cell_type": "code",
   "execution_count": 8,
   "metadata": {},
   "outputs": [
    {
     "name": "stdout",
     "output_type": "stream",
     "text": [
      "{('A', 'B'): 1, ('A', 'D'): 1, ('B', 'C'): 1, ('B', 'E'): 1, ('C', 'F'): 1, ('D', 'E'): 1, ('E', 'F'): 1}\n"
     ]
    }
   ],
   "source": [
    "print(nx.get_edge_attributes(G,\"weight\"))"
   ]
  },
  {
   "cell_type": "code",
   "execution_count": 9,
   "metadata": {},
   "outputs": [
    {
     "data": {
      "text/plain": [
       "[['A', 'D']]"
      ]
     },
     "execution_count": 9,
     "metadata": {},
     "output_type": "execute_result"
    }
   ],
   "source": [
    "list(nx.all_simple_paths(G,\"A\",\"D\"))"
   ]
  },
  {
   "attachments": {},
   "cell_type": "markdown",
   "metadata": {},
   "source": [
    "# Plot only shows weights of one link if links are parallel\n",
    "- for better plots use graphvis or ox"
   ]
  },
  {
   "cell_type": "code",
   "execution_count": 25,
   "metadata": {},
   "outputs": [
    {
     "data": {
      "image/png": "[encoded data removed]",
      "text/plain": [
       "<Figure size 640x480 with 1 Axes>"
      ]
     },
     "metadata": {},
     "output_type": "display_data"
    }
   ],
   "source": [
    "pos=nx.get_node_attributes(G,\"pos\")\n",
    "nx.draw(G,pos,with_labels=True)\n",
    "labels = nx.get_edge_attributes(G,\"weight\")\n",
    "nx.draw_networkx_edge_labels(G,pos,edge_labels=labels)\n",
    "plt.savefig(path+\"/DeyEtAlModel1Network\")\n",
    "#subax2=plt.subplot(122)\n",
    "#nx.draw_shell(G, nlist=[range(5, 10), range(5)], with_labels=True, font_weight='bold')\n"
   ]
  },
  {
   "attachments": {},
   "cell_type": "markdown",
   "metadata": {},
   "source": [
    "# $Y_i$"
   ]
  },
  {
   "cell_type": "code",
   "execution_count": 11,
   "metadata": {},
   "outputs": [],
   "source": [
    "counts=np.zeros((7,5))# rows are links with counts, columns are counts in a time interval\n",
    "counts[0,:]=[255,190,220,190,235]# edge 1\n",
    "counts[1,:]=[85,78,80,77,79]# no counts for edge 2\n",
    "counts[2,:]=[235,181,186,176,195]# edge 3\n",
    "counts[3,:]=[210,165,180,175,190]# edge 4\n",
    "counts[4,:]=[56,42,48,56,58]# edge 5\n",
    "counts[5,:]=[78,74,87,80,83]# edge 6\n",
    "counts[6,:]=[78,74,87,80,83]# edge 7\n",
    "countkeys=edge_labels_dict.values()\n",
    "counts_dict=dict(zip(countkeys,counts[:,:]))"
   ]
  },
  {
   "cell_type": "code",
   "execution_count": 12,
   "metadata": {},
   "outputs": [
    {
     "name": "stdout",
     "output_type": "stream",
     "text": [
      "dict_values([('A', 'B'), ('A', 'D'), ('D', 'E'), ('E', 'F'), ('B', 'C'), ('B', 'E'), ('C', 'F')])\n"
     ]
    }
   ],
   "source": [
    "print(countkeys)"
   ]
  },
  {
   "cell_type": "code",
   "execution_count": 13,
   "metadata": {},
   "outputs": [
    {
     "data": {
      "text/plain": [
       "{('A', 'B'): array([255., 190., 220., 190., 235.]),\n",
       " ('A', 'D'): array([85., 78., 80., 77., 79.]),\n",
       " ('D', 'E'): array([235., 181., 186., 176., 195.]),\n",
       " ('E', 'F'): array([210., 165., 180., 175., 190.]),\n",
       " ('B', 'C'): array([56., 42., 48., 56., 58.]),\n",
       " ('B', 'E'): array([78., 74., 87., 80., 83.]),\n",
       " ('C', 'F'): array([78., 74., 87., 80., 83.])}"
      ]
     },
     "execution_count": 13,
     "metadata": {},
     "output_type": "execute_result"
    }
   ],
   "source": [
    "counts_dict"
   ]
  },
  {
   "cell_type": "code",
   "execution_count": 26,
   "metadata": {},
   "outputs": [
    {
     "data": {
      "image/png": "[encoded data removed]",
      "text/plain": [
       "<Figure size 640x480 with 1 Axes>"
      ]
     },
     "metadata": {},
     "output_type": "display_data"
    }
   ],
   "source": [
    "import matplotlib.pyplot as plt\n",
    "x=list(range(0,counts.shape[1]))\n",
    "for ii in range(counts.shape[0]):\n",
    "    plt.plot(x,counts[ii,:],label=str(list(counts_dict.keys())[ii]))\n",
    "plt.ylim(0,np.max(counts))\n",
    "plt.xlabel(\"Time Slice\")\n",
    "plt.ylabel(\"Counts per time slice\")\n",
    "plt.legend()\n",
    "plt.title(\"Link Counts\")\n",
    "plt.savefig(path+\"/DeyEtAlModel1LinkCounts\")\n",
    "plt.show()"
   ]
  },
  {
   "attachments": {},
   "cell_type": "markdown",
   "metadata": {},
   "source": [
    "# Routes between O's and D's.\n",
    "- one list of routes as edge sequences\n",
    "- one list of routes as node sequences\n",
    "- note that a dict of OD_pairs to routes must accomodate several routes per OD_pair later on\n",
    "    - the \"zip\" can be replaced by an iterator over OD_Pairs, add a list of routes to the OD_Pair key"
   ]
  },
  {
   "attachments": {},
   "cell_type": "markdown",
   "metadata": {},
   "source": [
    "# $O, D$"
   ]
  },
  {
   "cell_type": "code",
   "execution_count": 15,
   "metadata": {},
   "outputs": [
    {
     "name": "stdout",
     "output_type": "stream",
     "text": [
      "[('A', 'F'), ('A', 'C'), ('A', 'E'), ('A', 'B'), ('A', 'D'), ('B', 'F'), ('B', 'C'), ('B', 'E'), ('C', 'F'), ('D', 'F'), ('D', 'E'), ('E', 'F')]\n",
      "12\n"
     ]
    }
   ],
   "source": [
    "origins=nodes\n",
    "destinations=nodes\n",
    "od_pairs=[]\n",
    "for o in origins:\n",
    "   for d in nx.dfs_postorder_nodes(G,source=o):\n",
    "    if(o!=d):\n",
    "        od_pairs.append((o,d))\n",
    "print(od_pairs)\n",
    "print(len(od_pairs))"
   ]
  },
  {
   "cell_type": "code",
   "execution_count": 16,
   "metadata": {},
   "outputs": [],
   "source": [
    "od_route_n_dict={}\n",
    "od_route_e_dict={}"
   ]
  },
  {
   "cell_type": "code",
   "execution_count": 17,
   "metadata": {},
   "outputs": [],
   "source": [
    "# routes as sequence of nodes\n",
    "routes_n=[]\n",
    "routes_e=[]\n",
    "for od in od_pairs:\n",
    "    rnlist=list(nx.all_simple_paths(G,od[0],od[1]))\n",
    "    od_route_n_dict[od]=rnlist\n",
    "    routes_n.append(rnlist)\n",
    "    relist=list(nx.all_simple_edge_paths(G,od[0],od[1]))\n",
    "    od_route_e_dict[od]=relist\n",
    "    routes_e.append(relist)"
   ]
  },
  {
   "cell_type": "code",
   "execution_count": 18,
   "metadata": {},
   "outputs": [
    {
     "data": {
      "text/plain": [
       "12"
      ]
     },
     "execution_count": 18,
     "metadata": {},
     "output_type": "execute_result"
    }
   ],
   "source": [
    "len(routes_e)"
   ]
  },
  {
   "cell_type": "code",
   "execution_count": 19,
   "metadata": {},
   "outputs": [
    {
     "data": {
      "text/plain": [
       "{('A', 'F'): [['A', 'B', 'C', 'F'],\n",
       "  ['A', 'B', 'E', 'F'],\n",
       "  ['A', 'D', 'E', 'F']],\n",
       " ('A', 'C'): [['A', 'B', 'C']],\n",
       " ('A', 'E'): [['A', 'B', 'E'], ['A', 'D', 'E']],\n",
       " ('A', 'B'): [['A', 'B']],\n",
       " ('A', 'D'): [['A', 'D']],\n",
       " ('B', 'F'): [['B', 'C', 'F'], ['B', 'E', 'F']],\n",
       " ('B', 'C'): [['B', 'C']],\n",
       " ('B', 'E'): [['B', 'E']],\n",
       " ('C', 'F'): [['C', 'F']],\n",
       " ('D', 'F'): [['D', 'E', 'F']],\n",
       " ('D', 'E'): [['D', 'E']],\n",
       " ('E', 'F'): [['E', 'F']]}"
      ]
     },
     "execution_count": 19,
     "metadata": {},
     "output_type": "execute_result"
    }
   ],
   "source": [
    "od_route_n_dict"
   ]
  },
  {
   "cell_type": "code",
   "execution_count": 20,
   "metadata": {},
   "outputs": [
    {
     "data": {
      "text/plain": [
       "{('A', 'F'): [[('A', 'B'), ('B', 'C'), ('C', 'F')],\n",
       "  [('A', 'B'), ('B', 'E'), ('E', 'F')],\n",
       "  [('A', 'D'), ('D', 'E'), ('E', 'F')]],\n",
       " ('A', 'C'): [[('A', 'B'), ('B', 'C')]],\n",
       " ('A', 'E'): [[('A', 'B'), ('B', 'E')], [('A', 'D'), ('D', 'E')]],\n",
       " ('A', 'B'): [[('A', 'B')]],\n",
       " ('A', 'D'): [[('A', 'D')]],\n",
       " ('B', 'F'): [[('B', 'C'), ('C', 'F')], [('B', 'E'), ('E', 'F')]],\n",
       " ('B', 'C'): [[('B', 'C')]],\n",
       " ('B', 'E'): [[('B', 'E')]],\n",
       " ('C', 'F'): [[('C', 'F')]],\n",
       " ('D', 'F'): [[('D', 'E'), ('E', 'F')]],\n",
       " ('D', 'E'): [[('D', 'E')]],\n",
       " ('E', 'F'): [[('E', 'F')]]}"
      ]
     },
     "execution_count": 20,
     "metadata": {},
     "output_type": "execute_result"
    }
   ],
   "source": [
    "od_route_e_dict"
   ]
  },
  {
   "cell_type": "code",
   "execution_count": 21,
   "metadata": {},
   "outputs": [],
   "source": [
    "od_route_names_dict={}\n",
    "route_names=[]\n",
    "for od in od_pairs:\n",
    "    od_route_names=[]\n",
    "    for i in range(0,len(od_route_n_dict[od])):\n",
    "        string=((od[0],od[1],str(i)))\n",
    "        od_route_names.append(string)\n",
    "        route_names.append(string)\n",
    "    od_route_names_dict[od]=tuple(od_route_names)\n"
   ]
  },
  {
   "cell_type": "code",
   "execution_count": 22,
   "metadata": {},
   "outputs": [
    {
     "data": {
      "text/plain": [
       "[('A', 'F', '0'),\n",
       " ('A', 'F', '1'),\n",
       " ('A', 'F', '2'),\n",
       " ('A', 'C', '0'),\n",
       " ('A', 'E', '0'),\n",
       " ('A', 'E', '1'),\n",
       " ('A', 'B', '0'),\n",
       " ('A', 'D', '0'),\n",
       " ('B', 'F', '0'),\n",
       " ('B', 'F', '1'),\n",
       " ('B', 'C', '0'),\n",
       " ('B', 'E', '0'),\n",
       " ('C', 'F', '0'),\n",
       " ('D', 'F', '0'),\n",
       " ('D', 'E', '0'),\n",
       " ('E', 'F', '0')]"
      ]
     },
     "execution_count": 22,
     "metadata": {},
     "output_type": "execute_result"
    }
   ],
   "source": [
    "route_names"
   ]
  },
  {
   "cell_type": "code",
   "execution_count": 23,
   "metadata": {},
   "outputs": [
    {
     "data": {
      "text/plain": [
       "16"
      ]
     },
     "execution_count": 23,
     "metadata": {},
     "output_type": "execute_result"
    }
   ],
   "source": [
    "len(route_names)"
   ]
  },
  {
   "cell_type": "code",
   "execution_count": 24,
   "metadata": {},
   "outputs": [
    {
     "data": {
      "text/plain": [
       "{('A', 'F'): (('A', 'F', '0'), ('A', 'F', '1'), ('A', 'F', '2')),\n",
       " ('A', 'C'): (('A', 'C', '0'),),\n",
       " ('A', 'E'): (('A', 'E', '0'), ('A', 'E', '1')),\n",
       " ('A', 'B'): (('A', 'B', '0'),),\n",
       " ('A', 'D'): (('A', 'D', '0'),),\n",
       " ('B', 'F'): (('B', 'F', '0'), ('B', 'F', '1')),\n",
       " ('B', 'C'): (('B', 'C', '0'),),\n",
       " ('B', 'E'): (('B', 'E', '0'),),\n",
       " ('C', 'F'): (('C', 'F', '0'),),\n",
       " ('D', 'F'): (('D', 'F', '0'),),\n",
       " ('D', 'E'): (('D', 'E', '0'),),\n",
       " ('E', 'F'): (('E', 'F', '0'),)}"
      ]
     },
     "execution_count": 24,
     "metadata": {},
     "output_type": "execute_result"
    }
   ],
   "source": [
    "od_route_names_dict"
   ]
  },
  {
   "attachments": {},
   "cell_type": "markdown",
   "metadata": {},
   "source": [
    "### Have to flatten the routes_e and routes_n lists in order to assign them to route_names"
   ]
  },
  {
   "cell_type": "code",
   "execution_count": 25,
   "metadata": {},
   "outputs": [],
   "source": [
    "def flatten(l):\n",
    "    return [item for sublist in l for item in sublist]"
   ]
  },
  {
   "cell_type": "code",
   "execution_count": 26,
   "metadata": {},
   "outputs": [
    {
     "name": "stdout",
     "output_type": "stream",
     "text": [
      "16\n"
     ]
    }
   ],
   "source": [
    "print(len(flatten(routes_e)))"
   ]
  },
  {
   "cell_type": "code",
   "execution_count": 27,
   "metadata": {},
   "outputs": [],
   "source": [
    "# dict of origins and routes\n",
    "routes_e_dict=dict(zip(route_names,flatten(routes_e)))# route names, edge sequence (tuple u,v)\n",
    "routes_n_dict=dict(zip(route_names,flatten(routes_n)))# route names, node sequence (u)"
   ]
  },
  {
   "cell_type": "code",
   "execution_count": 28,
   "metadata": {},
   "outputs": [
    {
     "data": {
      "text/plain": [
       "{('A', 'F', '0'): [('A', 'B'), ('B', 'C'), ('C', 'F')],\n",
       " ('A', 'F', '1'): [('A', 'B'), ('B', 'E'), ('E', 'F')],\n",
       " ('A', 'F', '2'): [('A', 'D'), ('D', 'E'), ('E', 'F')],\n",
       " ('A', 'C', '0'): [('A', 'B'), ('B', 'C')],\n",
       " ('A', 'E', '0'): [('A', 'B'), ('B', 'E')],\n",
       " ('A', 'E', '1'): [('A', 'D'), ('D', 'E')],\n",
       " ('A', 'B', '0'): [('A', 'B')],\n",
       " ('A', 'D', '0'): [('A', 'D')],\n",
       " ('B', 'F', '0'): [('B', 'C'), ('C', 'F')],\n",
       " ('B', 'F', '1'): [('B', 'E'), ('E', 'F')],\n",
       " ('B', 'C', '0'): [('B', 'C')],\n",
       " ('B', 'E', '0'): [('B', 'E')],\n",
       " ('C', 'F', '0'): [('C', 'F')],\n",
       " ('D', 'F', '0'): [('D', 'E'), ('E', 'F')],\n",
       " ('D', 'E', '0'): [('D', 'E')],\n",
       " ('E', 'F', '0'): [('E', 'F')]}"
      ]
     },
     "execution_count": 28,
     "metadata": {},
     "output_type": "execute_result"
    }
   ],
   "source": [
    "routes_e_dict"
   ]
  },
  {
   "cell_type": "code",
   "execution_count": 29,
   "metadata": {},
   "outputs": [
    {
     "data": {
      "text/plain": [
       "{('A', 'F', '0'): ['A', 'B', 'C', 'F'],\n",
       " ('A', 'F', '1'): ['A', 'B', 'E', 'F'],\n",
       " ('A', 'F', '2'): ['A', 'D', 'E', 'F'],\n",
       " ('A', 'C', '0'): ['A', 'B', 'C'],\n",
       " ('A', 'E', '0'): ['A', 'B', 'E'],\n",
       " ('A', 'E', '1'): ['A', 'D', 'E'],\n",
       " ('A', 'B', '0'): ['A', 'B'],\n",
       " ('A', 'D', '0'): ['A', 'D'],\n",
       " ('B', 'F', '0'): ['B', 'C', 'F'],\n",
       " ('B', 'F', '1'): ['B', 'E', 'F'],\n",
       " ('B', 'C', '0'): ['B', 'C'],\n",
       " ('B', 'E', '0'): ['B', 'E'],\n",
       " ('C', 'F', '0'): ['C', 'F'],\n",
       " ('D', 'F', '0'): ['D', 'E', 'F'],\n",
       " ('D', 'E', '0'): ['D', 'E'],\n",
       " ('E', 'F', '0'): ['E', 'F']}"
      ]
     },
     "execution_count": 29,
     "metadata": {},
     "output_type": "execute_result"
    }
   ],
   "source": [
    "routes_n_dict"
   ]
  },
  {
   "cell_type": "code",
   "execution_count": 30,
   "metadata": {},
   "outputs": [
    {
     "data": {
      "text/plain": [
       "{'AB': ('A', 'B'),\n",
       " 'AD': ('A', 'D'),\n",
       " 'DE': ('D', 'E'),\n",
       " 'EF': ('E', 'F'),\n",
       " 'BC': ('B', 'C'),\n",
       " 'BE': ('B', 'E'),\n",
       " 'CF': ('C', 'F')}"
      ]
     },
     "execution_count": 30,
     "metadata": {},
     "output_type": "execute_result"
    }
   ],
   "source": [
    "edge_labels_dict"
   ]
  },
  {
   "cell_type": "code",
   "execution_count": 31,
   "metadata": {},
   "outputs": [
    {
     "name": "stdout",
     "output_type": "stream",
     "text": [
      "{('A', 'F', '0'): [1, 1, 1], ('A', 'F', '1'): [1, 1, 1], ('A', 'F', '2'): [1, 1, 1], ('A', 'C', '0'): [1, 1], ('A', 'E', '0'): [1, 1], ('A', 'E', '1'): [1, 1], ('A', 'B', '0'): [1], ('A', 'D', '0'): [1], ('B', 'F', '0'): [1, 1], ('B', 'F', '1'): [1, 1], ('B', 'C', '0'): [1], ('B', 'E', '0'): [1], ('C', 'F', '0'): [1], ('D', 'F', '0'): [1, 1], ('D', 'E', '0'): [1], ('E', 'F', '0'): [1]}\n"
     ]
    }
   ],
   "source": [
    "# route costs\n",
    "routes_c_dict={}\n",
    "for rn in route_names:\n",
    "    es=routes_e_dict[rn]\n",
    "    lc=[]\n",
    "    for e in es:\n",
    "        c=edge_weights_dict[e]\n",
    "        lc.append(c)\n",
    "    routes_c_dict[rn]=lc\n",
    "print(routes_c_dict)"
   ]
  },
  {
   "attachments": {},
   "cell_type": "markdown",
   "metadata": {},
   "source": [
    "# Adjacency matrix (link-path incidence matrix) A=aij\n",
    "- counted edges/links versus routes they are on\n",
    "- 0,1 definition used by Vardi(1996) and Hazelton(2015)\n",
    "- Make into a function\n",
    "- This should be OD relations to the right and not routes\n",
    "    - if there are more than 1 routes per OD relation this code has to be fixed, see later on\n",
    "- It's still a valuable mapping to have"
   ]
  },
  {
   "cell_type": "code",
   "execution_count": 32,
   "metadata": {},
   "outputs": [
    {
     "name": "stdout",
     "output_type": "stream",
     "text": [
      "[('A', 'B'), ('B', 'C'), ('C', 'F')]\n",
      "('A', 'B')\n",
      "[('A', 'B'), ('B', 'E'), ('E', 'F')]\n",
      "('A', 'B')\n",
      "[('A', 'D'), ('D', 'E'), ('E', 'F')]\n",
      "('A', 'B')\n",
      "[('A', 'B'), ('B', 'C')]\n",
      "('A', 'B')\n",
      "[('A', 'B'), ('B', 'E')]\n",
      "('A', 'B')\n",
      "[('A', 'D'), ('D', 'E')]\n",
      "('A', 'B')\n",
      "[('A', 'B')]\n",
      "('A', 'B')\n",
      "[('A', 'D')]\n",
      "('A', 'B')\n",
      "[('B', 'C'), ('C', 'F')]\n",
      "('A', 'B')\n",
      "[('B', 'E'), ('E', 'F')]\n",
      "('A', 'B')\n",
      "[('B', 'C')]\n",
      "('A', 'B')\n",
      "[('B', 'E')]\n",
      "('A', 'B')\n",
      "[('C', 'F')]\n",
      "('A', 'B')\n",
      "[('D', 'E'), ('E', 'F')]\n",
      "('A', 'B')\n",
      "[('D', 'E')]\n",
      "('A', 'B')\n",
      "[('E', 'F')]\n",
      "('A', 'B')\n",
      "[('A', 'B'), ('B', 'C'), ('C', 'F')]\n",
      "('A', 'D')\n",
      "[('A', 'B'), ('B', 'E'), ('E', 'F')]\n",
      "('A', 'D')\n",
      "[('A', 'D'), ('D', 'E'), ('E', 'F')]\n",
      "('A', 'D')\n",
      "[('A', 'B'), ('B', 'C')]\n",
      "('A', 'D')\n",
      "[('A', 'B'), ('B', 'E')]\n",
      "('A', 'D')\n",
      "[('A', 'D'), ('D', 'E')]\n",
      "('A', 'D')\n",
      "[('A', 'B')]\n",
      "('A', 'D')\n",
      "[('A', 'D')]\n",
      "('A', 'D')\n",
      "[('B', 'C'), ('C', 'F')]\n",
      "('A', 'D')\n",
      "[('B', 'E'), ('E', 'F')]\n",
      "('A', 'D')\n",
      "[('B', 'C')]\n",
      "('A', 'D')\n",
      "[('B', 'E')]\n",
      "('A', 'D')\n",
      "[('C', 'F')]\n",
      "('A', 'D')\n",
      "[('D', 'E'), ('E', 'F')]\n",
      "('A', 'D')\n",
      "[('D', 'E')]\n",
      "('A', 'D')\n",
      "[('E', 'F')]\n",
      "('A', 'D')\n",
      "[('A', 'B'), ('B', 'C'), ('C', 'F')]\n",
      "('D', 'E')\n",
      "[('A', 'B'), ('B', 'E'), ('E', 'F')]\n",
      "('D', 'E')\n",
      "[('A', 'D'), ('D', 'E'), ('E', 'F')]\n",
      "('D', 'E')\n",
      "[('A', 'B'), ('B', 'C')]\n",
      "('D', 'E')\n",
      "[('A', 'B'), ('B', 'E')]\n",
      "('D', 'E')\n",
      "[('A', 'D'), ('D', 'E')]\n",
      "('D', 'E')\n",
      "[('A', 'B')]\n",
      "('D', 'E')\n",
      "[('A', 'D')]\n",
      "('D', 'E')\n",
      "[('B', 'C'), ('C', 'F')]\n",
      "('D', 'E')\n",
      "[('B', 'E'), ('E', 'F')]\n",
      "('D', 'E')\n",
      "[('B', 'C')]\n",
      "('D', 'E')\n",
      "[('B', 'E')]\n",
      "('D', 'E')\n",
      "[('C', 'F')]\n",
      "('D', 'E')\n",
      "[('D', 'E'), ('E', 'F')]\n",
      "('D', 'E')\n",
      "[('D', 'E')]\n",
      "('D', 'E')\n",
      "[('E', 'F')]\n",
      "('D', 'E')\n",
      "[('A', 'B'), ('B', 'C'), ('C', 'F')]\n",
      "('E', 'F')\n",
      "[('A', 'B'), ('B', 'E'), ('E', 'F')]\n",
      "('E', 'F')\n",
      "[('A', 'D'), ('D', 'E'), ('E', 'F')]\n",
      "('E', 'F')\n",
      "[('A', 'B'), ('B', 'C')]\n",
      "('E', 'F')\n",
      "[('A', 'B'), ('B', 'E')]\n",
      "('E', 'F')\n",
      "[('A', 'D'), ('D', 'E')]\n",
      "('E', 'F')\n",
      "[('A', 'B')]\n",
      "('E', 'F')\n",
      "[('A', 'D')]\n",
      "('E', 'F')\n",
      "[('B', 'C'), ('C', 'F')]\n",
      "('E', 'F')\n",
      "[('B', 'E'), ('E', 'F')]\n",
      "('E', 'F')\n",
      "[('B', 'C')]\n",
      "('E', 'F')\n",
      "[('B', 'E')]\n",
      "('E', 'F')\n",
      "[('C', 'F')]\n",
      "('E', 'F')\n",
      "[('D', 'E'), ('E', 'F')]\n",
      "('E', 'F')\n",
      "[('D', 'E')]\n",
      "('E', 'F')\n",
      "[('E', 'F')]\n",
      "('E', 'F')\n",
      "[('A', 'B'), ('B', 'C'), ('C', 'F')]\n",
      "('B', 'C')\n",
      "[('A', 'B'), ('B', 'E'), ('E', 'F')]\n",
      "('B', 'C')\n",
      "[('A', 'D'), ('D', 'E'), ('E', 'F')]\n",
      "('B', 'C')\n",
      "[('A', 'B'), ('B', 'C')]\n",
      "('B', 'C')\n",
      "[('A', 'B'), ('B', 'E')]\n",
      "('B', 'C')\n",
      "[('A', 'D'), ('D', 'E')]\n",
      "('B', 'C')\n",
      "[('A', 'B')]\n",
      "('B', 'C')\n",
      "[('A', 'D')]\n",
      "('B', 'C')\n",
      "[('B', 'C'), ('C', 'F')]\n",
      "('B', 'C')\n",
      "[('B', 'E'), ('E', 'F')]\n",
      "('B', 'C')\n",
      "[('B', 'C')]\n",
      "('B', 'C')\n",
      "[('B', 'E')]\n",
      "('B', 'C')\n",
      "[('C', 'F')]\n",
      "('B', 'C')\n",
      "[('D', 'E'), ('E', 'F')]\n",
      "('B', 'C')\n",
      "[('D', 'E')]\n",
      "('B', 'C')\n",
      "[('E', 'F')]\n",
      "('B', 'C')\n",
      "[('A', 'B'), ('B', 'C'), ('C', 'F')]\n",
      "('B', 'E')\n",
      "[('A', 'B'), ('B', 'E'), ('E', 'F')]\n",
      "('B', 'E')\n",
      "[('A', 'D'), ('D', 'E'), ('E', 'F')]\n",
      "('B', 'E')\n",
      "[('A', 'B'), ('B', 'C')]\n",
      "('B', 'E')\n",
      "[('A', 'B'), ('B', 'E')]\n",
      "('B', 'E')\n",
      "[('A', 'D'), ('D', 'E')]\n",
      "('B', 'E')\n",
      "[('A', 'B')]\n",
      "('B', 'E')\n",
      "[('A', 'D')]\n",
      "('B', 'E')\n",
      "[('B', 'C'), ('C', 'F')]\n",
      "('B', 'E')\n",
      "[('B', 'E'), ('E', 'F')]\n",
      "('B', 'E')\n",
      "[('B', 'C')]\n",
      "('B', 'E')\n",
      "[('B', 'E')]\n",
      "('B', 'E')\n",
      "[('C', 'F')]\n",
      "('B', 'E')\n",
      "[('D', 'E'), ('E', 'F')]\n",
      "('B', 'E')\n",
      "[('D', 'E')]\n",
      "('B', 'E')\n",
      "[('E', 'F')]\n",
      "('B', 'E')\n",
      "[('A', 'B'), ('B', 'C'), ('C', 'F')]\n",
      "('C', 'F')\n",
      "[('A', 'B'), ('B', 'E'), ('E', 'F')]\n",
      "('C', 'F')\n",
      "[('A', 'D'), ('D', 'E'), ('E', 'F')]\n",
      "('C', 'F')\n",
      "[('A', 'B'), ('B', 'C')]\n",
      "('C', 'F')\n",
      "[('A', 'B'), ('B', 'E')]\n",
      "('C', 'F')\n",
      "[('A', 'D'), ('D', 'E')]\n",
      "('C', 'F')\n",
      "[('A', 'B')]\n",
      "('C', 'F')\n",
      "[('A', 'D')]\n",
      "('C', 'F')\n",
      "[('B', 'C'), ('C', 'F')]\n",
      "('C', 'F')\n",
      "[('B', 'E'), ('E', 'F')]\n",
      "('C', 'F')\n",
      "[('B', 'C')]\n",
      "('C', 'F')\n",
      "[('B', 'E')]\n",
      "('C', 'F')\n",
      "[('C', 'F')]\n",
      "('C', 'F')\n",
      "[('D', 'E'), ('E', 'F')]\n",
      "('C', 'F')\n",
      "[('D', 'E')]\n",
      "('C', 'F')\n",
      "[('E', 'F')]\n",
      "('C', 'F')\n"
     ]
    }
   ],
   "source": [
    "# a_ij = 1 if link i is in route j, 0 otherwise\n",
    "I=len(counts_dict)#7\n",
    "J=len(routes_e)#16\n",
    "aij=np.zeros((I, J))\n",
    "for i in range(I):\n",
    "    for j in range(J):\n",
    "        for k in range(len(routes_e[j])):\n",
    "            print(routes_e[j][k])\n",
    "            print(list(counts_dict.keys())[i])\n",
    "            if(routes_e[j][k]==list(counts_dict.keys())[i]):\n",
    "                aij[i,j]=1"
   ]
  },
  {
   "cell_type": "code",
   "execution_count": 33,
   "metadata": {},
   "outputs": [],
   "source": [
    "I=len(countkeys)\n",
    "J=len(route_names)\n",
    "aij=np.zeros((I,J))\n",
    "i=0\n",
    "for e in countkeys:#I\n",
    "    j=0\n",
    "    for rn in route_names:#J\n",
    "        rs=routes_e_dict[rn]\n",
    "        for r in rs:\n",
    "#            print(i,j,e,r)\n",
    "            if(e == r):\n",
    "                aij[i,j]=1\n",
    "        j+=1\n",
    "    i+=1\n",
    "        "
   ]
  },
  {
   "cell_type": "code",
   "execution_count": 34,
   "metadata": {},
   "outputs": [
    {
     "data": {
      "text/plain": [
       "array([[1., 1., 0., 1., 1., 0., 1., 0., 0., 0., 0., 0., 0., 0., 0., 0.],\n",
       "       [0., 0., 1., 0., 0., 1., 0., 1., 0., 0., 0., 0., 0., 0., 0., 0.],\n",
       "       [0., 0., 1., 0., 0., 1., 0., 0., 0., 0., 0., 0., 0., 1., 1., 0.],\n",
       "       [0., 1., 1., 0., 0., 0., 0., 0., 0., 1., 0., 0., 0., 1., 0., 1.],\n",
       "       [1., 0., 0., 1., 0., 0., 0., 0., 1., 0., 1., 0., 0., 0., 0., 0.],\n",
       "       [0., 1., 0., 0., 1., 0., 0., 0., 0., 1., 0., 1., 0., 0., 0., 0.],\n",
       "       [1., 0., 0., 0., 0., 0., 0., 0., 1., 0., 0., 0., 1., 0., 0., 0.]])"
      ]
     },
     "execution_count": 34,
     "metadata": {},
     "output_type": "execute_result"
    }
   ],
   "source": [
    "aij# each column is a route between an OD pair J and each row has 1 if a link I is on the route"
   ]
  },
  {
   "attachments": {},
   "cell_type": "markdown",
   "metadata": {},
   "source": [
    "# Matrix of all edges which are on routes a2ij\n",
    "- Map of all edges/links and the routes they are on\n",
    "- 0,1\n",
    "- Use to calculate the flows on non-measured links along the routes\n",
    "- After the OD flows are calculated"
   ]
  },
  {
   "cell_type": "code",
   "execution_count": 35,
   "metadata": {},
   "outputs": [
    {
     "data": {
      "text/plain": [
       "dict_values([('A', 'B'), ('A', 'D'), ('D', 'E'), ('E', 'F'), ('B', 'C'), ('B', 'E'), ('C', 'F')])"
      ]
     },
     "execution_count": 35,
     "metadata": {},
     "output_type": "execute_result"
    }
   ],
   "source": [
    "edge_labels_dict.values()"
   ]
  },
  {
   "cell_type": "code",
   "execution_count": 36,
   "metadata": {},
   "outputs": [],
   "source": [
    "I=len(edge_labels_dict.keys())\n",
    "J=len(route_names)\n",
    "a2ij=np.zeros((I,J))\n",
    "pi1=np.zeros((I,J))\n",
    "i=0\n",
    "for e in edge_labels_dict.values():#I\n",
    "    j=0\n",
    "    for rn in route_names:#J\n",
    "        rs=routes_e_dict[rn]\n",
    "        for r in rs:\n",
    "#            print(i,j,e,r)\n",
    "            if(e == r):\n",
    "                a2ij[i,j]=1\n",
    "                pi1[i,j]=edge_weights[i]\n",
    "        j+=1\n",
    "    i+=1"
   ]
  },
  {
   "cell_type": "code",
   "execution_count": 37,
   "metadata": {},
   "outputs": [
    {
     "data": {
      "text/plain": [
       "array([[1., 1., 0., 1., 1., 0., 1., 0., 0., 0., 0., 0., 0., 0., 0., 0.],\n",
       "       [0., 0., 1., 0., 0., 1., 0., 1., 0., 0., 0., 0., 0., 0., 0., 0.],\n",
       "       [0., 0., 1., 0., 0., 1., 0., 0., 0., 0., 0., 0., 0., 1., 1., 0.],\n",
       "       [0., 1., 1., 0., 0., 0., 0., 0., 0., 1., 0., 0., 0., 1., 0., 1.],\n",
       "       [1., 0., 0., 1., 0., 0., 0., 0., 1., 0., 1., 0., 0., 0., 0., 0.],\n",
       "       [0., 1., 0., 0., 1., 0., 0., 0., 0., 1., 0., 1., 0., 0., 0., 0.],\n",
       "       [1., 0., 0., 0., 0., 0., 0., 0., 1., 0., 0., 0., 1., 0., 0., 0.]])"
      ]
     },
     "execution_count": 37,
     "metadata": {},
     "output_type": "execute_result"
    }
   ],
   "source": [
    "a2ij"
   ]
  },
  {
   "attachments": {},
   "cell_type": "markdown",
   "metadata": {},
   "source": [
    "### For each time slice, Y is counts (dim m x 1) = A (dim m x n) * X (dim n x 1), m<n .\n",
    "- Need to find X the OD flow\n",
    "- m is the number of edges with counts on them\n",
    "- n is the number of routes between OD\n",
    "- dimension 1 becomes K for K time slices"
   ]
  },
  {
   "cell_type": "code",
   "execution_count": 38,
   "metadata": {},
   "outputs": [
    {
     "name": "stdout",
     "output_type": "stream",
     "text": [
      "(7, 16) (7, 5)\n"
     ]
    }
   ],
   "source": [
    "print(aij.shape, counts.shape)"
   ]
  },
  {
   "attachments": {},
   "cell_type": "markdown",
   "metadata": {},
   "source": [
    "# Model 5 days of made-up data on 7 (all links) measured links for all 16 routes (each OD pair has different number of routes). Flows are per route, not per OD"
   ]
  },
  {
   "attachments": {},
   "cell_type": "markdown",
   "metadata": {},
   "source": [
    "- Hazelton (2015) must use a survey of OD traffic to generate initial x flows using a Gamma function of parameters (x_survey/2, 1/2). How does he use these in the solution?\n",
    "\n",
    "- The following is solved using ECOS_BB in the package cvxpy\n",
    "\n",
    "### We need integer-value results and use a special included mixed-integer solver"
   ]
  },
  {
   "cell_type": "code",
   "execution_count": 39,
   "metadata": {},
   "outputs": [
    {
     "name": "stdout",
     "output_type": "stream",
     "text": [
      "The flows on the routes (one route per row) in the time slices (one time slice per column)\n",
      "[[9.85903026e-11 9.00000000e+00 1.00000000e+01 1.10000000e+01\n",
      "  1.20000000e+01]\n",
      " [1.50000000e+01 1.40000000e+01 1.60000000e+01 1.40000000e+01\n",
      "  1.50000000e+01]\n",
      " [2.00000000e+01 1.70000000e+01 1.80000000e+01 1.70000000e+01\n",
      "  1.80000000e+01]\n",
      " [1.90000000e+01 1.00000000e+01 1.20000000e+01 1.40000000e+01\n",
      "  1.50000000e+01]\n",
      " [2.00000000e+01 1.90000000e+01 2.20000000e+01 2.00000000e+01\n",
      "  2.10000000e+01]\n",
      " [2.80000000e+01 2.50000000e+01 2.60000000e+01 2.50000000e+01\n",
      "  2.60000000e+01]\n",
      " [2.01000000e+02 1.38000000e+02 1.61000000e+02 1.30000000e+02\n",
      "  1.73000000e+02]\n",
      " [3.70000000e+01 3.50000000e+01 3.60000000e+01 3.50000000e+01\n",
      "  3.50000000e+01]\n",
      " [1.60000000e+01 1.00000000e+01 1.20000000e+01 1.30000000e+01\n",
      "  1.40000000e+01]\n",
      " [1.80000000e+01 1.70000000e+01 2.00000000e+01 1.90000000e+01\n",
      "  2.00000000e+01]\n",
      " [2.10000000e+01 1.30000000e+01 1.40000000e+01 1.80000000e+01\n",
      "  1.80000000e+01]\n",
      " [2.40000000e+01 2.40000000e+01 2.90000000e+01 2.70000000e+01\n",
      "  2.70000000e+01]\n",
      " [6.20000000e+01 5.50000000e+01 6.50000000e+01 5.60000000e+01\n",
      "  5.80000000e+01]\n",
      " [5.30000000e+01 3.90000000e+01 4.10000000e+01 4.00000000e+01\n",
      "  4.40000000e+01]\n",
      " [1.34000000e+02 9.90000000e+01 1.01000000e+02 9.40000000e+01\n",
      "  1.07000000e+02]\n",
      " [1.04000000e+02 7.80000000e+01 8.50000000e+01 8.50000000e+01\n",
      "  9.30000000e+01]]\n"
     ]
    },
    {
     "name": "stderr",
     "output_type": "stream",
     "text": [
      "c:\\Users\\jkhac\\anaconda3\\envs\\final_proj_torch\\lib\\site-packages\\cvxpy\\problems\\problem.py:1385: UserWarning: Solution may be inaccurate. Try another solver, adjusting the solver settings, or solve with verbose=True for more information.\n",
      "  warnings.warn(\n"
     ]
    }
   ],
   "source": [
    "# y = Ax\n",
    "# We have y and A and want x\n",
    "# y is m x 1; A is m x n; x is n x 1; m = 5, n = 6\n",
    "x = cvx.Variable((aij.shape[1],counts.shape[1]),integer=True)\n",
    "\n",
    "#err = cvx.abs(aij @ x - counts)\n",
    "err = cvx.sum_squares(aij @ x - counts)\n",
    "objective = cvx.Minimize(cvx.norm(err,1))# regularize later with sum(w*aij) see Kurzhanskiy\n",
    "constraints = [x >= 0 ]\n",
    "prob = cvx.Problem(objective, constraints)\n",
    "\n",
    "# The optimal objective is returned by prob.solve().\n",
    "result = prob.solve(solver=\"ECOS_BB\")\n",
    "\n",
    "# The optimal value for x is stored in x.value.\n",
    "print(\"The flows on the routes (one route per row) in the time slices (one time slice per column)\")\n",
    "print(x.value)"
   ]
  },
  {
   "attachments": {},
   "cell_type": "markdown",
   "metadata": {},
   "source": [
    "### Average route flows over 5 time slices and average total route flow per time slice"
   ]
  },
  {
   "cell_type": "code",
   "execution_count": 40,
   "metadata": {},
   "outputs": [
    {
     "name": "stdout",
     "output_type": "stream",
     "text": [
      "[  8.4  14.8  18.0  14.0  20.4  26.0 160.6  35.6  13.0  18.8  16.8  26.2\n",
      "  59.2  43.4 107.0  89.0]\n",
      "[ 4.3  0.7  1.1  3.0  1.0  1.1 25.4  0.8  2.0  1.2  2.9  1.9  3.8  5.1\n",
      " 14.1  8.9]\n",
      "671.2000000000274\n",
      "3356.000000000137\n"
     ]
    }
   ],
   "source": [
    "print(f\"{np.array2string(np.mean(x.value,axis=1),precision=1, floatmode='fixed')}\")\n",
    "print(f\"{np.array2string(np.std(x.value,axis=1),precision=1, floatmode='fixed')}\")\n",
    "print(np.sum(np.mean(x.value,axis=1)))\n",
    "print(np.sum(x.value))"
   ]
  },
  {
   "cell_type": "code",
   "execution_count": 41,
   "metadata": {},
   "outputs": [
    {
     "name": "stdout",
     "output_type": "stream",
     "text": [
      "0 0 ('A', 'F', '0') [9.85903026e-11 9.00000000e+00 1.00000000e+01 1.10000000e+01\n",
      " 1.20000000e+01] [9.85903026e-11 9.00000000e+00 1.00000000e+01 1.10000000e+01\n",
      " 1.20000000e+01]\n",
      "0 1 ('A', 'F', '1') [15. 23. 26. 25. 27.] [15. 14. 16. 14. 15.]\n",
      "0 2 ('A', 'F', '2') [35. 40. 44. 42. 45.] [20. 17. 18. 17. 18.]\n",
      "1 3 ('A', 'C', '0') [19. 10. 12. 14. 15.] [19. 10. 12. 14. 15.]\n",
      "2 4 ('A', 'E', '0') [20. 19. 22. 20. 21.] [20. 19. 22. 20. 21.]\n",
      "2 5 ('A', 'E', '1') [48. 44. 48. 45. 47.] [28. 25. 26. 25. 26.]\n",
      "3 6 ('A', 'B', '0') [201. 138. 161. 130. 173.] [201. 138. 161. 130. 173.]\n",
      "4 7 ('A', 'D', '0') [37. 35. 36. 35. 35.] [37. 35. 36. 35. 35.]\n",
      "5 8 ('B', 'F', '0') [16. 10. 12. 13. 14.] [16. 10. 12. 13. 14.]\n",
      "5 9 ('B', 'F', '1') [34. 27. 32. 32. 34.] [18. 17. 20. 19. 20.]\n",
      "6 10 ('B', 'C', '0') [21. 13. 14. 18. 18.] [21. 13. 14. 18. 18.]\n",
      "7 11 ('B', 'E', '0') [24. 24. 29. 27. 27.] [24. 24. 29. 27. 27.]\n",
      "8 12 ('C', 'F', '0') [62. 55. 65. 56. 58.] [62. 55. 65. 56. 58.]\n",
      "9 13 ('D', 'F', '0') [53. 39. 41. 40. 44.] [53. 39. 41. 40. 44.]\n",
      "10 14 ('D', 'E', '0') [134.  99. 101.  94. 107.] [134.  99. 101.  94. 107.]\n",
      "11 15 ('E', 'F', '0') [104.  78.  85.  85.  93.] [104.  78.  85.  85.  93.]\n"
     ]
    }
   ],
   "source": [
    "# Make OD flows out of the route flows by summing over route flows for each OD\n",
    "I=x.value.shape[1]\n",
    "J=len(od_pairs)\n",
    "j=0\n",
    "i_r=0\n",
    "od_flow=np.zeros((I))\n",
    "od_flow_matrix=np.zeros((J,I))\n",
    "for od in od_pairs:\n",
    "    od_flow=0\n",
    "    rs=od_route_names_dict[od]\n",
    "    for r in rs:\n",
    "        od_flow=od_flow+x.value[i_r,:]\n",
    "        print(j,i_r,r,od_flow, x.value[i_r,:])\n",
    "        i_r+=1\n",
    "    od_flow_matrix[j,:]=od_flow\n",
    "    j+=1"
   ]
  },
  {
   "attachments": {},
   "cell_type": "markdown",
   "metadata": {},
   "source": [
    "### Average OD flows over 5 time slices and average total OD flow per time slice"
   ]
  },
  {
   "cell_type": "code",
   "execution_count": 42,
   "metadata": {},
   "outputs": [
    {
     "name": "stdout",
     "output_type": "stream",
     "text": [
      "[ 41.2  14.0  46.4 160.6  35.6  31.8  16.8  26.2  59.2  43.4 107.0  89.0]\n",
      "[ 3.5  3.0  1.6 25.4  0.8  2.6  2.9  1.9  3.8  5.1 14.1  8.9]\n",
      "671.2000000000274\n",
      "3356.0000000001364\n"
     ]
    }
   ],
   "source": [
    "print(f\"{np.array2string(np.mean(od_flow_matrix,axis=1),precision=1, floatmode='fixed')}\")\n",
    "print(f\"{np.array2string(np.std(od_flow_matrix,axis=1),precision=1, floatmode='fixed')}\")\n",
    "print(np.sum(np.mean(od_flow_matrix,axis=1)))\n",
    "print(np.sum(od_flow_matrix))"
   ]
  },
  {
   "cell_type": "code",
   "execution_count": 43,
   "metadata": {},
   "outputs": [
    {
     "name": "stdout",
     "output_type": "stream",
     "text": [
      "[[ 35.  40.  44.  42.  45.]\n",
      " [ 19.  10.  12.  14.  15.]\n",
      " [ 48.  44.  48.  45.  47.]\n",
      " [201. 138. 161. 130. 173.]\n",
      " [ 37.  35.  36.  35.  35.]\n",
      " [ 34.  27.  32.  32.  34.]\n",
      " [ 21.  13.  14.  18.  18.]\n",
      " [ 24.  24.  29.  27.  27.]\n",
      " [ 62.  55.  65.  56.  58.]\n",
      " [ 53.  39.  41.  40.  44.]\n",
      " [134.  99. 101.  94. 107.]\n",
      " [104.  78.  85.  85.  93.]]\n"
     ]
    }
   ],
   "source": [
    "print(od_flow_matrix)"
   ]
  },
  {
   "cell_type": "code",
   "execution_count": 44,
   "metadata": {},
   "outputs": [
    {
     "name": "stdout",
     "output_type": "stream",
     "text": [
      "The flows on each edge (one edge per row) (one time slice per column\n",
      "NOTE that all flows equal counts and that edge 5 flows have been imputed by the algorithm\n"
     ]
    },
    {
     "data": {
      "text/plain": [
       "array([[255., 190., 221., 189., 236.],\n",
       "       [ 85.,  77.,  80.,  77.,  79.],\n",
       "       [235., 180., 186., 176., 195.],\n",
       "       [210., 165., 180., 175., 190.],\n",
       "       [ 56.,  42.,  48.,  56.,  59.],\n",
       "       [ 77.,  74.,  87.,  80.,  83.],\n",
       "       [ 78.,  74.,  87.,  80.,  84.]])"
      ]
     },
     "execution_count": 44,
     "metadata": {},
     "output_type": "execute_result"
    }
   ],
   "source": [
    "print(\"The flows on each edge (one edge per row) (one time slice per column\")\n",
    "print(\"NOTE that all flows equal counts and that edge 5 flows have been imputed by the algorithm\")\n",
    "np.dot(a2ij,x.value)"
   ]
  },
  {
   "cell_type": "code",
   "execution_count": 45,
   "metadata": {},
   "outputs": [
    {
     "name": "stdout",
     "output_type": "stream",
     "text": [
      "None\n"
     ]
    }
   ],
   "source": [
    "print(constraints[0].dual_value)"
   ]
  },
  {
   "attachments": {},
   "cell_type": "markdown",
   "metadata": {},
   "source": [
    "# Sparsity constraint from Kurzhansky\n",
    "- Kurzhansky states that l_1 regularization term is built into the problem by sum of route probabilities for each O = 1 and route flow >=0.\n",
    "- Kurzhansky suggests sparsity constraint by enhancing min(aij * x - y)**2 with + sum(w_RO*alpha_RO) where w and alpha are Origin and Route specific, alpha is proportion of traffic on route R from O\n",
    "- This is essentially route choice based on impedance or travel time\n",
    "- He uses travel time\n",
    "- He uses a time-dependent speed profile on the links, which he suggest acquiring externally\n",
    "- His time-dependent speed profile is constant and not density- or flow-related\n",
    "- This is a substitute for a 4-step model with microsimulation\n",
    "- The Kurzhansky sparsity constraint with a single route per O has w_RO = 1 and alpha_RO = 1\n",
    "- I think an impedance model with speed based on calculated volumes on the links could work endogenously\n",
    "    - Incorporate the sum of alpha*w in the solver loss function\n",
    "    - Run the solver with some initialized alpha_RO and w_RO\n",
    "        - Suggest using free-flow speed from OSM or toy model for w and equal distribution of flow over routes for alpha\n",
    "    - Calculate all the link volumes based on the route flows from the solver (mij matrix)\n",
    "    - Calculate the new link speeds (impedance) based on these volumes\n",
    "    - Calculate alpha_Oj, the proportion of trips from origin O on route j\n",
    "    - Set the weights for alpha equal to the flow impedance on the route j\n",
    "    - Repeat until stopping condition -- what is that ?\n",
    "    - How does this extend to queues that last longer than time slices of counts?"
   ]
  },
  {
   "attachments": {},
   "cell_type": "markdown",
   "metadata": {},
   "source": [
    "# $S_{ii'}$ vector from Dey (20)"
   ]
  },
  {
   "cell_type": "code",
   "execution_count": 110,
   "metadata": {},
   "outputs": [
    {
     "name": "stdout",
     "output_type": "stream",
     "text": [
      "[(0, 1), (0, 2), (0, 3), (0, 4), (0, 5), (0, 6), (1, 0), (1, 2), (1, 3), (1, 4), (1, 5), (1, 6), (2, 0), (2, 1), (2, 3), (2, 4), (2, 5), (2, 6), (3, 0), (3, 1), (3, 2), (3, 4), (3, 5), (3, 6), (4, 0), (4, 1), (4, 2), (4, 3), (4, 5), (4, 6), (5, 0), (5, 1), (5, 2), (5, 3), (5, 4), (5, 6), (6, 0), (6, 1), (6, 2), (6, 3), (6, 4), (6, 5)]\n",
      "[ 7.7000e+01  5.9650e+02  4.6000e+02  1.0250e+02  3.9750e+01  3.9750e+01\n",
      "  7.7000e+01  7.1150e+01  4.7250e+01  5.5000e+00 -1.5000e-01 -1.5000e-01\n",
      "  5.9650e+02  7.1150e+01  3.7825e+02  6.5000e+01 -1.4550e+01 -1.4550e+01\n",
      "  4.6000e+02  4.7250e+01  3.7825e+02  7.7500e+01  1.3000e+01  1.3000e+01\n",
      "  1.0250e+02  5.5000e+00  6.5000e+01  7.7500e+01  1.0500e+01  1.0500e+01\n",
      "  3.9750e+01 -1.5000e-01 -1.4550e+01  1.3000e+01  1.0500e+01  2.4300e+01\n",
      "  3.9750e+01 -1.5000e-01 -1.4550e+01  1.3000e+01  1.0500e+01  2.4300e+01]\n"
     ]
    }
   ],
   "source": [
    "#   from statistics import covariance\n",
    "i_iprime=[]\n",
    "sii=[]\n",
    "cov_mat=np.cov(counts)\n",
    "for i in range(counts.shape[0]):\n",
    "        for j in range(counts.shape[0]):\n",
    "            if(i!=j):\n",
    "                sii.append(cov_mat[i,j])\n",
    "                i_iprime.append((i,j))\n",
    "sii=np.array(sii)\n",
    "print(i_iprime)\n",
    "print(sii)"
   ]
  },
  {
   "cell_type": "code",
   "execution_count": 111,
   "metadata": {},
   "outputs": [
    {
     "data": {
      "text/plain": [
       "(42,)"
      ]
     },
     "execution_count": 111,
     "metadata": {},
     "output_type": "execute_result"
    }
   ],
   "source": [
    "sii.shape"
   ]
  },
  {
   "attachments": {},
   "cell_type": "markdown",
   "metadata": {},
   "source": [
    "# $E[Y_i]$ vector from Dey (10 elaborated on page 9)\n",
    "- time-slice average of link counts"
   ]
  },
  {
   "cell_type": "code",
   "execution_count": 112,
   "metadata": {},
   "outputs": [
    {
     "name": "stdout",
     "output_type": "stream",
     "text": [
      "[218.   79.8 194.6 184.   52.   80.4  80.4]\n"
     ]
    }
   ],
   "source": [
    "Ey=np.mean(counts,axis=1)\n",
    "print(Ey)"
   ]
  },
  {
   "cell_type": "code",
   "execution_count": 113,
   "metadata": {},
   "outputs": [
    {
     "data": {
      "text/plain": [
       "array([[1., 1., 0., 1., 1., 0., 1., 0., 0., 0., 0., 0., 0., 0., 0., 0.],\n",
       "       [0., 0., 1., 0., 0., 1., 0., 1., 0., 0., 0., 0., 0., 0., 0., 0.],\n",
       "       [0., 0., 1., 0., 0., 1., 0., 0., 0., 0., 0., 0., 0., 1., 1., 0.],\n",
       "       [0., 1., 1., 0., 0., 0., 0., 0., 0., 1., 0., 0., 0., 1., 0., 1.],\n",
       "       [1., 0., 0., 1., 0., 0., 0., 0., 1., 0., 1., 0., 0., 0., 0., 0.],\n",
       "       [0., 1., 0., 0., 1., 0., 0., 0., 0., 1., 0., 1., 0., 0., 0., 0.],\n",
       "       [1., 0., 0., 0., 0., 0., 0., 0., 1., 0., 0., 0., 1., 0., 0., 0.]])"
      ]
     },
     "execution_count": 113,
     "metadata": {},
     "output_type": "execute_result"
    }
   ],
   "source": [
    "# The adjacency matrix of links (top to bottom) in routes (left to right) times the travel time of the links\n",
    "pi1"
   ]
  },
  {
   "cell_type": "code",
   "execution_count": 114,
   "metadata": {},
   "outputs": [
    {
     "data": {
      "text/plain": [
       "array([3., 3., 3., 2., 2., 2., 1., 1., 2., 2., 1., 1., 1., 2., 1., 1.])"
      ]
     },
     "execution_count": 114,
     "metadata": {},
     "output_type": "execute_result"
    }
   ],
   "source": [
    "# The cost of each route as a sum of the travel time of the links in the route\n",
    "total_route_c=np.sum(pi1,axis=0)\n",
    "total_route_c"
   ]
  },
  {
   "cell_type": "code",
   "execution_count": 115,
   "metadata": {},
   "outputs": [],
   "source": [
    "# Dict of the route names and their costs\n",
    "total_route_c_dict=dict(zip(route_names,total_route_c))"
   ]
  },
  {
   "cell_type": "code",
   "execution_count": 116,
   "metadata": {},
   "outputs": [
    {
     "data": {
      "text/plain": [
       "{('A', 'F', '0'): 3.0,\n",
       " ('A', 'F', '1'): 3.0,\n",
       " ('A', 'F', '2'): 3.0,\n",
       " ('A', 'C', '0'): 2.0,\n",
       " ('A', 'E', '0'): 2.0,\n",
       " ('A', 'E', '1'): 2.0,\n",
       " ('A', 'B', '0'): 1.0,\n",
       " ('A', 'D', '0'): 1.0,\n",
       " ('B', 'F', '0'): 2.0,\n",
       " ('B', 'F', '1'): 2.0,\n",
       " ('B', 'C', '0'): 1.0,\n",
       " ('B', 'E', '0'): 1.0,\n",
       " ('C', 'F', '0'): 1.0,\n",
       " ('D', 'F', '0'): 2.0,\n",
       " ('D', 'E', '0'): 1.0,\n",
       " ('E', 'F', '0'): 1.0}"
      ]
     },
     "execution_count": 116,
     "metadata": {},
     "output_type": "execute_result"
    }
   ],
   "source": [
    "total_route_c_dict"
   ]
  },
  {
   "cell_type": "code",
   "execution_count": 117,
   "metadata": {},
   "outputs": [
    {
     "data": {
      "text/plain": [
       "3"
      ]
     },
     "execution_count": 117,
     "metadata": {},
     "output_type": "execute_result"
    }
   ],
   "source": [
    "nx.dijkstra_path_length(G,\"A\",\"F\")"
   ]
  },
  {
   "cell_type": "code",
   "execution_count": 118,
   "metadata": {},
   "outputs": [
    {
     "name": "stdout",
     "output_type": "stream",
     "text": [
      "1\n"
     ]
    }
   ],
   "source": [
    "plen=dict(nx.all_pairs_dijkstra_path_length(G))\n",
    "#print(len.values())\n",
    "print(plen[\"E\"][\"F\"])"
   ]
  },
  {
   "cell_type": "code",
   "execution_count": 90,
   "metadata": {},
   "outputs": [
    {
     "name": "stdout",
     "output_type": "stream",
     "text": [
      "{('A', 'B'): 1, ('A', 'D'): 1, ('D', 'E'): 1, ('E', 'F'): 1, ('B', 'C'): 1, ('B', 'E'): 1, ('C', 'F'): 1}\n"
     ]
    }
   ],
   "source": [
    "print(edge_weights_dict)"
   ]
  },
  {
   "attachments": {},
   "cell_type": "markdown",
   "metadata": {},
   "source": [
    "# Prepare some helper functions for calculating route travel times"
   ]
  },
  {
   "cell_type": "code",
   "execution_count": 91,
   "metadata": {},
   "outputs": [],
   "source": [
    "def get_av_t(G,curr, d):\n",
    "    paths=nx.all_simple_paths(G,curr,d)\n",
    "    av_t=0\n",
    "    sum=0\n",
    "    for path in map(nx.utils.pairwise,paths):       \n",
    "        for i in list(path):\n",
    "#            print(f\"i {i} weight {edge_weights_dict[i]}\")\n",
    "            tp=edge_weights_dict[i]\n",
    "#            print(f\"tp {tp}\")\n",
    "            av_t=av_t+tp\n",
    "#            print(f\"tav {av_t}\")\n",
    "        sum+=1\n",
    "#    print(f\"sum {sum}\")\n",
    "    if(sum>0):\n",
    "        av_t=av_t/sum#else there are no paths (curr = d)\n",
    "\n",
    "    return(av_t)"
   ]
  },
  {
   "cell_type": "code",
   "execution_count": 92,
   "metadata": {},
   "outputs": [
    {
     "data": {
      "text/plain": [
       "2.0"
      ]
     },
     "execution_count": 92,
     "metadata": {},
     "output_type": "execute_result"
    }
   ],
   "source": [
    "curr=\"A\"\n",
    "d=\"E\"\n",
    "get_av_t(G,curr,d)"
   ]
  },
  {
   "cell_type": "code",
   "execution_count": 93,
   "metadata": {},
   "outputs": [
    {
     "name": "stdout",
     "output_type": "stream",
     "text": [
      "{('A', 'B'): 1, ('A', 'D'): 1, ('B', 'C'): 1, ('B', 'E'): 1, ('C', 'F'): 1, ('D', 'E'): 1, ('E', 'F'): 1}\n"
     ]
    }
   ],
   "source": [
    "print(nx.get_edge_attributes(G,\"weight\"))"
   ]
  },
  {
   "cell_type": "code",
   "execution_count": 94,
   "metadata": {},
   "outputs": [],
   "source": [
    "def get_tr(route,curr, d):\n",
    "    tr=0\n",
    "    es=routes_e_dict[route]\n",
    "    start_i=0\n",
    "    for e in es:\n",
    "        if(e[0])==curr:\n",
    "    #        print(e,curr)\n",
    "            start_i = start_i\n",
    "            break\n",
    "        else:\n",
    "            start_i+=1\n",
    "    #print(f\"start_i {start_i}\")        \n",
    "    for i in range(start_i,len(es)):# add link costs along the route from curr node (start) to the end\n",
    "        tr=tr+(edge_weights_dict[es[i]])\n",
    "    return(tr)"
   ]
  },
  {
   "cell_type": "code",
   "execution_count": 95,
   "metadata": {},
   "outputs": [],
   "source": [
    "tr=get_tr((\"A\",\"F\",\"1\"),\"C\",\"F\")"
   ]
  },
  {
   "cell_type": "code",
   "execution_count": 96,
   "metadata": {},
   "outputs": [
    {
     "data": {
      "text/plain": [
       "0"
      ]
     },
     "execution_count": 96,
     "metadata": {},
     "output_type": "execute_result"
    }
   ],
   "source": [
    "tr"
   ]
  },
  {
   "attachments": {},
   "cell_type": "markdown",
   "metadata": {},
   "source": [
    "# Helper dict of all the nodes in the set of routes on the OD pairs"
   ]
  },
  {
   "cell_type": "code",
   "execution_count": 97,
   "metadata": {},
   "outputs": [
    {
     "name": "stdout",
     "output_type": "stream",
     "text": [
      "od ('A', 'F') has 3 routes over nodes ['C', 'E', 'B', 'D', 'A', 'F']\n",
      "od ('A', 'C') has 1 routes over nodes ['C', 'A', 'B']\n",
      "od ('A', 'E') has 2 routes over nodes ['E', 'A', 'D', 'B']\n",
      "od ('A', 'B') has 1 routes over nodes ['A', 'B']\n",
      "od ('A', 'D') has 1 routes over nodes ['A', 'D']\n",
      "od ('B', 'F') has 2 routes over nodes ['C', 'F', 'E', 'B']\n",
      "od ('B', 'C') has 1 routes over nodes ['C', 'B']\n",
      "od ('B', 'E') has 1 routes over nodes ['E', 'B']\n",
      "od ('C', 'F') has 1 routes over nodes ['C', 'F']\n",
      "od ('D', 'F') has 1 routes over nodes ['F', 'E', 'D']\n",
      "od ('D', 'E') has 1 routes over nodes ['E', 'D']\n",
      "od ('E', 'F') has 1 routes over nodes ['F', 'E']\n"
     ]
    }
   ],
   "source": [
    "#\n",
    "# Get all the nodes in all possible routes for each OD, flatten and make unique\n",
    "# Loses the route sequence however\n",
    "#\n",
    "#for all od choose relation rel\n",
    "od_nodes_dict={}\n",
    "for od in od_pairs:\n",
    "    od_nodes=[]\n",
    "# get all routes on rel\n",
    "    rs=od_route_names_dict[od]\n",
    "    for r in rs:\n",
    "        od_nodes.append(routes_n_dict[r])\n",
    "    xx=flatten(od_nodes)\n",
    "    xx_set=set(xx)\n",
    "    od_nodes=list(xx_set)\n",
    "    print(f\"od {od} has {len(rs)} routes over nodes {od_nodes}\")\n",
    "    od_nodes_dict[od]=od_nodes"
   ]
  },
  {
   "cell_type": "code",
   "execution_count": 98,
   "metadata": {},
   "outputs": [
    {
     "data": {
      "text/plain": [
       "{('A', 'F'): ['C', 'E', 'B', 'D', 'A', 'F'],\n",
       " ('A', 'C'): ['C', 'A', 'B'],\n",
       " ('A', 'E'): ['E', 'A', 'D', 'B'],\n",
       " ('A', 'B'): ['A', 'B'],\n",
       " ('A', 'D'): ['A', 'D'],\n",
       " ('B', 'F'): ['C', 'F', 'E', 'B'],\n",
       " ('B', 'C'): ['C', 'B'],\n",
       " ('B', 'E'): ['E', 'B'],\n",
       " ('C', 'F'): ['C', 'F'],\n",
       " ('D', 'F'): ['F', 'E', 'D'],\n",
       " ('D', 'E'): ['E', 'D'],\n",
       " ('E', 'F'): ['F', 'E']}"
      ]
     },
     "execution_count": 98,
     "metadata": {},
     "output_type": "execute_result"
    }
   ],
   "source": [
    "od_nodes_dict"
   ]
  },
  {
   "attachments": {},
   "cell_type": "markdown",
   "metadata": {},
   "source": [
    "# Helper dict to list all edge tuples (u,v) on the set of routes on the OD pairs"
   ]
  },
  {
   "cell_type": "code",
   "execution_count": 99,
   "metadata": {},
   "outputs": [
    {
     "name": "stdout",
     "output_type": "stream",
     "text": [
      "od ('A', 'F') has 3 routes over edges [('A', 'D'), ('C', 'F'), ('A', 'B'), ('B', 'E'), ('B', 'C'), ('D', 'E'), ('E', 'F')]\n",
      "od ('A', 'C') has 1 routes over edges [('A', 'B'), ('B', 'C')]\n",
      "od ('A', 'E') has 2 routes over edges [('A', 'D'), ('D', 'E'), ('A', 'B'), ('B', 'E')]\n",
      "od ('A', 'B') has 1 routes over edges [('A', 'B')]\n",
      "od ('A', 'D') has 1 routes over edges [('A', 'D')]\n",
      "od ('B', 'F') has 2 routes over edges [('B', 'C'), ('B', 'E'), ('E', 'F'), ('C', 'F')]\n",
      "od ('B', 'C') has 1 routes over edges [('B', 'C')]\n",
      "od ('B', 'E') has 1 routes over edges [('B', 'E')]\n",
      "od ('C', 'F') has 1 routes over edges [('C', 'F')]\n",
      "od ('D', 'F') has 1 routes over edges [('D', 'E'), ('E', 'F')]\n",
      "od ('D', 'E') has 1 routes over edges [('D', 'E')]\n",
      "od ('E', 'F') has 1 routes over edges [('E', 'F')]\n"
     ]
    }
   ],
   "source": [
    "#\n",
    "# Get all the edges in all possible routes for each OD, flatten and make unique\n",
    "# Sequence of the edges in the routes is lost\n",
    "#\n",
    "#for all od choose relation rel\n",
    "od_edges_uv_dict={}\n",
    "for od in od_pairs:\n",
    "    od_edge_names=[]\n",
    "    od_edges_uv=[]\n",
    "# get all routes on rel\n",
    "    rs=od_route_names_dict[od]\n",
    "    for r in rs:\n",
    "        od_edge_names.append(routes_e_dict[r])\n",
    "    xx=flatten(od_edge_names)\n",
    "    xx_set=set(xx)\n",
    "    od_edge_names=list(xx_set)\n",
    "#    print(od_edge_names)\n",
    "    for en in od_edge_names:\n",
    " #       print(en)\n",
    "        od_edges_uv.append(en)\n",
    "    #xx=flatten(od_edges_uv)\n",
    "    #xx_set=set(xx)\n",
    "    #od_edges_uv=list(xx_set)\n",
    "    print(f\"od {od} has {len(rs)} routes over edges {od_edges_uv}\")\n",
    "    od_edges_uv_dict[od]=od_edges_uv"
   ]
  },
  {
   "cell_type": "code",
   "execution_count": 100,
   "metadata": {},
   "outputs": [
    {
     "data": {
      "text/plain": [
       "{('A', 'F'): [('A', 'D'),\n",
       "  ('C', 'F'),\n",
       "  ('A', 'B'),\n",
       "  ('B', 'E'),\n",
       "  ('B', 'C'),\n",
       "  ('D', 'E'),\n",
       "  ('E', 'F')],\n",
       " ('A', 'C'): [('A', 'B'), ('B', 'C')],\n",
       " ('A', 'E'): [('A', 'D'), ('D', 'E'), ('A', 'B'), ('B', 'E')],\n",
       " ('A', 'B'): [('A', 'B')],\n",
       " ('A', 'D'): [('A', 'D')],\n",
       " ('B', 'F'): [('B', 'C'), ('B', 'E'), ('E', 'F'), ('C', 'F')],\n",
       " ('B', 'C'): [('B', 'C')],\n",
       " ('B', 'E'): [('B', 'E')],\n",
       " ('C', 'F'): [('C', 'F')],\n",
       " ('D', 'F'): [('D', 'E'), ('E', 'F')],\n",
       " ('D', 'E'): [('D', 'E')],\n",
       " ('E', 'F'): [('E', 'F')]}"
      ]
     },
     "execution_count": 100,
     "metadata": {},
     "output_type": "execute_result"
    }
   ],
   "source": [
    "od_edges_uv_dict"
   ]
  },
  {
   "attachments": {},
   "cell_type": "markdown",
   "metadata": {},
   "source": [
    "# Calculate the finite-memory Markov P transitions from the travel times on the routes as in Figure 1.\n",
    "# P matrix is i links x j OD relations\n",
    "# $P_i{^j}$ is a sum over M links per route on each OD j this of dim M+1 x M+1 as in Dey (9)\n",
    "# Use only edges with counts on them\n",
    "- Anytime an edge ID is needed, use the \"counts_dict_keys()\" instead of \"edges\" list"
   ]
  },
  {
   "cell_type": "code",
   "execution_count": 101,
   "metadata": {},
   "outputs": [
    {
     "name": "stdout",
     "output_type": "stream",
     "text": [
      "[[0.5 0.5 0.5 0.5 0.  0.  0.  0.  0.  0.  0.  0. ]\n",
      " [0.5 0.  0.5 0.  0.5 0.  0.  0.  0.  0.  0.  0. ]\n",
      " [1.  0.  1.  0.  0.  0.  0.  0.  0.  1.  1.  0. ]\n",
      " [1.  0.  0.  0.  0.  1.  0.  0.  0.  1.  0.  1. ]\n",
      " [0.5 0.5 0.  0.  0.  0.5 0.5 0.  0.  0.  0.  0. ]\n",
      " [0.5 0.  0.5 0.  0.  0.5 0.  0.5 0.  0.  0.  0. ]\n",
      " [1.  0.  0.  0.  0.  1.  0.  0.  1.  0.  0.  0. ]]\n"
     ]
    }
   ],
   "source": [
    "#\n",
    "# It is correct in Dey to use J as the number of OD's\n",
    "# This is smaller than the number of routes\n",
    "# \n",
    "#\n",
    "I=len(countkeys)# all edges with counts\n",
    "J=len(od_pairs)# one column per OD\n",
    "pij=np.zeros((I, J))\n",
    "for j in range(len(od_pairs)):\n",
    "    od=od_pairs[j]\n",
    "    o=od[0]\n",
    "    d=od[1]\n",
    "    # get j for this od\n",
    "    od_nodes=od_nodes_dict[od]\n",
    "    list1=od_edges_uv_dict[od]# all edges in OD routes\n",
    "    list2=[x for x in countkeys]# only edges with counts\n",
    "    od_edges_uv=set(list1)& set(list2)# ONLY USE EDGES WITH COUNTS\n",
    " #   print(\"-------\")\n",
    " #   print(f\"OD {od}\")\n",
    " #   print(f\"od_nodes {od_nodes}\")\n",
    "    od_routes=od_route_names_dict[od]\n",
    " #   print(f\"od_routes {od_routes}\")\n",
    "    for curr in od_nodes:\n",
    " #       print(f\"  curr {curr} d {d}\")\n",
    "#        if(curr==d):\n",
    "#            print(\"hit destination ttav, tr = 0\")\n",
    "        t_av=get_av_t(G,curr,d)\n",
    " #       print(f\"  t_av {t_av}\")\n",
    "        next_nodes=list(G.successors(curr))\n",
    " #       print(f\"  next nodes {next_nodes}\")\n",
    "        for next in next_nodes:\n",
    " #           print(f\"   next {next}\")\n",
    "            if((curr,next) in od_edges_uv):# if (curr,next) in od route-edge tuples WITH COUNTS\n",
    "                for r in od_routes:\n",
    " #                   print(f\"    searching for edge curr next {curr} {next} in route{r}\")\n",
    "                    es=routes_e_dict[r]\n",
    "                    if((curr,next) in es):\n",
    " #                       print(f\"    ** calculating route time for route {r} and edge ({curr},{next}) **\")\n",
    "                        tr=get_tr(r,curr,d)\n",
    "                        i=list2.index((curr,next))\n",
    "                 # get edge for this curr,next and thus i for this edge\n",
    "                        pij[i,j]=np.exp(-2*np.abs((t_av-tr)/t_av))\n",
    " #                       print(f\"i {i} j {j} ({curr},{next}) {od} t_av {t_av} tr {tr} pij {pij[i,j]}\")\n",
    "#\n",
    "# Each entry in pij sums to one over the routes passing through edge i\n",
    "# Need to correct all pij to sum to 1 over the j dimension\n",
    "# The result is actually matrix A (27) in Dey\n",
    "#\n",
    "c_inv=np.zeros(pij.shape[0])\n",
    "tmp=[]\n",
    "for i in range(0,pij.shape[0]):\n",
    "    tmp.append(list2[i][0])\n",
    "for i in range(0,len(tmp)):\n",
    "    c_inv[i]=tmp.count(tmp[i])\n",
    "c=1./c_inv\n",
    "for i in range(0,pij.shape[0]):\n",
    "    pij[i,:]=pij[i,:]*c[i]\n",
    "print(pij)\n",
    "\n",
    "                "
   ]
  },
  {
   "attachments": {},
   "cell_type": "markdown",
   "metadata": {},
   "source": [
    "# $P$ is the matrix of the probability of a vehicle on OD pair j passing over link i (Dey equation 30)"
   ]
  },
  {
   "cell_type": "code",
   "execution_count": 102,
   "metadata": {},
   "outputs": [
    {
     "data": {
      "text/plain": [
       "[('A', 'B'), ('B', 'C'), ('C', 'F')]"
      ]
     },
     "execution_count": 102,
     "metadata": {},
     "output_type": "execute_result"
    }
   ],
   "source": [
    "od_route_e_dict[od_pairs[0]][0]"
   ]
  },
  {
   "cell_type": "code",
   "execution_count": 103,
   "metadata": {},
   "outputs": [
    {
     "data": {
      "text/plain": [
       "1"
      ]
     },
     "execution_count": 103,
     "metadata": {},
     "output_type": "execute_result"
    }
   ],
   "source": [
    "ee=(\"A\",\"D\")\n",
    "list(countkeys).index(ee)"
   ]
  },
  {
   "cell_type": "code",
   "execution_count": 104,
   "metadata": {},
   "outputs": [
    {
     "name": "stdout",
     "output_type": "stream",
     "text": [
      "i,j, ptemp,e,od 0, 0, 0.5,('A', 'B'),('A', 'F')\n",
      "i,j, ptemp,e,od 1, 0, 0.5,('A', 'D'),('A', 'F')\n",
      "i,j, ptemp,e,od 2, 0, 0.5,('D', 'E'),('A', 'F')\n",
      "i,j, ptemp,e,od 3, 0, 0.75,('E', 'F'),('A', 'F')\n",
      "i,j, ptemp,e,od 4, 0, 0.25,('B', 'C'),('A', 'F')\n",
      "i,j, ptemp,e,od 5, 0, 0.25,('B', 'E'),('A', 'F')\n",
      "i,j, ptemp,e,od 6, 0, 0.25,('C', 'F'),('A', 'F')\n",
      "i,j, ptemp,e,od 0, 1, 0.25,('A', 'B'),('A', 'C')\n",
      "i,j, ptemp,e,od 1, 1, 0,('A', 'D'),('A', 'C')\n",
      "i,j, ptemp,e,od 2, 1, 0,('D', 'E'),('A', 'C')\n",
      "i,j, ptemp,e,od 3, 1, 0,('E', 'F'),('A', 'C')\n",
      "i,j, ptemp,e,od 4, 1, 0.25,('B', 'C'),('A', 'C')\n",
      "i,j, ptemp,e,od 5, 1, 0,('B', 'E'),('A', 'C')\n",
      "i,j, ptemp,e,od 6, 1, 0,('C', 'F'),('A', 'C')\n",
      "i,j, ptemp,e,od 0, 2, 0.25,('A', 'B'),('A', 'E')\n",
      "i,j, ptemp,e,od 1, 2, 0.5,('A', 'D'),('A', 'E')\n",
      "i,j, ptemp,e,od 2, 2, 0.5,('D', 'E'),('A', 'E')\n",
      "i,j, ptemp,e,od 3, 2, 0,('E', 'F'),('A', 'E')\n",
      "i,j, ptemp,e,od 4, 2, 0,('B', 'C'),('A', 'E')\n",
      "i,j, ptemp,e,od 5, 2, 0.25,('B', 'E'),('A', 'E')\n",
      "i,j, ptemp,e,od 6, 2, 0,('C', 'F'),('A', 'E')\n",
      "i,j, ptemp,e,od 0, 3, 0.5,('A', 'B'),('A', 'B')\n",
      "i,j, ptemp,e,od 1, 3, 0,('A', 'D'),('A', 'B')\n",
      "i,j, ptemp,e,od 2, 3, 0,('D', 'E'),('A', 'B')\n",
      "i,j, ptemp,e,od 3, 3, 0,('E', 'F'),('A', 'B')\n",
      "i,j, ptemp,e,od 4, 3, 0,('B', 'C'),('A', 'B')\n",
      "i,j, ptemp,e,od 5, 3, 0,('B', 'E'),('A', 'B')\n",
      "i,j, ptemp,e,od 6, 3, 0,('C', 'F'),('A', 'B')\n",
      "i,j, ptemp,e,od 0, 4, 0,('A', 'B'),('A', 'D')\n",
      "i,j, ptemp,e,od 1, 4, 0.5,('A', 'D'),('A', 'D')\n",
      "i,j, ptemp,e,od 2, 4, 0,('D', 'E'),('A', 'D')\n",
      "i,j, ptemp,e,od 3, 4, 0,('E', 'F'),('A', 'D')\n",
      "i,j, ptemp,e,od 4, 4, 0,('B', 'C'),('A', 'D')\n",
      "i,j, ptemp,e,od 5, 4, 0,('B', 'E'),('A', 'D')\n",
      "i,j, ptemp,e,od 6, 4, 0,('C', 'F'),('A', 'D')\n",
      "i,j, ptemp,e,od 0, 5, 0,('A', 'B'),('B', 'F')\n",
      "i,j, ptemp,e,od 1, 5, 0,('A', 'D'),('B', 'F')\n",
      "i,j, ptemp,e,od 2, 5, 0,('D', 'E'),('B', 'F')\n",
      "i,j, ptemp,e,od 3, 5, 0.5,('E', 'F'),('B', 'F')\n",
      "i,j, ptemp,e,od 4, 5, 0.5,('B', 'C'),('B', 'F')\n",
      "i,j, ptemp,e,od 5, 5, 0.5,('B', 'E'),('B', 'F')\n",
      "i,j, ptemp,e,od 6, 5, 0.5,('C', 'F'),('B', 'F')\n",
      "i,j, ptemp,e,od 0, 6, 0,('A', 'B'),('B', 'C')\n",
      "i,j, ptemp,e,od 1, 6, 0,('A', 'D'),('B', 'C')\n",
      "i,j, ptemp,e,od 2, 6, 0,('D', 'E'),('B', 'C')\n",
      "i,j, ptemp,e,od 3, 6, 0,('E', 'F'),('B', 'C')\n",
      "i,j, ptemp,e,od 4, 6, 0.5,('B', 'C'),('B', 'C')\n",
      "i,j, ptemp,e,od 5, 6, 0,('B', 'E'),('B', 'C')\n",
      "i,j, ptemp,e,od 6, 6, 0,('C', 'F'),('B', 'C')\n",
      "i,j, ptemp,e,od 0, 7, 0,('A', 'B'),('B', 'E')\n",
      "i,j, ptemp,e,od 1, 7, 0,('A', 'D'),('B', 'E')\n",
      "i,j, ptemp,e,od 2, 7, 0,('D', 'E'),('B', 'E')\n",
      "i,j, ptemp,e,od 3, 7, 0,('E', 'F'),('B', 'E')\n",
      "i,j, ptemp,e,od 4, 7, 0,('B', 'C'),('B', 'E')\n",
      "i,j, ptemp,e,od 5, 7, 0.5,('B', 'E'),('B', 'E')\n",
      "i,j, ptemp,e,od 6, 7, 0,('C', 'F'),('B', 'E')\n",
      "i,j, ptemp,e,od 0, 8, 0,('A', 'B'),('C', 'F')\n",
      "i,j, ptemp,e,od 1, 8, 0,('A', 'D'),('C', 'F')\n",
      "i,j, ptemp,e,od 2, 8, 0,('D', 'E'),('C', 'F')\n",
      "i,j, ptemp,e,od 3, 8, 0,('E', 'F'),('C', 'F')\n",
      "i,j, ptemp,e,od 4, 8, 0,('B', 'C'),('C', 'F')\n",
      "i,j, ptemp,e,od 5, 8, 0,('B', 'E'),('C', 'F')\n",
      "i,j, ptemp,e,od 6, 8, 1.0,('C', 'F'),('C', 'F')\n",
      "i,j, ptemp,e,od 0, 9, 0,('A', 'B'),('D', 'F')\n",
      "i,j, ptemp,e,od 1, 9, 0,('A', 'D'),('D', 'F')\n",
      "i,j, ptemp,e,od 2, 9, 1.0,('D', 'E'),('D', 'F')\n",
      "i,j, ptemp,e,od 3, 9, 1.0,('E', 'F'),('D', 'F')\n",
      "i,j, ptemp,e,od 4, 9, 0,('B', 'C'),('D', 'F')\n",
      "i,j, ptemp,e,od 5, 9, 0,('B', 'E'),('D', 'F')\n",
      "i,j, ptemp,e,od 6, 9, 0,('C', 'F'),('D', 'F')\n",
      "i,j, ptemp,e,od 0, 10, 0,('A', 'B'),('D', 'E')\n",
      "i,j, ptemp,e,od 1, 10, 0,('A', 'D'),('D', 'E')\n",
      "i,j, ptemp,e,od 2, 10, 1.0,('D', 'E'),('D', 'E')\n",
      "i,j, ptemp,e,od 3, 10, 0,('E', 'F'),('D', 'E')\n",
      "i,j, ptemp,e,od 4, 10, 0,('B', 'C'),('D', 'E')\n",
      "i,j, ptemp,e,od 5, 10, 0,('B', 'E'),('D', 'E')\n",
      "i,j, ptemp,e,od 6, 10, 0,('C', 'F'),('D', 'E')\n",
      "i,j, ptemp,e,od 0, 11, 0,('A', 'B'),('E', 'F')\n",
      "i,j, ptemp,e,od 1, 11, 0,('A', 'D'),('E', 'F')\n",
      "i,j, ptemp,e,od 2, 11, 0,('D', 'E'),('E', 'F')\n",
      "i,j, ptemp,e,od 3, 11, 1.0,('E', 'F'),('E', 'F')\n",
      "i,j, ptemp,e,od 4, 11, 0,('B', 'C'),('E', 'F')\n",
      "i,j, ptemp,e,od 5, 11, 0,('B', 'E'),('E', 'F')\n",
      "i,j, ptemp,e,od 6, 11, 0,('C', 'F'),('E', 'F')\n"
     ]
    }
   ],
   "source": [
    "#\n",
    "# To acquire the P matrix (finite-memory markov transition)\n",
    "# we need to multiply the edge pi's over each j in each OD column\n",
    "# then sum them over all j in the OD relation\n",
    "#\n",
    "# for each column (j in J)\n",
    "#   for each edge (i in I)\n",
    "#       get edge u_v\n",
    "#       find the route for j that u_v is on\n",
    "#       get the pij for all these edges\n",
    "#       multiply them together and add them to next result for next route in j        \n",
    "#\n",
    "I=len(countkeys)# all edges with counts\n",
    "J=len(od_pairs)# one column per OD\n",
    "p=np.zeros((I,J))\n",
    "for j in range(0,J):\n",
    "    for i in range(0,I):\n",
    "        od=od_pairs[j]\n",
    "        ptemp=0\n",
    "        e=list(countkeys)[i]\n",
    " #       print(f\"Running for edge {e} and od {od}\")\n",
    "        rs=od_route_e_dict[od]\n",
    "        for r in rs:\n",
    "            if(e in r):\n",
    " #               print(f\"  Edge {e} in Route {r}\")\n",
    "                product=[]\n",
    "                for ee in r:\n",
    "                    if(ee in list(countkeys)):\n",
    "                        ii=list(countkeys).index(ee)\n",
    "                        product.append(pij[ii,j])\n",
    "#                    print(f\"    edge {ee} product {product}\")\n",
    "                ptemp=np.prod(product)+ptemp\n",
    "        print(f\"i,j, ptemp,e,od {i}, {j}, {ptemp},{e},{od}\")\n",
    "#        print(i,j,ptemp)\n",
    "        p[i,j]=ptemp\n"
   ]
  },
  {
   "cell_type": "code",
   "execution_count": 105,
   "metadata": {},
   "outputs": [
    {
     "data": {
      "text/plain": [
       "array([[0.5 , 0.25, 0.25, 0.5 , 0.  , 0.  , 0.  , 0.  , 0.  , 0.  , 0.  ,\n",
       "        0.  ],\n",
       "       [0.5 , 0.  , 0.5 , 0.  , 0.5 , 0.  , 0.  , 0.  , 0.  , 0.  , 0.  ,\n",
       "        0.  ],\n",
       "       [0.5 , 0.  , 0.5 , 0.  , 0.  , 0.  , 0.  , 0.  , 0.  , 1.  , 1.  ,\n",
       "        0.  ],\n",
       "       [0.75, 0.  , 0.  , 0.  , 0.  , 0.5 , 0.  , 0.  , 0.  , 1.  , 0.  ,\n",
       "        1.  ],\n",
       "       [0.25, 0.25, 0.  , 0.  , 0.  , 0.5 , 0.5 , 0.  , 0.  , 0.  , 0.  ,\n",
       "        0.  ],\n",
       "       [0.25, 0.  , 0.25, 0.  , 0.  , 0.5 , 0.  , 0.5 , 0.  , 0.  , 0.  ,\n",
       "        0.  ],\n",
       "       [0.25, 0.  , 0.  , 0.  , 0.  , 0.5 , 0.  , 0.  , 1.  , 0.  , 0.  ,\n",
       "        0.  ]])"
      ]
     },
     "execution_count": 105,
     "metadata": {},
     "output_type": "execute_result"
    }
   ],
   "source": [
    "p"
   ]
  },
  {
   "attachments": {},
   "cell_type": "markdown",
   "metadata": {},
   "source": [
    "# $B_{ii^{'}}$ from Dey equation 20"
   ]
  },
  {
   "cell_type": "code",
   "execution_count": 106,
   "metadata": {},
   "outputs": [
    {
     "name": "stdout",
     "output_type": "stream",
     "text": [
      "42 12\n"
     ]
    }
   ],
   "source": [
    "xdim=(p.shape[0]*(p.shape[0]-1))\n",
    "ydim=p.shape[1]\n",
    "print(xdim,ydim)\n",
    "bii=np.zeros((xdim,ydim))\n",
    "for j in range(0,p.shape[1]):\n",
    "    ipindex=0\n",
    "    for i in range(0,p.shape[0]):\n",
    "        for iprime in range(0,p.shape[0]):\n",
    "            if(i!=iprime):\n",
    "                bii[ipindex,j]=p[i,j]*p[iprime,j]\n",
    "#                print(i, ipindex,j,p[i,j]*p[iprime,j])\n",
    "                ipindex+=1"
   ]
  },
  {
   "attachments": {},
   "cell_type": "markdown",
   "metadata": {},
   "source": [
    "# Time constraints can be added here (Dey eqn 25)"
   ]
  },
  {
   "attachments": {},
   "cell_type": "markdown",
   "metadata": {},
   "source": [
    "# Putting the model together"
   ]
  },
  {
   "cell_type": "code",
   "execution_count": 119,
   "metadata": {},
   "outputs": [
    {
     "name": "stdout",
     "output_type": "stream",
     "text": [
      "From Dey equation 20 Sii' [ 7.7000e+01  5.9650e+02  4.6000e+02  1.0250e+02  3.9750e+01  3.9750e+01\n",
      "  7.7000e+01  7.1150e+01  4.7250e+01  5.5000e+00 -1.5000e-01 -1.5000e-01\n",
      "  5.9650e+02  7.1150e+01  3.7825e+02  6.5000e+01 -1.4550e+01 -1.4550e+01\n",
      "  4.6000e+02  4.7250e+01  3.7825e+02  7.7500e+01  1.3000e+01  1.3000e+01\n",
      "  1.0250e+02  5.5000e+00  6.5000e+01  7.7500e+01  1.0500e+01  1.0500e+01\n",
      "  3.9750e+01 -1.5000e-01 -1.4550e+01  1.3000e+01  1.0500e+01  2.4300e+01\n",
      "  3.9750e+01 -1.5000e-01 -1.4550e+01  1.3000e+01  1.0500e+01  2.4300e+01]\n",
      "From Dey equation 10 Eyi [218.   79.8 194.6 184.   52.   80.4  80.4]\n",
      "From Dey equation 21 Bii [[0.25   0.     0.125  0.     0.     0.     0.     0.     0.     0.\n",
      "  0.     0.    ]\n",
      " [0.25   0.     0.125  0.     0.     0.     0.     0.     0.     0.\n",
      "  0.     0.    ]\n",
      " [0.375  0.     0.     0.     0.     0.     0.     0.     0.     0.\n",
      "  0.     0.    ]\n",
      " [0.125  0.0625 0.     0.     0.     0.     0.     0.     0.     0.\n",
      "  0.     0.    ]\n",
      " [0.125  0.     0.0625 0.     0.     0.     0.     0.     0.     0.\n",
      "  0.     0.    ]\n",
      " [0.125  0.     0.     0.     0.     0.     0.     0.     0.     0.\n",
      "  0.     0.    ]\n",
      " [0.25   0.     0.125  0.     0.     0.     0.     0.     0.     0.\n",
      "  0.     0.    ]\n",
      " [0.25   0.     0.25   0.     0.     0.     0.     0.     0.     0.\n",
      "  0.     0.    ]\n",
      " [0.375  0.     0.     0.     0.     0.     0.     0.     0.     0.\n",
      "  0.     0.    ]\n",
      " [0.125  0.     0.     0.     0.     0.     0.     0.     0.     0.\n",
      "  0.     0.    ]\n",
      " [0.125  0.     0.125  0.     0.     0.     0.     0.     0.     0.\n",
      "  0.     0.    ]\n",
      " [0.125  0.     0.     0.     0.     0.     0.     0.     0.     0.\n",
      "  0.     0.    ]\n",
      " [0.25   0.     0.125  0.     0.     0.     0.     0.     0.     0.\n",
      "  0.     0.    ]\n",
      " [0.25   0.     0.25   0.     0.     0.     0.     0.     0.     0.\n",
      "  0.     0.    ]\n",
      " [0.375  0.     0.     0.     0.     0.     0.     0.     0.     1.\n",
      "  0.     0.    ]\n",
      " [0.125  0.     0.     0.     0.     0.     0.     0.     0.     0.\n",
      "  0.     0.    ]\n",
      " [0.125  0.     0.125  0.     0.     0.     0.     0.     0.     0.\n",
      "  0.     0.    ]\n",
      " [0.125  0.     0.     0.     0.     0.     0.     0.     0.     0.\n",
      "  0.     0.    ]\n",
      " [0.375  0.     0.     0.     0.     0.     0.     0.     0.     0.\n",
      "  0.     0.    ]\n",
      " [0.375  0.     0.     0.     0.     0.     0.     0.     0.     0.\n",
      "  0.     0.    ]\n",
      " [0.375  0.     0.     0.     0.     0.     0.     0.     0.     1.\n",
      "  0.     0.    ]\n",
      " [0.1875 0.     0.     0.     0.     0.25   0.     0.     0.     0.\n",
      "  0.     0.    ]\n",
      " [0.1875 0.     0.     0.     0.     0.25   0.     0.     0.     0.\n",
      "  0.     0.    ]\n",
      " [0.1875 0.     0.     0.     0.     0.25   0.     0.     0.     0.\n",
      "  0.     0.    ]\n",
      " [0.125  0.0625 0.     0.     0.     0.     0.     0.     0.     0.\n",
      "  0.     0.    ]\n",
      " [0.125  0.     0.     0.     0.     0.     0.     0.     0.     0.\n",
      "  0.     0.    ]\n",
      " [0.125  0.     0.     0.     0.     0.     0.     0.     0.     0.\n",
      "  0.     0.    ]\n",
      " [0.1875 0.     0.     0.     0.     0.25   0.     0.     0.     0.\n",
      "  0.     0.    ]\n",
      " [0.0625 0.     0.     0.     0.     0.25   0.     0.     0.     0.\n",
      "  0.     0.    ]\n",
      " [0.0625 0.     0.     0.     0.     0.25   0.     0.     0.     0.\n",
      "  0.     0.    ]\n",
      " [0.125  0.     0.0625 0.     0.     0.     0.     0.     0.     0.\n",
      "  0.     0.    ]\n",
      " [0.125  0.     0.125  0.     0.     0.     0.     0.     0.     0.\n",
      "  0.     0.    ]\n",
      " [0.125  0.     0.125  0.     0.     0.     0.     0.     0.     0.\n",
      "  0.     0.    ]\n",
      " [0.1875 0.     0.     0.     0.     0.25   0.     0.     0.     0.\n",
      "  0.     0.    ]\n",
      " [0.0625 0.     0.     0.     0.     0.25   0.     0.     0.     0.\n",
      "  0.     0.    ]\n",
      " [0.0625 0.     0.     0.     0.     0.25   0.     0.     0.     0.\n",
      "  0.     0.    ]\n",
      " [0.125  0.     0.     0.     0.     0.     0.     0.     0.     0.\n",
      "  0.     0.    ]\n",
      " [0.125  0.     0.     0.     0.     0.     0.     0.     0.     0.\n",
      "  0.     0.    ]\n",
      " [0.125  0.     0.     0.     0.     0.     0.     0.     0.     0.\n",
      "  0.     0.    ]\n",
      " [0.1875 0.     0.     0.     0.     0.25   0.     0.     0.     0.\n",
      "  0.     0.    ]\n",
      " [0.0625 0.     0.     0.     0.     0.25   0.     0.     0.     0.\n",
      "  0.     0.    ]\n",
      " [0.0625 0.     0.     0.     0.     0.25   0.     0.     0.     0.\n",
      "  0.     0.    ]]\n",
      "Fronm Dey equation 21 P [[0.5  0.25 0.25 0.5  0.   0.   0.   0.   0.   0.   0.   0.  ]\n",
      " [0.5  0.   0.5  0.   0.5  0.   0.   0.   0.   0.   0.   0.  ]\n",
      " [0.5  0.   0.5  0.   0.   0.   0.   0.   0.   1.   1.   0.  ]\n",
      " [0.75 0.   0.   0.   0.   0.5  0.   0.   0.   1.   0.   1.  ]\n",
      " [0.25 0.25 0.   0.   0.   0.5  0.5  0.   0.   0.   0.   0.  ]\n",
      " [0.25 0.   0.25 0.   0.   0.5  0.   0.5  0.   0.   0.   0.  ]\n",
      " [0.25 0.   0.   0.   0.   0.5  0.   0.   1.   0.   0.   0.  ]]\n",
      "Dimension of equation lefthand side is (7,) and (42,)\n",
      "Dimension of equation righthand side is (7, 12) and (42, 12)\n"
     ]
    }
   ],
   "source": [
    "print(f\"From Dey equation 20 Sii' {sii}\")\n",
    "print(f\"From Dey equation 10 Eyi {Ey}\")\n",
    "print(f\"From Dey equation 21 Bii {bii}\")\n",
    "print(f\"Fronm Dey equation 21 P {p}\")\n",
    "\n",
    "print(f\"Dimension of equation lefthand side is {Ey.shape} and {sii.shape}\")\n",
    "print(f\"Dimension of equation righthand side is {p.shape} and {bii.shape}\")"
   ]
  },
  {
   "attachments": {},
   "cell_type": "markdown",
   "metadata": {},
   "source": [
    "# $\\Lambda$ the initial OD demand is still not known\n",
    "# Continue with the EM implementation (Dey 13) based on Vardi(1996)"
   ]
  },
  {
   "cell_type": "code",
   "execution_count": 120,
   "metadata": {},
   "outputs": [],
   "source": [
    "# Updates $\\lamdba_j$ (j is an OD relation in set J) each step\n",
    "# Variables as per Dey\n",
    "\n",
    "def em(lam):\n",
    "    lam_next=np.zeros([len(od_pairs)])\n",
    "    R=bii.shape[0]\n",
    "    I=len(countkeys)\n",
    "    J=len(od_pairs)\n",
    " #   print(R,I,J)\n",
    "    for j in range(0,J):\n",
    "#\n",
    "# Righthand term\n",
    "#\n",
    "        sumbs=0\n",
    "        sumpe=0\n",
    "        for i in range(I,R):\n",
    " #           print(f\"iii {i}\")\n",
    "            sumbl=0\n",
    "            for l in range(0,J):\n",
    " #               print(f\"j {l}\")\n",
    "                sumbl=sumbl+bii[i,l]*lam[l]\n",
    "                if(sumbl==0):\n",
    "                    sumbl=1.\n",
    "            sumbs=sumbs+(bii[i,j]*sii[i])/sumbl\n",
    "#            print(f\"sumbs {sumbs} sumbl {sumbl} bii[i,j] {bii[i,j]} sii[i] {sii[i]}\")\n",
    "\n",
    "        for i in range(0,I):\n",
    "            sumpl=0\n",
    "#            print(f\"i {i}\")\n",
    "            for l in range(0,J):\n",
    "#                print(f\"l {l}\")\n",
    "                sumpl=sumpl+p[i,l]*lam[l]\n",
    "            sumpe=sumpe+p[i,j]*Ey[i]/sumpl\n",
    " #           print(f\"sumpl {sumpl} sumpl {sumpl} p[i,j] {p[i,j]} ey[i] {Ey[i]}\")\n",
    "#\n",
    "# Sum of above two terms sumpe, sumbs to be multiplied by next term\n",
    "#\n",
    "        denom=0\n",
    "        for i in range(I,R):\n",
    "            denom=denom+bii[i,j]\n",
    "        for i in range(0,I):\n",
    "            denom=denom+p[i,j]\n",
    "        term=lam[j]/denom\n",
    "#\n",
    "# Product for each j\n",
    "#\n",
    "#        print(f\"denom {denom}\")\n",
    "#        print(f\"sumpe {sumpe}\")\n",
    "#        print(f\"sumbs {sumbs}\")\n",
    "        lam_next[j]=term*(sumpe+sumbs)\n",
    "#    print(f\"lam {lam_next}\")    \n",
    "    return(lam_next)"
   ]
  },
  {
   "cell_type": "code",
   "execution_count": 121,
   "metadata": {},
   "outputs": [
    {
     "name": "stdout",
     "output_type": "stream",
     "text": [
      "[5 4 9 7 2 7 9 2 6 9 0 2]\n"
     ]
    }
   ],
   "source": [
    "max_iters=100\n",
    "lam_out=np.zeros([len(od_pairs),max_iters])\n",
    "#lam_in=[177,41,181,11,62,14]\n",
    "\n",
    "lam_in=np.random.randint(0,high=10,size=len(od_pairs))\n",
    "print(lam_in)\n",
    "for n in range(0,max_iters):\n",
    "    lam_out[:,n]=em(lam_in)\n",
    "    lam_in=lam_out[:,n]"
   ]
  },
  {
   "attachments": {},
   "cell_type": "markdown",
   "metadata": {},
   "source": [
    "# The result is very sensitive to the initial $\\Lambda$ inputs (the sample of the OD Matrix)"
   ]
  },
  {
   "cell_type": "code",
   "execution_count": 122,
   "metadata": {},
   "outputs": [
    {
     "name": "stdout",
     "output_type": "stream",
     "text": [
      "[317.403  20.416   0.004 108.238   0.      0.      0.      1.631   1.554\n",
      " 144.047   0.      0.   ]\n"
     ]
    }
   ],
   "source": [
    "with np.printoptions(precision=3, suppress=True):\n",
    "    print(lam_out[:,-1])"
   ]
  },
  {
   "cell_type": "code",
   "execution_count": 123,
   "metadata": {},
   "outputs": [
    {
     "name": "stdout",
     "output_type": "stream",
     "text": [
      "593.2930792368466\n"
     ]
    }
   ],
   "source": [
    "print(np.sum(lam_out[:,-1]))"
   ]
  },
  {
   "cell_type": "code",
   "execution_count": null,
   "metadata": {},
   "outputs": [],
   "source": []
  }
 ],
 "metadata": {
  "kernelspec": {
   "display_name": "p3712torch",
   "language": "python",
   "name": "python3"
  },
  "language_info": {
   "codemirror_mode": {
    "name": "ipython",
    "version": 3
   },
   "file_extension": ".py",
   "mimetype": "text/x-python",
   "name": "python",
   "nbconvert_exporter": "python",
   "pygments_lexer": "ipython3",
   "version": "3.9.0"
  },
  "orig_nbformat": 4
 },
 "nbformat": 4,
 "nbformat_minor": 2
}
